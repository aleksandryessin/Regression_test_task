{
 "cells": [
  {
   "cell_type": "markdown",
   "metadata": {
    "toc": true
   },
   "source": [
    "<h1>Table of Contents<span class=\"tocSkip\"></span></h1>\n",
    "<div class=\"toc\"><ul class=\"toc-item\"><li><span><a href=\"#Import-libraries\" data-toc-modified-id=\"Import-libraries-1\"><span class=\"toc-item-num\">1&nbsp;&nbsp;</span>Import libraries</a></span></li><li><span><a href=\"#Download-the-data\" data-toc-modified-id=\"Download-the-data-2\"><span class=\"toc-item-num\">2&nbsp;&nbsp;</span>Download the data</a></span></li><li><span><a href=\"#Preprocessing\" data-toc-modified-id=\"Preprocessing-3\"><span class=\"toc-item-num\">3&nbsp;&nbsp;</span>Preprocessing</a></span><ul class=\"toc-item\"><li><span><a href=\"#Statistics\" data-toc-modified-id=\"Statistics-3.1\"><span class=\"toc-item-num\">3.1&nbsp;&nbsp;</span>Statistics</a></span></li><li><span><a href=\"#Missing-values\" data-toc-modified-id=\"Missing-values-3.2\"><span class=\"toc-item-num\">3.2&nbsp;&nbsp;</span>Missing values</a></span></li></ul></li><li><span><a href=\"#Exploratory-Data-Analysis\" data-toc-modified-id=\"Exploratory-Data-Analysis-4\"><span class=\"toc-item-num\">4&nbsp;&nbsp;</span>Exploratory Data Analysis</a></span><ul class=\"toc-item\"><li><span><a href=\"#Detecting-Outliers-with-Z-score\" data-toc-modified-id=\"Detecting-Outliers-with-Z-score-4.1\"><span class=\"toc-item-num\">4.1&nbsp;&nbsp;</span>Detecting Outliers with Z-score</a></span><ul class=\"toc-item\"><li><span><a href=\"#Data-with-outliers\" data-toc-modified-id=\"Data-with-outliers-4.1.1\"><span class=\"toc-item-num\">4.1.1&nbsp;&nbsp;</span>Data with outliers</a></span></li><li><span><a href=\"#Data-without-outliers\" data-toc-modified-id=\"Data-without-outliers-4.1.2\"><span class=\"toc-item-num\">4.1.2&nbsp;&nbsp;</span>Data without outliers</a></span></li></ul></li><li><span><a href=\"#Checking-the-data-for-normal-distribution\" data-toc-modified-id=\"Checking-the-data-for-normal-distribution-4.2\"><span class=\"toc-item-num\">4.2&nbsp;&nbsp;</span>Checking the data for normal distribution</a></span></li><li><span><a href=\"#Finding-dependencies\" data-toc-modified-id=\"Finding-dependencies-4.3\"><span class=\"toc-item-num\">4.3&nbsp;&nbsp;</span>Finding dependencies</a></span></li><li><span><a href=\"#Stationarity\" data-toc-modified-id=\"Stationarity-4.4\"><span class=\"toc-item-num\">4.4&nbsp;&nbsp;</span>Stationarity</a></span></li></ul></li><li><span><a href=\"#Building-machine-learning-models\" data-toc-modified-id=\"Building-machine-learning-models-5\"><span class=\"toc-item-num\">5&nbsp;&nbsp;</span>Building machine learning models</a></span><ul class=\"toc-item\"><li><span><a href=\"#Splitting-data-into-train-and-test-datasets\" data-toc-modified-id=\"Splitting-data-into-train-and-test-datasets-5.1\"><span class=\"toc-item-num\">5.1&nbsp;&nbsp;</span>Splitting data into train and test datasets</a></span></li><li><span><a href=\"#XGBRegressor\" data-toc-modified-id=\"XGBRegressor-5.2\"><span class=\"toc-item-num\">5.2&nbsp;&nbsp;</span>XGBRegressor</a></span><ul class=\"toc-item\"><li><span><a href=\"#Feature-importance\" data-toc-modified-id=\"Feature-importance-5.2.1\"><span class=\"toc-item-num\">5.2.1&nbsp;&nbsp;</span>Feature importance</a></span></li><li><span><a href=\"#Visualization-of-predicted-values-for-XGB\" data-toc-modified-id=\"Visualization-of-predicted-values-for-XGB-5.2.2\"><span class=\"toc-item-num\">5.2.2&nbsp;&nbsp;</span>Visualization of predicted values for XGB</a></span></li></ul></li><li><span><a href=\"#Comparing-with-another-ML-methods\" data-toc-modified-id=\"Comparing-with-another-ML-methods-5.3\"><span class=\"toc-item-num\">5.3&nbsp;&nbsp;</span>Comparing with another ML methods</a></span><ul class=\"toc-item\"><li><span><a href=\"#LinearRegression\" data-toc-modified-id=\"LinearRegression-5.3.1\"><span class=\"toc-item-num\">5.3.1&nbsp;&nbsp;</span>LinearRegression</a></span></li><li><span><a href=\"#RandomForestRegressor\" data-toc-modified-id=\"RandomForestRegressor-5.3.2\"><span class=\"toc-item-num\">5.3.2&nbsp;&nbsp;</span>RandomForestRegressor</a></span></li><li><span><a href=\"#GradientBoostingRegressor\" data-toc-modified-id=\"GradientBoostingRegressor-5.3.3\"><span class=\"toc-item-num\">5.3.3&nbsp;&nbsp;</span>GradientBoostingRegressor</a></span></li><li><span><a href=\"#KNeighborsRegressor\" data-toc-modified-id=\"KNeighborsRegressor-5.3.4\"><span class=\"toc-item-num\">5.3.4&nbsp;&nbsp;</span>KNeighborsRegressor</a></span></li></ul></li><li><span><a href=\"#Plotting-metrics'-results\" data-toc-modified-id=\"Plotting-metrics'-results-5.4\"><span class=\"toc-item-num\">5.4&nbsp;&nbsp;</span>Plotting metrics' results</a></span></li><li><span><a href=\"#Plotting-the-best-result\" data-toc-modified-id=\"Plotting-the-best-result-5.5\"><span class=\"toc-item-num\">5.5&nbsp;&nbsp;</span>Plotting the best result</a></span></li></ul></li><li><span><a href=\"#Finding-the-best-GradientBosting-model\" data-toc-modified-id=\"Finding-the-best-GradientBosting-model-6\"><span class=\"toc-item-num\">6&nbsp;&nbsp;</span>Finding the best GradientBosting model</a></span><ul class=\"toc-item\"><li><span><a href=\"#Feature-importance\" data-toc-modified-id=\"Feature-importance-6.1\"><span class=\"toc-item-num\">6.1&nbsp;&nbsp;</span>Feature importance</a></span><ul class=\"toc-item\"><li><span><a href=\"#Trying-GradientBoosting-model-with-a-lower-amount-of-features\" data-toc-modified-id=\"Trying-GradientBoosting-model-with-a-lower-amount-of-features-6.1.1\"><span class=\"toc-item-num\">6.1.1&nbsp;&nbsp;</span>Trying GradientBoosting model with a lower amount of features</a></span></li></ul></li><li><span><a href=\"#GridSearchCV\" data-toc-modified-id=\"GridSearchCV-6.2\"><span class=\"toc-item-num\">6.2&nbsp;&nbsp;</span>GridSearchCV</a></span><ul class=\"toc-item\"><li><span><a href=\"#Finding-the-best-hyperparameters\" data-toc-modified-id=\"Finding-the-best-hyperparameters-6.2.1\"><span class=\"toc-item-num\">6.2.1&nbsp;&nbsp;</span>Finding the best hyperparameters</a></span></li></ul></li><li><span><a href=\"#Visualizing-the-final-results-in-the-full-real-dataset\" data-toc-modified-id=\"Visualizing-the-final-results-in-the-full-real-dataset-6.3\"><span class=\"toc-item-num\">6.3&nbsp;&nbsp;</span>Visualizing the final results in the full real dataset</a></span></li><li><span><a href=\"#Calculating-the-metrics-for-the-best-model\" data-toc-modified-id=\"Calculating-the-metrics-for-the-best-model-6.4\"><span class=\"toc-item-num\">6.4&nbsp;&nbsp;</span>Calculating the metrics for the best model</a></span><ul class=\"toc-item\"><li><span><a href=\"#Calculating-the-metrics-to-unseen-data\" data-toc-modified-id=\"Calculating-the-metrics-to-unseen-data-6.4.1\"><span class=\"toc-item-num\">6.4.1&nbsp;&nbsp;</span>Calculating the metrics to unseen data</a></span></li><li><span><a href=\"#Calculating-the-metrics-to-the-whole-dataset\" data-toc-modified-id=\"Calculating-the-metrics-to-the-whole-dataset-6.4.2\"><span class=\"toc-item-num\">6.4.2&nbsp;&nbsp;</span>Calculating the metrics to the whole dataset</a></span></li><li><span><a href=\"#Calculating-the-metrics-to-the-initial-dataset\" data-toc-modified-id=\"Calculating-the-metrics-to-the-initial-dataset-6.4.3\"><span class=\"toc-item-num\">6.4.3&nbsp;&nbsp;</span>Calculating the metrics to the initial dataset</a></span></li></ul></li></ul></li><li><span><a href=\"#Final-Resume\" data-toc-modified-id=\"Final-Resume-7\"><span class=\"toc-item-num\">7&nbsp;&nbsp;</span>Final Resume</a></span></li></ul></div>"
   ]
  },
  {
   "cell_type": "markdown",
   "metadata": {},
   "source": [
    "![The task](images/task.png)"
   ]
  },
  {
   "cell_type": "markdown",
   "metadata": {},
   "source": [
    "# Import libraries"
   ]
  },
  {
   "cell_type": "code",
   "execution_count": 1,
   "metadata": {},
   "outputs": [],
   "source": [
    "import numpy as np\n",
    "import pandas as pd\n",
    "import matplotlib.pyplot as plt\n",
    "import seaborn as sns\n",
    "import plotly.express as px\n",
    "import plotly.graph_objects as go\n",
    "from prettytable import PrettyTable\n",
    "from IPython.display import display\n",
    "from scipy import stats\n",
    "from statsmodels.tsa.stattools import adfuller\n",
    "from xgboost import XGBRegressor\n",
    "from sklearn.preprocessing import  MinMaxScaler, StandardScaler\n",
    "from sklearn.model_selection import train_test_split\n",
    "from sklearn.neighbors import KNeighborsRegressor\n",
    "from sklearn.ensemble import GradientBoostingRegressor, RandomForestRegressor\n",
    "from sklearn.linear_model import LinearRegression\n",
    "from sklearn.svm import SVR\n",
    "from sklearn.model_selection import GridSearchCV \n",
    "from sklearn.model_selection import TimeSeriesSplit\n",
    "from sklearn.metrics import mean_squared_error, mean_absolute_error, mean_absolute_percentage_error\n",
    "\n",
    "%matplotlib inline"
   ]
  },
  {
   "cell_type": "markdown",
   "metadata": {},
   "source": [
    "# Download the data"
   ]
  },
  {
   "cell_type": "code",
   "execution_count": 2,
   "metadata": {},
   "outputs": [
    {
     "data": {
      "text/html": [
       "<div>\n",
       "<style scoped>\n",
       "    .dataframe tbody tr th:only-of-type {\n",
       "        vertical-align: middle;\n",
       "    }\n",
       "\n",
       "    .dataframe tbody tr th {\n",
       "        vertical-align: top;\n",
       "    }\n",
       "\n",
       "    .dataframe thead th {\n",
       "        text-align: right;\n",
       "    }\n",
       "</style>\n",
       "<table border=\"1\" class=\"dataframe\">\n",
       "  <thead>\n",
       "    <tr style=\"text-align: right;\">\n",
       "      <th></th>\n",
       "      <th>V_DATE</th>\n",
       "      <th>т2267</th>\n",
       "      <th>т2268</th>\n",
       "      <th>т2379</th>\n",
       "      <th>т2380</th>\n",
       "      <th>т2266</th>\n",
       "      <th>т2266/2</th>\n",
       "      <th>т2266/3</th>\n",
       "      <th>т2266/4</th>\n",
       "      <th>т2270</th>\n",
       "      <th>т2270/3</th>\n",
       "      <th>техн104</th>\n",
       "      <th>т2263</th>\n",
       "    </tr>\n",
       "  </thead>\n",
       "  <tbody>\n",
       "    <tr>\n",
       "      <th>0</th>\n",
       "      <td>2020-08-01 00:00:00</td>\n",
       "      <td>77915.974685</td>\n",
       "      <td>77889.115676</td>\n",
       "      <td>602.987379</td>\n",
       "      <td>0.0</td>\n",
       "      <td>379396.596650</td>\n",
       "      <td>1815.736572</td>\n",
       "      <td>24.264420</td>\n",
       "      <td>896.875000</td>\n",
       "      <td>4324.767273</td>\n",
       "      <td>15.2</td>\n",
       "      <td>15.000000</td>\n",
       "      <td>240.600980</td>\n",
       "    </tr>\n",
       "    <tr>\n",
       "      <th>1</th>\n",
       "      <td>2020-08-01 00:01:00</td>\n",
       "      <td>78294.718755</td>\n",
       "      <td>78271.682542</td>\n",
       "      <td>600.824843</td>\n",
       "      <td>0.0</td>\n",
       "      <td>338987.432843</td>\n",
       "      <td>1875.114014</td>\n",
       "      <td>24.200001</td>\n",
       "      <td>897.693542</td>\n",
       "      <td>4241.105630</td>\n",
       "      <td>15.2</td>\n",
       "      <td>14.922112</td>\n",
       "      <td>241.615763</td>\n",
       "    </tr>\n",
       "    <tr>\n",
       "      <th>2</th>\n",
       "      <td>2020-08-01 00:02:00</td>\n",
       "      <td>78007.556062</td>\n",
       "      <td>77979.785548</td>\n",
       "      <td>602.037766</td>\n",
       "      <td>0.0</td>\n",
       "      <td>328669.419080</td>\n",
       "      <td>1827.952393</td>\n",
       "      <td>24.200001</td>\n",
       "      <td>896.916321</td>\n",
       "      <td>4186.155354</td>\n",
       "      <td>15.2</td>\n",
       "      <td>14.900010</td>\n",
       "      <td>243.259191</td>\n",
       "    </tr>\n",
       "    <tr>\n",
       "      <th>3</th>\n",
       "      <td>2020-08-01 00:03:00</td>\n",
       "      <td>78255.374891</td>\n",
       "      <td>78243.088911</td>\n",
       "      <td>603.667469</td>\n",
       "      <td>0.0</td>\n",
       "      <td>366827.243284</td>\n",
       "      <td>1867.092773</td>\n",
       "      <td>24.200001</td>\n",
       "      <td>896.875000</td>\n",
       "      <td>4378.600955</td>\n",
       "      <td>15.2</td>\n",
       "      <td>14.900010</td>\n",
       "      <td>243.322008</td>\n",
       "    </tr>\n",
       "    <tr>\n",
       "      <th>4</th>\n",
       "      <td>2020-08-01 00:04:00</td>\n",
       "      <td>78474.798964</td>\n",
       "      <td>78439.012732</td>\n",
       "      <td>602.012647</td>\n",
       "      <td>0.0</td>\n",
       "      <td>422759.212899</td>\n",
       "      <td>1898.480225</td>\n",
       "      <td>24.245493</td>\n",
       "      <td>896.234375</td>\n",
       "      <td>4155.943112</td>\n",
       "      <td>15.2</td>\n",
       "      <td>14.825890</td>\n",
       "      <td>243.848389</td>\n",
       "    </tr>\n",
       "    <tr>\n",
       "      <th>5</th>\n",
       "      <td>2020-08-01 00:05:00</td>\n",
       "      <td>78332.742317</td>\n",
       "      <td>78285.913066</td>\n",
       "      <td>602.037291</td>\n",
       "      <td>0.0</td>\n",
       "      <td>406646.017123</td>\n",
       "      <td>1874.793701</td>\n",
       "      <td>24.299999</td>\n",
       "      <td>894.539062</td>\n",
       "      <td>4275.910614</td>\n",
       "      <td>15.2</td>\n",
       "      <td>14.800000</td>\n",
       "      <td>244.410656</td>\n",
       "    </tr>\n",
       "    <tr>\n",
       "      <th>6</th>\n",
       "      <td>2020-08-01 00:06:00</td>\n",
       "      <td>78311.518065</td>\n",
       "      <td>78269.373396</td>\n",
       "      <td>603.419222</td>\n",
       "      <td>0.0</td>\n",
       "      <td>367091.480249</td>\n",
       "      <td>1873.461548</td>\n",
       "      <td>24.299999</td>\n",
       "      <td>893.350403</td>\n",
       "      <td>4444.561105</td>\n",
       "      <td>15.2</td>\n",
       "      <td>14.800000</td>\n",
       "      <td>244.248640</td>\n",
       "    </tr>\n",
       "  </tbody>\n",
       "</table>\n",
       "</div>"
      ],
      "text/plain": [
       "                V_DATE         т2267         т2268       т2379  т2380  \\\n",
       "0  2020-08-01 00:00:00  77915.974685  77889.115676  602.987379    0.0   \n",
       "1  2020-08-01 00:01:00  78294.718755  78271.682542  600.824843    0.0   \n",
       "2  2020-08-01 00:02:00  78007.556062  77979.785548  602.037766    0.0   \n",
       "3  2020-08-01 00:03:00  78255.374891  78243.088911  603.667469    0.0   \n",
       "4  2020-08-01 00:04:00  78474.798964  78439.012732  602.012647    0.0   \n",
       "5  2020-08-01 00:05:00  78332.742317  78285.913066  602.037291    0.0   \n",
       "6  2020-08-01 00:06:00  78311.518065  78269.373396  603.419222    0.0   \n",
       "\n",
       "           т2266      т2266/2    т2266/3     т2266/4        т2270  т2270/3  \\\n",
       "0  379396.596650  1815.736572  24.264420  896.875000  4324.767273     15.2   \n",
       "1  338987.432843  1875.114014  24.200001  897.693542  4241.105630     15.2   \n",
       "2  328669.419080  1827.952393  24.200001  896.916321  4186.155354     15.2   \n",
       "3  366827.243284  1867.092773  24.200001  896.875000  4378.600955     15.2   \n",
       "4  422759.212899  1898.480225  24.245493  896.234375  4155.943112     15.2   \n",
       "5  406646.017123  1874.793701  24.299999  894.539062  4275.910614     15.2   \n",
       "6  367091.480249  1873.461548  24.299999  893.350403  4444.561105     15.2   \n",
       "\n",
       "     техн104       т2263  \n",
       "0  15.000000  240.600980  \n",
       "1  14.922112  241.615763  \n",
       "2  14.900010  243.259191  \n",
       "3  14.900010  243.322008  \n",
       "4  14.825890  243.848389  \n",
       "5  14.800000  244.410656  \n",
       "6  14.800000  244.248640  "
      ]
     },
     "execution_count": 2,
     "metadata": {},
     "output_type": "execute_result"
    }
   ],
   "source": [
    "# Reading and displaying given data\n",
    "df = pd.read_csv('data/data_boiler_1.csv', encoding='utf8').copy()\n",
    "df.head(7)"
   ]
  },
  {
   "cell_type": "code",
   "execution_count": 3,
   "metadata": {},
   "outputs": [
    {
     "data": {
      "text/html": [
       "<div>\n",
       "<style scoped>\n",
       "    .dataframe tbody tr th:only-of-type {\n",
       "        vertical-align: middle;\n",
       "    }\n",
       "\n",
       "    .dataframe tbody tr th {\n",
       "        vertical-align: top;\n",
       "    }\n",
       "\n",
       "    .dataframe thead th {\n",
       "        text-align: right;\n",
       "    }\n",
       "</style>\n",
       "<table border=\"1\" class=\"dataframe\">\n",
       "  <thead>\n",
       "    <tr style=\"text-align: right;\">\n",
       "      <th></th>\n",
       "      <th>V_DATE</th>\n",
       "      <th>т2267</th>\n",
       "      <th>т2268</th>\n",
       "      <th>т2379</th>\n",
       "      <th>т2380</th>\n",
       "      <th>т2266</th>\n",
       "      <th>т2266/2</th>\n",
       "      <th>т2266/3</th>\n",
       "      <th>т2266/4</th>\n",
       "      <th>т2270</th>\n",
       "      <th>т2270/3</th>\n",
       "      <th>техн104</th>\n",
       "      <th>т2263</th>\n",
       "    </tr>\n",
       "  </thead>\n",
       "  <tbody>\n",
       "    <tr>\n",
       "      <th>262554</th>\n",
       "      <td>2021-01-31 20:53:00</td>\n",
       "      <td>85922.091778</td>\n",
       "      <td>83531.888557</td>\n",
       "      <td>5970.656362</td>\n",
       "      <td>5923.497035</td>\n",
       "      <td>825826.827767</td>\n",
       "      <td>1893.834351</td>\n",
       "      <td>20.100010</td>\n",
       "      <td>868.967590</td>\n",
       "      <td>23434.253457</td>\n",
       "      <td>-1.699997</td>\n",
       "      <td>-2.495597</td>\n",
       "      <td>342.713863</td>\n",
       "    </tr>\n",
       "    <tr>\n",
       "      <th>262555</th>\n",
       "      <td>2021-01-31 20:54:00</td>\n",
       "      <td>85945.023030</td>\n",
       "      <td>83380.258346</td>\n",
       "      <td>5988.784950</td>\n",
       "      <td>5935.748489</td>\n",
       "      <td>826008.907763</td>\n",
       "      <td>1896.971558</td>\n",
       "      <td>20.100010</td>\n",
       "      <td>866.320679</td>\n",
       "      <td>23221.027617</td>\n",
       "      <td>-1.699997</td>\n",
       "      <td>-2.500000</td>\n",
       "      <td>342.881555</td>\n",
       "    </tr>\n",
       "    <tr>\n",
       "      <th>262556</th>\n",
       "      <td>2021-01-31 20:55:00</td>\n",
       "      <td>85930.648875</td>\n",
       "      <td>78598.570272</td>\n",
       "      <td>6026.030281</td>\n",
       "      <td>6001.688268</td>\n",
       "      <td>825982.568036</td>\n",
       "      <td>1896.046265</td>\n",
       "      <td>20.100010</td>\n",
       "      <td>866.703674</td>\n",
       "      <td>22540.618260</td>\n",
       "      <td>-1.699997</td>\n",
       "      <td>-2.500000</td>\n",
       "      <td>342.606334</td>\n",
       "    </tr>\n",
       "    <tr>\n",
       "      <th>262557</th>\n",
       "      <td>2021-01-31 20:56:00</td>\n",
       "      <td>85976.682631</td>\n",
       "      <td>80948.197718</td>\n",
       "      <td>6010.062373</td>\n",
       "      <td>5987.957000</td>\n",
       "      <td>826417.173541</td>\n",
       "      <td>1902.887085</td>\n",
       "      <td>20.100010</td>\n",
       "      <td>866.863220</td>\n",
       "      <td>22555.051800</td>\n",
       "      <td>-1.699997</td>\n",
       "      <td>-2.500000</td>\n",
       "      <td>341.959865</td>\n",
       "    </tr>\n",
       "    <tr>\n",
       "      <th>262558</th>\n",
       "      <td>2021-01-31 20:57:00</td>\n",
       "      <td>85929.814710</td>\n",
       "      <td>80387.705109</td>\n",
       "      <td>5952.545727</td>\n",
       "      <td>5926.435257</td>\n",
       "      <td>825907.614717</td>\n",
       "      <td>1895.516846</td>\n",
       "      <td>20.100019</td>\n",
       "      <td>865.954102</td>\n",
       "      <td>22725.313998</td>\n",
       "      <td>-1.699997</td>\n",
       "      <td>-2.500000</td>\n",
       "      <td>341.420256</td>\n",
       "    </tr>\n",
       "    <tr>\n",
       "      <th>262559</th>\n",
       "      <td>2021-01-31 20:58:00</td>\n",
       "      <td>85959.341942</td>\n",
       "      <td>82035.529074</td>\n",
       "      <td>5759.869833</td>\n",
       "      <td>5733.626435</td>\n",
       "      <td>826243.225273</td>\n",
       "      <td>1899.486328</td>\n",
       "      <td>20.100031</td>\n",
       "      <td>863.094360</td>\n",
       "      <td>22408.644789</td>\n",
       "      <td>-1.699997</td>\n",
       "      <td>-2.500000</td>\n",
       "      <td>341.231740</td>\n",
       "    </tr>\n",
       "    <tr>\n",
       "      <th>262560</th>\n",
       "      <td>2021-01-31 20:59:00</td>\n",
       "      <td>86169.949278</td>\n",
       "      <td>83271.954999</td>\n",
       "      <td>5591.292193</td>\n",
       "      <td>5583.059647</td>\n",
       "      <td>828064.909118</td>\n",
       "      <td>1921.149170</td>\n",
       "      <td>19.974314</td>\n",
       "      <td>863.610291</td>\n",
       "      <td>22595.175967</td>\n",
       "      <td>-1.699997</td>\n",
       "      <td>-2.500000</td>\n",
       "      <td>341.299132</td>\n",
       "    </tr>\n",
       "  </tbody>\n",
       "</table>\n",
       "</div>"
      ],
      "text/plain": [
       "                     V_DATE         т2267         т2268        т2379  \\\n",
       "262554  2021-01-31 20:53:00  85922.091778  83531.888557  5970.656362   \n",
       "262555  2021-01-31 20:54:00  85945.023030  83380.258346  5988.784950   \n",
       "262556  2021-01-31 20:55:00  85930.648875  78598.570272  6026.030281   \n",
       "262557  2021-01-31 20:56:00  85976.682631  80948.197718  6010.062373   \n",
       "262558  2021-01-31 20:57:00  85929.814710  80387.705109  5952.545727   \n",
       "262559  2021-01-31 20:58:00  85959.341942  82035.529074  5759.869833   \n",
       "262560  2021-01-31 20:59:00  86169.949278  83271.954999  5591.292193   \n",
       "\n",
       "              т2380          т2266      т2266/2    т2266/3     т2266/4  \\\n",
       "262554  5923.497035  825826.827767  1893.834351  20.100010  868.967590   \n",
       "262555  5935.748489  826008.907763  1896.971558  20.100010  866.320679   \n",
       "262556  6001.688268  825982.568036  1896.046265  20.100010  866.703674   \n",
       "262557  5987.957000  826417.173541  1902.887085  20.100010  866.863220   \n",
       "262558  5926.435257  825907.614717  1895.516846  20.100019  865.954102   \n",
       "262559  5733.626435  826243.225273  1899.486328  20.100031  863.094360   \n",
       "262560  5583.059647  828064.909118  1921.149170  19.974314  863.610291   \n",
       "\n",
       "               т2270   т2270/3   техн104       т2263  \n",
       "262554  23434.253457 -1.699997 -2.495597  342.713863  \n",
       "262555  23221.027617 -1.699997 -2.500000  342.881555  \n",
       "262556  22540.618260 -1.699997 -2.500000  342.606334  \n",
       "262557  22555.051800 -1.699997 -2.500000  341.959865  \n",
       "262558  22725.313998 -1.699997 -2.500000  341.420256  \n",
       "262559  22408.644789 -1.699997 -2.500000  341.231740  \n",
       "262560  22595.175967 -1.699997 -2.500000  341.299132  "
      ]
     },
     "execution_count": 3,
     "metadata": {},
     "output_type": "execute_result"
    }
   ],
   "source": [
    "df.tail(7)"
   ]
  },
  {
   "cell_type": "markdown",
   "metadata": {},
   "source": [
    "**Data description:**"
   ]
  },
  {
   "cell_type": "markdown",
   "metadata": {},
   "source": [
    "According to the task here we have one target (`т2263`) and the 11 features."
   ]
  },
  {
   "cell_type": "markdown",
   "metadata": {},
   "source": [
    "**The goal of the task:**"
   ]
  },
  {
   "cell_type": "markdown",
   "metadata": {},
   "source": [
    "An overall goall is to build a model to predict the amount of vapor."
   ]
  },
  {
   "cell_type": "code",
   "execution_count": 4,
   "metadata": {},
   "outputs": [
    {
     "name": "stdout",
     "output_type": "stream",
     "text": [
      "<class 'pandas.core.frame.DataFrame'>\n",
      "RangeIndex: 262561 entries, 0 to 262560\n",
      "Data columns (total 13 columns):\n",
      " #   Column   Non-Null Count   Dtype  \n",
      "---  ------   --------------   -----  \n",
      " 0   V_DATE   262561 non-null  object \n",
      " 1   т2267    262561 non-null  float64\n",
      " 2   т2268    262561 non-null  float64\n",
      " 3   т2379    262561 non-null  float64\n",
      " 4   т2380    262561 non-null  float64\n",
      " 5   т2266    262561 non-null  float64\n",
      " 6   т2266/2  262560 non-null  float64\n",
      " 7   т2266/3  262560 non-null  float64\n",
      " 8   т2266/4  262471 non-null  float64\n",
      " 9   т2270    262561 non-null  float64\n",
      " 10  т2270/3  262560 non-null  float64\n",
      " 11  техн104  262561 non-null  float64\n",
      " 12  т2263    262561 non-null  float64\n",
      "dtypes: float64(12), object(1)\n",
      "memory usage: 26.0+ MB\n"
     ]
    }
   ],
   "source": [
    "# Column data types and missing values\n",
    "df.info()"
   ]
  },
  {
   "cell_type": "markdown",
   "metadata": {},
   "source": [
    "Here is one column with object datatype. It has to be converted into `datetime` datatype."
   ]
  },
  {
   "cell_type": "markdown",
   "metadata": {},
   "source": [
    "# Preprocessing"
   ]
  },
  {
   "cell_type": "code",
   "execution_count": 5,
   "metadata": {},
   "outputs": [],
   "source": [
    "# Converting object to datetime\n",
    "df['V_DATE'] = pd.to_datetime(df['V_DATE'])"
   ]
  },
  {
   "cell_type": "code",
   "execution_count": 6,
   "metadata": {},
   "outputs": [
    {
     "name": "stdout",
     "output_type": "stream",
     "text": [
      "<class 'pandas.core.frame.DataFrame'>\n",
      "RangeIndex: 262561 entries, 0 to 262560\n",
      "Data columns (total 13 columns):\n",
      " #   Column   Non-Null Count   Dtype         \n",
      "---  ------   --------------   -----         \n",
      " 0   V_DATE   262561 non-null  datetime64[ns]\n",
      " 1   т2267    262561 non-null  float64       \n",
      " 2   т2268    262561 non-null  float64       \n",
      " 3   т2379    262561 non-null  float64       \n",
      " 4   т2380    262561 non-null  float64       \n",
      " 5   т2266    262561 non-null  float64       \n",
      " 6   т2266/2  262560 non-null  float64       \n",
      " 7   т2266/3  262560 non-null  float64       \n",
      " 8   т2266/4  262471 non-null  float64       \n",
      " 9   т2270    262561 non-null  float64       \n",
      " 10  т2270/3  262560 non-null  float64       \n",
      " 11  техн104  262561 non-null  float64       \n",
      " 12  т2263    262561 non-null  float64       \n",
      "dtypes: datetime64[ns](1), float64(12)\n",
      "memory usage: 26.0 MB\n"
     ]
    }
   ],
   "source": [
    "df.info()"
   ]
  },
  {
   "cell_type": "markdown",
   "metadata": {},
   "source": [
    "As we see, there also should be missing values in the data."
   ]
  },
  {
   "cell_type": "markdown",
   "metadata": {},
   "source": [
    "## Statistics"
   ]
  },
  {
   "cell_type": "code",
   "execution_count": 7,
   "metadata": {},
   "outputs": [
    {
     "data": {
      "text/html": [
       "<div>\n",
       "<style scoped>\n",
       "    .dataframe tbody tr th:only-of-type {\n",
       "        vertical-align: middle;\n",
       "    }\n",
       "\n",
       "    .dataframe tbody tr th {\n",
       "        vertical-align: top;\n",
       "    }\n",
       "\n",
       "    .dataframe thead th {\n",
       "        text-align: right;\n",
       "    }\n",
       "</style>\n",
       "<table border=\"1\" class=\"dataframe\">\n",
       "  <thead>\n",
       "    <tr style=\"text-align: right;\">\n",
       "      <th></th>\n",
       "      <th>т2267</th>\n",
       "      <th>т2268</th>\n",
       "      <th>т2379</th>\n",
       "      <th>т2380</th>\n",
       "      <th>т2266</th>\n",
       "      <th>т2266/2</th>\n",
       "      <th>т2266/3</th>\n",
       "      <th>т2266/4</th>\n",
       "      <th>т2270</th>\n",
       "      <th>т2270/3</th>\n",
       "      <th>техн104</th>\n",
       "      <th>т2263</th>\n",
       "    </tr>\n",
       "  </thead>\n",
       "  <tbody>\n",
       "    <tr>\n",
       "      <th>count</th>\n",
       "      <td>262561.000000</td>\n",
       "      <td>262561.000000</td>\n",
       "      <td>262561.000000</td>\n",
       "      <td>262561.000000</td>\n",
       "      <td>262561.000000</td>\n",
       "      <td>262560.000000</td>\n",
       "      <td>262560.000000</td>\n",
       "      <td>262471.000000</td>\n",
       "      <td>262561.000000</td>\n",
       "      <td>262560.000000</td>\n",
       "      <td>262561.000000</td>\n",
       "      <td>262561.000000</td>\n",
       "    </tr>\n",
       "    <tr>\n",
       "      <th>mean</th>\n",
       "      <td>83591.154340</td>\n",
       "      <td>80622.184510</td>\n",
       "      <td>1783.852993</td>\n",
       "      <td>1692.394200</td>\n",
       "      <td>593871.985529</td>\n",
       "      <td>1491.935978</td>\n",
       "      <td>22.217640</td>\n",
       "      <td>842.812206</td>\n",
       "      <td>12652.127545</td>\n",
       "      <td>7.940601</td>\n",
       "      <td>6.579398</td>\n",
       "      <td>276.805314</td>\n",
       "    </tr>\n",
       "    <tr>\n",
       "      <th>std</th>\n",
       "      <td>22046.500093</td>\n",
       "      <td>21247.195478</td>\n",
       "      <td>1826.488445</td>\n",
       "      <td>1864.321757</td>\n",
       "      <td>217557.779293</td>\n",
       "      <td>342.300373</td>\n",
       "      <td>6.529001</td>\n",
       "      <td>118.028293</td>\n",
       "      <td>10478.749616</td>\n",
       "      <td>12.277266</td>\n",
       "      <td>10.869162</td>\n",
       "      <td>60.518095</td>\n",
       "    </tr>\n",
       "    <tr>\n",
       "      <th>min</th>\n",
       "      <td>0.000000</td>\n",
       "      <td>0.000000</td>\n",
       "      <td>0.000000</td>\n",
       "      <td>0.000000</td>\n",
       "      <td>0.000000</td>\n",
       "      <td>0.000000</td>\n",
       "      <td>0.000000</td>\n",
       "      <td>0.000000</td>\n",
       "      <td>0.000000</td>\n",
       "      <td>-19.299999</td>\n",
       "      <td>-19.899990</td>\n",
       "      <td>0.000000</td>\n",
       "    </tr>\n",
       "    <tr>\n",
       "      <th>25%</th>\n",
       "      <td>80194.659433</td>\n",
       "      <td>77688.440981</td>\n",
       "      <td>680.166289</td>\n",
       "      <td>517.467078</td>\n",
       "      <td>415368.179269</td>\n",
       "      <td>1306.530121</td>\n",
       "      <td>18.000000</td>\n",
       "      <td>831.509644</td>\n",
       "      <td>6303.990227</td>\n",
       "      <td>-0.974202</td>\n",
       "      <td>-1.800003</td>\n",
       "      <td>256.178909</td>\n",
       "    </tr>\n",
       "    <tr>\n",
       "      <th>50%</th>\n",
       "      <td>88448.965482</td>\n",
       "      <td>85211.598618</td>\n",
       "      <td>1035.901249</td>\n",
       "      <td>932.097076</td>\n",
       "      <td>629825.003945</td>\n",
       "      <td>1554.587952</td>\n",
       "      <td>22.292431</td>\n",
       "      <td>863.610291</td>\n",
       "      <td>9288.205267</td>\n",
       "      <td>7.000000</td>\n",
       "      <td>6.500000</td>\n",
       "      <td>291.755564</td>\n",
       "    </tr>\n",
       "    <tr>\n",
       "      <th>75%</th>\n",
       "      <td>95287.489075</td>\n",
       "      <td>92953.318542</td>\n",
       "      <td>2019.885047</td>\n",
       "      <td>1974.804918</td>\n",
       "      <td>796065.587231</td>\n",
       "      <td>1744.246582</td>\n",
       "      <td>26.100010</td>\n",
       "      <td>890.364441</td>\n",
       "      <td>14207.313744</td>\n",
       "      <td>16.299999</td>\n",
       "      <td>15.400010</td>\n",
       "      <td>313.557447</td>\n",
       "    </tr>\n",
       "    <tr>\n",
       "      <th>max</th>\n",
       "      <td>114429.764574</td>\n",
       "      <td>112581.652613</td>\n",
       "      <td>12104.647485</td>\n",
       "      <td>12348.965307</td>\n",
       "      <td>874114.619524</td>\n",
       "      <td>2061.833496</td>\n",
       "      <td>68.994217</td>\n",
       "      <td>1091.072510</td>\n",
       "      <td>51582.163581</td>\n",
       "      <td>43.600010</td>\n",
       "      <td>33.900009</td>\n",
       "      <td>369.534504</td>\n",
       "    </tr>\n",
       "  </tbody>\n",
       "</table>\n",
       "</div>"
      ],
      "text/plain": [
       "               т2267          т2268          т2379          т2380  \\\n",
       "count  262561.000000  262561.000000  262561.000000  262561.000000   \n",
       "mean    83591.154340   80622.184510    1783.852993    1692.394200   \n",
       "std     22046.500093   21247.195478    1826.488445    1864.321757   \n",
       "min         0.000000       0.000000       0.000000       0.000000   \n",
       "25%     80194.659433   77688.440981     680.166289     517.467078   \n",
       "50%     88448.965482   85211.598618    1035.901249     932.097076   \n",
       "75%     95287.489075   92953.318542    2019.885047    1974.804918   \n",
       "max    114429.764574  112581.652613   12104.647485   12348.965307   \n",
       "\n",
       "               т2266        т2266/2        т2266/3        т2266/4  \\\n",
       "count  262561.000000  262560.000000  262560.000000  262471.000000   \n",
       "mean   593871.985529    1491.935978      22.217640     842.812206   \n",
       "std    217557.779293     342.300373       6.529001     118.028293   \n",
       "min         0.000000       0.000000       0.000000       0.000000   \n",
       "25%    415368.179269    1306.530121      18.000000     831.509644   \n",
       "50%    629825.003945    1554.587952      22.292431     863.610291   \n",
       "75%    796065.587231    1744.246582      26.100010     890.364441   \n",
       "max    874114.619524    2061.833496      68.994217    1091.072510   \n",
       "\n",
       "               т2270        т2270/3        техн104          т2263  \n",
       "count  262561.000000  262560.000000  262561.000000  262561.000000  \n",
       "mean    12652.127545       7.940601       6.579398     276.805314  \n",
       "std     10478.749616      12.277266      10.869162      60.518095  \n",
       "min         0.000000     -19.299999     -19.899990       0.000000  \n",
       "25%      6303.990227      -0.974202      -1.800003     256.178909  \n",
       "50%      9288.205267       7.000000       6.500000     291.755564  \n",
       "75%     14207.313744      16.299999      15.400010     313.557447  \n",
       "max     51582.163581      43.600010      33.900009     369.534504  "
      ]
     },
     "execution_count": 7,
     "metadata": {},
     "output_type": "execute_result"
    }
   ],
   "source": [
    "# Getting statistics for each column\n",
    "df.describe()"
   ]
  },
  {
   "cell_type": "code",
   "execution_count": 8,
   "metadata": {},
   "outputs": [],
   "source": [
    "# Function to calculate missing values by column\n",
    "def missing_values_table(df):\n",
    "        # Total missing values\n",
    "        mis_val = df.isnull().sum()\n",
    "        \n",
    "        # Percentage of missing values\n",
    "        mis_val_percent = 100 * df.isnull().sum() / len(df)\n",
    "        \n",
    "        # Make a table with the results\n",
    "        mis_val_table = pd.concat([mis_val, mis_val_percent], axis=1)\n",
    "        \n",
    "        # Rename the columns\n",
    "        mis_val_table_ren_columns = mis_val_table.rename(\n",
    "        columns = {0 : 'Missing Values', 1 : '% of Total Values'})\n",
    "        \n",
    "        # Sort the table by percentage of missing descending\n",
    "        mis_val_table_ren_columns = mis_val_table_ren_columns[\n",
    "            mis_val_table_ren_columns.iloc[:,1] != 0].sort_values(\n",
    "        '% of Total Values', ascending=False).round(1)\n",
    "        \n",
    "        # Print some summary information\n",
    "        print (\"Your selected dataframe has \" + str(df.shape[1]) + \" columns.\\n\"      \n",
    "            \"There are \" + str(mis_val_table_ren_columns.shape[0]) +\n",
    "              \" columns that have missing values.\")\n",
    "        \n",
    "        # Return the dataframe with missing information\n",
    "        return mis_val_table_ren_columns"
   ]
  },
  {
   "cell_type": "markdown",
   "metadata": {},
   "source": [
    "## Missing values"
   ]
  },
  {
   "cell_type": "code",
   "execution_count": 9,
   "metadata": {},
   "outputs": [
    {
     "name": "stdout",
     "output_type": "stream",
     "text": [
      "Your selected dataframe has 13 columns.\n",
      "There are 4 columns that have missing values.\n"
     ]
    },
    {
     "data": {
      "text/html": [
       "<div>\n",
       "<style scoped>\n",
       "    .dataframe tbody tr th:only-of-type {\n",
       "        vertical-align: middle;\n",
       "    }\n",
       "\n",
       "    .dataframe tbody tr th {\n",
       "        vertical-align: top;\n",
       "    }\n",
       "\n",
       "    .dataframe thead th {\n",
       "        text-align: right;\n",
       "    }\n",
       "</style>\n",
       "<table border=\"1\" class=\"dataframe\">\n",
       "  <thead>\n",
       "    <tr style=\"text-align: right;\">\n",
       "      <th></th>\n",
       "      <th>Missing Values</th>\n",
       "      <th>% of Total Values</th>\n",
       "    </tr>\n",
       "  </thead>\n",
       "  <tbody>\n",
       "    <tr>\n",
       "      <th>т2266/4</th>\n",
       "      <td>90</td>\n",
       "      <td>0.0</td>\n",
       "    </tr>\n",
       "    <tr>\n",
       "      <th>т2266/2</th>\n",
       "      <td>1</td>\n",
       "      <td>0.0</td>\n",
       "    </tr>\n",
       "    <tr>\n",
       "      <th>т2266/3</th>\n",
       "      <td>1</td>\n",
       "      <td>0.0</td>\n",
       "    </tr>\n",
       "    <tr>\n",
       "      <th>т2270/3</th>\n",
       "      <td>1</td>\n",
       "      <td>0.0</td>\n",
       "    </tr>\n",
       "  </tbody>\n",
       "</table>\n",
       "</div>"
      ],
      "text/plain": [
       "         Missing Values  % of Total Values\n",
       "т2266/4              90                0.0\n",
       "т2266/2               1                0.0\n",
       "т2266/3               1                0.0\n",
       "т2270/3               1                0.0"
      ]
     },
     "execution_count": 9,
     "metadata": {},
     "output_type": "execute_result"
    }
   ],
   "source": [
    "missing_values_table(df=df)"
   ]
  },
  {
   "cell_type": "markdown",
   "metadata": {},
   "source": [
    "They're a few missing values that should be dropped before choosing an appropriate machine learning strategy."
   ]
  },
  {
   "cell_type": "code",
   "execution_count": 10,
   "metadata": {},
   "outputs": [
    {
     "data": {
      "text/plain": [
       "V_DATE     262470\n",
       "т2267      262470\n",
       "т2268      262470\n",
       "т2379      262470\n",
       "т2380      262470\n",
       "т2266      262470\n",
       "т2266/2    262470\n",
       "т2266/3    262470\n",
       "т2266/4    262470\n",
       "т2270      262470\n",
       "т2270/3    262470\n",
       "техн104    262470\n",
       "т2263      262470\n",
       "dtype: int64"
      ]
     },
     "execution_count": 10,
     "metadata": {},
     "output_type": "execute_result"
    }
   ],
   "source": [
    "# Dropping the missing values.\n",
    "df = df.dropna() \n",
    "df.count()"
   ]
  },
  {
   "cell_type": "code",
   "execution_count": 11,
   "metadata": {},
   "outputs": [
    {
     "data": {
      "text/plain": [
       "(262470, 13)"
      ]
     },
     "execution_count": 11,
     "metadata": {},
     "output_type": "execute_result"
    }
   ],
   "source": [
    "# Shape of given data\n",
    "df.shape"
   ]
  },
  {
   "cell_type": "code",
   "execution_count": 12,
   "metadata": {},
   "outputs": [],
   "source": [
    "# Creating a list with columns\n",
    "columns = []\n",
    "for column in df.columns:\n",
    "    columns.append(column)"
   ]
  },
  {
   "cell_type": "markdown",
   "metadata": {},
   "source": [
    "# Exploratory Data Analysis"
   ]
  },
  {
   "cell_type": "markdown",
   "metadata": {},
   "source": [
    "The purpose is to to find anomalies, patterns, trends, or relationships."
   ]
  },
  {
   "cell_type": "markdown",
   "metadata": {},
   "source": [
    "## Detecting Outliers with Z-score"
   ]
  },
  {
   "cell_type": "markdown",
   "metadata": {},
   "source": [
    "Outliers are plotted as a point in the boxplot, but other populations will be grouped and displayed as boxes. (p.s. I removed this `Box Plots` because of memory overload) \n",
    "\n",
    "Let's use `Z-score` for that purpose:"
   ]
  },
  {
   "cell_type": "code",
   "execution_count": 13,
   "metadata": {},
   "outputs": [
    {
     "data": {
      "text/plain": [
       "array([[0.25741032, 0.12865106, 0.64641292, ..., 0.59097779, 0.77441077,\n",
       "        0.59815979],\n",
       "       [0.24023389, 0.11064856, 0.64759673, ..., 0.59097779, 0.76724542,\n",
       "        0.58139429],\n",
       "       [0.25325701, 0.1243844 , 0.64693275, ..., 0.59097779, 0.76521209,\n",
       "        0.55424279],\n",
       "       ...,\n",
       "       [0.10602565, 0.0110746 , 2.28203094, ..., 0.78546877, 0.83552105,\n",
       "        1.06750234],\n",
       "       [0.10736474, 0.06646727, 2.17655671, ..., 0.78546877, 0.83552105,\n",
       "        1.06438782],\n",
       "       [0.116916  , 0.12464993, 2.0842743 , ..., 0.78546877, 0.83552105,\n",
       "        1.06550122]])"
      ]
     },
     "execution_count": 13,
     "metadata": {},
     "output_type": "execute_result"
    }
   ],
   "source": [
    "from scipy import stats\n",
    "z = np.abs(stats.zscore(df.loc[:,'т2267':]))\n",
    "z"
   ]
  },
  {
   "cell_type": "code",
   "execution_count": 14,
   "metadata": {},
   "outputs": [
    {
     "data": {
      "text/plain": [
       "(array([  3143,   3143,   3143, ..., 258998, 258999, 258999], dtype=int64),\n",
       " array([0, 1, 5, ..., 3, 2, 3], dtype=int64))"
      ]
     },
     "execution_count": 14,
     "metadata": {},
     "output_type": "execute_result"
    }
   ],
   "source": [
    "# Defining the threshold for catching outliers\n",
    "threshold = 3\n",
    "np.where(z > 3)"
   ]
  },
  {
   "cell_type": "code",
   "execution_count": 15,
   "metadata": {},
   "outputs": [
    {
     "data": {
      "text/html": [
       "<div>\n",
       "<style scoped>\n",
       "    .dataframe tbody tr th:only-of-type {\n",
       "        vertical-align: middle;\n",
       "    }\n",
       "\n",
       "    .dataframe tbody tr th {\n",
       "        vertical-align: top;\n",
       "    }\n",
       "\n",
       "    .dataframe thead th {\n",
       "        text-align: right;\n",
       "    }\n",
       "</style>\n",
       "<table border=\"1\" class=\"dataframe\">\n",
       "  <thead>\n",
       "    <tr style=\"text-align: right;\">\n",
       "      <th></th>\n",
       "      <th>V_DATE</th>\n",
       "      <th>т2267</th>\n",
       "      <th>т2268</th>\n",
       "      <th>т2379</th>\n",
       "      <th>т2380</th>\n",
       "      <th>т2266</th>\n",
       "      <th>т2266/2</th>\n",
       "      <th>т2266/3</th>\n",
       "      <th>т2266/4</th>\n",
       "      <th>т2270</th>\n",
       "      <th>т2270/3</th>\n",
       "      <th>техн104</th>\n",
       "      <th>т2263</th>\n",
       "    </tr>\n",
       "  </thead>\n",
       "  <tbody>\n",
       "    <tr>\n",
       "      <th>0</th>\n",
       "      <td>2020-08-01 00:00:00</td>\n",
       "      <td>77915.974685</td>\n",
       "      <td>77889.115676</td>\n",
       "      <td>602.987379</td>\n",
       "      <td>0.000000</td>\n",
       "      <td>379396.596650</td>\n",
       "      <td>1815.736572</td>\n",
       "      <td>24.264420</td>\n",
       "      <td>896.875000</td>\n",
       "      <td>4324.767273</td>\n",
       "      <td>15.200000</td>\n",
       "      <td>15.000000</td>\n",
       "      <td>240.600980</td>\n",
       "    </tr>\n",
       "    <tr>\n",
       "      <th>1</th>\n",
       "      <td>2020-08-01 00:01:00</td>\n",
       "      <td>78294.718755</td>\n",
       "      <td>78271.682542</td>\n",
       "      <td>600.824843</td>\n",
       "      <td>0.000000</td>\n",
       "      <td>338987.432843</td>\n",
       "      <td>1875.114014</td>\n",
       "      <td>24.200001</td>\n",
       "      <td>897.693542</td>\n",
       "      <td>4241.105630</td>\n",
       "      <td>15.200000</td>\n",
       "      <td>14.922112</td>\n",
       "      <td>241.615763</td>\n",
       "    </tr>\n",
       "    <tr>\n",
       "      <th>2</th>\n",
       "      <td>2020-08-01 00:02:00</td>\n",
       "      <td>78007.556062</td>\n",
       "      <td>77979.785548</td>\n",
       "      <td>602.037766</td>\n",
       "      <td>0.000000</td>\n",
       "      <td>328669.419080</td>\n",
       "      <td>1827.952393</td>\n",
       "      <td>24.200001</td>\n",
       "      <td>896.916321</td>\n",
       "      <td>4186.155354</td>\n",
       "      <td>15.200000</td>\n",
       "      <td>14.900010</td>\n",
       "      <td>243.259191</td>\n",
       "    </tr>\n",
       "    <tr>\n",
       "      <th>3</th>\n",
       "      <td>2020-08-01 00:03:00</td>\n",
       "      <td>78255.374891</td>\n",
       "      <td>78243.088911</td>\n",
       "      <td>603.667469</td>\n",
       "      <td>0.000000</td>\n",
       "      <td>366827.243284</td>\n",
       "      <td>1867.092773</td>\n",
       "      <td>24.200001</td>\n",
       "      <td>896.875000</td>\n",
       "      <td>4378.600955</td>\n",
       "      <td>15.200000</td>\n",
       "      <td>14.900010</td>\n",
       "      <td>243.322008</td>\n",
       "    </tr>\n",
       "    <tr>\n",
       "      <th>4</th>\n",
       "      <td>2020-08-01 00:04:00</td>\n",
       "      <td>78474.798964</td>\n",
       "      <td>78439.012732</td>\n",
       "      <td>602.012647</td>\n",
       "      <td>0.000000</td>\n",
       "      <td>422759.212899</td>\n",
       "      <td>1898.480225</td>\n",
       "      <td>24.245493</td>\n",
       "      <td>896.234375</td>\n",
       "      <td>4155.943112</td>\n",
       "      <td>15.200000</td>\n",
       "      <td>14.825890</td>\n",
       "      <td>243.848389</td>\n",
       "    </tr>\n",
       "    <tr>\n",
       "      <th>...</th>\n",
       "      <td>...</td>\n",
       "      <td>...</td>\n",
       "      <td>...</td>\n",
       "      <td>...</td>\n",
       "      <td>...</td>\n",
       "      <td>...</td>\n",
       "      <td>...</td>\n",
       "      <td>...</td>\n",
       "      <td>...</td>\n",
       "      <td>...</td>\n",
       "      <td>...</td>\n",
       "      <td>...</td>\n",
       "      <td>...</td>\n",
       "    </tr>\n",
       "    <tr>\n",
       "      <th>262556</th>\n",
       "      <td>2021-01-31 20:55:00</td>\n",
       "      <td>85930.648875</td>\n",
       "      <td>78598.570272</td>\n",
       "      <td>6026.030281</td>\n",
       "      <td>6001.688268</td>\n",
       "      <td>825982.568036</td>\n",
       "      <td>1896.046265</td>\n",
       "      <td>20.100010</td>\n",
       "      <td>866.703674</td>\n",
       "      <td>22540.618260</td>\n",
       "      <td>-1.699997</td>\n",
       "      <td>-2.500000</td>\n",
       "      <td>342.606334</td>\n",
       "    </tr>\n",
       "    <tr>\n",
       "      <th>262557</th>\n",
       "      <td>2021-01-31 20:56:00</td>\n",
       "      <td>85976.682631</td>\n",
       "      <td>80948.197718</td>\n",
       "      <td>6010.062373</td>\n",
       "      <td>5987.957000</td>\n",
       "      <td>826417.173541</td>\n",
       "      <td>1902.887085</td>\n",
       "      <td>20.100010</td>\n",
       "      <td>866.863220</td>\n",
       "      <td>22555.051800</td>\n",
       "      <td>-1.699997</td>\n",
       "      <td>-2.500000</td>\n",
       "      <td>341.959865</td>\n",
       "    </tr>\n",
       "    <tr>\n",
       "      <th>262558</th>\n",
       "      <td>2021-01-31 20:57:00</td>\n",
       "      <td>85929.814710</td>\n",
       "      <td>80387.705109</td>\n",
       "      <td>5952.545727</td>\n",
       "      <td>5926.435257</td>\n",
       "      <td>825907.614717</td>\n",
       "      <td>1895.516846</td>\n",
       "      <td>20.100019</td>\n",
       "      <td>865.954102</td>\n",
       "      <td>22725.313998</td>\n",
       "      <td>-1.699997</td>\n",
       "      <td>-2.500000</td>\n",
       "      <td>341.420256</td>\n",
       "    </tr>\n",
       "    <tr>\n",
       "      <th>262559</th>\n",
       "      <td>2021-01-31 20:58:00</td>\n",
       "      <td>85959.341942</td>\n",
       "      <td>82035.529074</td>\n",
       "      <td>5759.869833</td>\n",
       "      <td>5733.626435</td>\n",
       "      <td>826243.225273</td>\n",
       "      <td>1899.486328</td>\n",
       "      <td>20.100031</td>\n",
       "      <td>863.094360</td>\n",
       "      <td>22408.644789</td>\n",
       "      <td>-1.699997</td>\n",
       "      <td>-2.500000</td>\n",
       "      <td>341.231740</td>\n",
       "    </tr>\n",
       "    <tr>\n",
       "      <th>262560</th>\n",
       "      <td>2021-01-31 20:59:00</td>\n",
       "      <td>86169.949278</td>\n",
       "      <td>83271.954999</td>\n",
       "      <td>5591.292193</td>\n",
       "      <td>5583.059647</td>\n",
       "      <td>828064.909118</td>\n",
       "      <td>1921.149170</td>\n",
       "      <td>19.974314</td>\n",
       "      <td>863.610291</td>\n",
       "      <td>22595.175967</td>\n",
       "      <td>-1.699997</td>\n",
       "      <td>-2.500000</td>\n",
       "      <td>341.299132</td>\n",
       "    </tr>\n",
       "  </tbody>\n",
       "</table>\n",
       "<p>241139 rows × 13 columns</p>\n",
       "</div>"
      ],
      "text/plain": [
       "                    V_DATE         т2267         т2268        т2379  \\\n",
       "0      2020-08-01 00:00:00  77915.974685  77889.115676   602.987379   \n",
       "1      2020-08-01 00:01:00  78294.718755  78271.682542   600.824843   \n",
       "2      2020-08-01 00:02:00  78007.556062  77979.785548   602.037766   \n",
       "3      2020-08-01 00:03:00  78255.374891  78243.088911   603.667469   \n",
       "4      2020-08-01 00:04:00  78474.798964  78439.012732   602.012647   \n",
       "...                    ...           ...           ...          ...   \n",
       "262556 2021-01-31 20:55:00  85930.648875  78598.570272  6026.030281   \n",
       "262557 2021-01-31 20:56:00  85976.682631  80948.197718  6010.062373   \n",
       "262558 2021-01-31 20:57:00  85929.814710  80387.705109  5952.545727   \n",
       "262559 2021-01-31 20:58:00  85959.341942  82035.529074  5759.869833   \n",
       "262560 2021-01-31 20:59:00  86169.949278  83271.954999  5591.292193   \n",
       "\n",
       "              т2380          т2266      т2266/2    т2266/3     т2266/4  \\\n",
       "0          0.000000  379396.596650  1815.736572  24.264420  896.875000   \n",
       "1          0.000000  338987.432843  1875.114014  24.200001  897.693542   \n",
       "2          0.000000  328669.419080  1827.952393  24.200001  896.916321   \n",
       "3          0.000000  366827.243284  1867.092773  24.200001  896.875000   \n",
       "4          0.000000  422759.212899  1898.480225  24.245493  896.234375   \n",
       "...             ...            ...          ...        ...         ...   \n",
       "262556  6001.688268  825982.568036  1896.046265  20.100010  866.703674   \n",
       "262557  5987.957000  826417.173541  1902.887085  20.100010  866.863220   \n",
       "262558  5926.435257  825907.614717  1895.516846  20.100019  865.954102   \n",
       "262559  5733.626435  826243.225273  1899.486328  20.100031  863.094360   \n",
       "262560  5583.059647  828064.909118  1921.149170  19.974314  863.610291   \n",
       "\n",
       "               т2270    т2270/3    техн104       т2263  \n",
       "0        4324.767273  15.200000  15.000000  240.600980  \n",
       "1        4241.105630  15.200000  14.922112  241.615763  \n",
       "2        4186.155354  15.200000  14.900010  243.259191  \n",
       "3        4378.600955  15.200000  14.900010  243.322008  \n",
       "4        4155.943112  15.200000  14.825890  243.848389  \n",
       "...              ...        ...        ...         ...  \n",
       "262556  22540.618260  -1.699997  -2.500000  342.606334  \n",
       "262557  22555.051800  -1.699997  -2.500000  341.959865  \n",
       "262558  22725.313998  -1.699997  -2.500000  341.420256  \n",
       "262559  22408.644789  -1.699997  -2.500000  341.231740  \n",
       "262560  22595.175967  -1.699997  -2.500000  341.299132  \n",
       "\n",
       "[241139 rows x 13 columns]"
      ]
     },
     "execution_count": 15,
     "metadata": {},
     "output_type": "execute_result"
    }
   ],
   "source": [
    "df_o = df[(z < 3).all(axis=1)]\n",
    "df_o"
   ]
  },
  {
   "cell_type": "code",
   "execution_count": 16,
   "metadata": {},
   "outputs": [],
   "source": [
    "a = df_o.shape"
   ]
  },
  {
   "cell_type": "code",
   "execution_count": 17,
   "metadata": {},
   "outputs": [],
   "source": [
    "b = df.shape"
   ]
  },
  {
   "cell_type": "code",
   "execution_count": 18,
   "metadata": {},
   "outputs": [
    {
     "name": "stdout",
     "output_type": "stream",
     "text": [
      "There is the next amount of outliers:  21331\n"
     ]
    }
   ],
   "source": [
    "print('There is the next amount of outliers: ', b[0]-a[0])"
   ]
  },
  {
   "cell_type": "markdown",
   "metadata": {},
   "source": [
    "In that case, let's plot the visualization scenario with and without outliers."
   ]
  },
  {
   "cell_type": "markdown",
   "metadata": {},
   "source": [
    "### Data with outliers"
   ]
  },
  {
   "cell_type": "code",
   "execution_count": 82,
   "metadata": {},
   "outputs": [
    {
     "data": {
      "text/plain": [
       "'# Vizualizing the data\\nfig = px.line(df, x=columns[0], y=columns[1:])\\nfig.show()'"
      ]
     },
     "execution_count": 82,
     "metadata": {},
     "output_type": "execute_result"
    }
   ],
   "source": [
    "'''# Vizualizing the data\n",
    "fig = px.line(df, x=columns[0], y=columns[1:])\n",
    "fig.show()'''"
   ]
  },
  {
   "cell_type": "markdown",
   "metadata": {},
   "source": [
    "![Data with outliers](images/data_with_outliers.png)"
   ]
  },
  {
   "cell_type": "markdown",
   "metadata": {},
   "source": [
    "### Data without outliers"
   ]
  },
  {
   "cell_type": "code",
   "execution_count": 83,
   "metadata": {},
   "outputs": [
    {
     "data": {
      "text/plain": [
       "'# Vizualizing the data without outliers\\nfig = px.line(df_o, x=columns[0], y=columns[1:])\\nfig.show()'"
      ]
     },
     "execution_count": 83,
     "metadata": {},
     "output_type": "execute_result"
    }
   ],
   "source": [
    "'''# Vizualizing the data without outliers\n",
    "fig = px.line(df_o, x=columns[0], y=columns[1:])\n",
    "fig.show()'''"
   ]
  },
  {
   "cell_type": "markdown",
   "metadata": {},
   "source": [
    "![Data without outliers](images/Data_without_outliers.png)"
   ]
  },
  {
   "cell_type": "markdown",
   "metadata": {},
   "source": [
    "Here we see considerable differences in data depending on the season. In winter, there is a significant increase in blast furnace gas throughout the station. And in this case, there should be very functional dependencies for the future model. Later we'll define the correlations between values. \n",
    "\n",
    "Next, we're going to use `df_o` instead of `df`, because the outliers have been removed.\n",
    "We can compare the scenario with or without outliers on the figures above."
   ]
  },
  {
   "cell_type": "markdown",
   "metadata": {},
   "source": [
    "## Checking the data for normal distribution"
   ]
  },
  {
   "cell_type": "code",
   "execution_count": 21,
   "metadata": {},
   "outputs": [
    {
     "name": "stderr",
     "output_type": "stream",
     "text": [
      "<ipython-input-21-14edf3be112e>:3: UserWarning:\n",
      "\n",
      "To output multiple subplots, the figure containing the passed axes is being cleared\n",
      "\n"
     ]
    },
    {
     "data": {
      "text/plain": [
       "array([[<AxesSubplot:title={'center':'т2267'}>,\n",
       "        <AxesSubplot:title={'center':'т2268'}>,\n",
       "        <AxesSubplot:title={'center':'т2379'}>],\n",
       "       [<AxesSubplot:title={'center':'т2380'}>,\n",
       "        <AxesSubplot:title={'center':'т2266'}>,\n",
       "        <AxesSubplot:title={'center':'т2266/2'}>],\n",
       "       [<AxesSubplot:title={'center':'т2266/3'}>,\n",
       "        <AxesSubplot:title={'center':'т2266/4'}>,\n",
       "        <AxesSubplot:title={'center':'т2270'}>],\n",
       "       [<AxesSubplot:title={'center':'т2270/3'}>,\n",
       "        <AxesSubplot:title={'center':'техн104'}>,\n",
       "        <AxesSubplot:title={'center':'т2263'}>]], dtype=object)"
      ]
     },
     "execution_count": 21,
     "metadata": {},
     "output_type": "execute_result"
    },
    {
     "data": {
      "image/png": "[encoded data removed]",
      "text/plain": [
       "<Figure size 1080x1440 with 12 Axes>"
      ]
     },
     "metadata": {
      "needs_background": "light"
     },
     "output_type": "display_data"
    }
   ],
   "source": [
    "fig = plt.figure(figsize = (15,20))\n",
    "ax = fig.gca()\n",
    "df_o.hist(ax = ax)\n"
   ]
  },
  {
   "cell_type": "markdown",
   "metadata": {},
   "source": [
    "As we may see, the data is close to normal distribution."
   ]
  },
  {
   "cell_type": "markdown",
   "metadata": {},
   "source": [
    "## Finding dependencies"
   ]
  },
  {
   "cell_type": "code",
   "execution_count": 22,
   "metadata": {},
   "outputs": [
    {
     "data": {
      "text/html": [
       "<div>\n",
       "<style scoped>\n",
       "    .dataframe tbody tr th:only-of-type {\n",
       "        vertical-align: middle;\n",
       "    }\n",
       "\n",
       "    .dataframe tbody tr th {\n",
       "        vertical-align: top;\n",
       "    }\n",
       "\n",
       "    .dataframe thead th {\n",
       "        text-align: right;\n",
       "    }\n",
       "</style>\n",
       "<table border=\"1\" class=\"dataframe\">\n",
       "  <thead>\n",
       "    <tr style=\"text-align: right;\">\n",
       "      <th></th>\n",
       "      <th>т2267</th>\n",
       "      <th>т2268</th>\n",
       "      <th>т2379</th>\n",
       "      <th>т2380</th>\n",
       "      <th>т2266</th>\n",
       "      <th>т2266/2</th>\n",
       "      <th>т2266/3</th>\n",
       "      <th>т2266/4</th>\n",
       "      <th>т2270</th>\n",
       "      <th>т2270/3</th>\n",
       "      <th>техн104</th>\n",
       "      <th>т2263</th>\n",
       "    </tr>\n",
       "  </thead>\n",
       "  <tbody>\n",
       "    <tr>\n",
       "      <th>т2267</th>\n",
       "      <td>1.000000</td>\n",
       "      <td>0.959150</td>\n",
       "      <td>-0.249139</td>\n",
       "      <td>-0.238390</td>\n",
       "      <td>0.523585</td>\n",
       "      <td>0.153380</td>\n",
       "      <td>-0.394177</td>\n",
       "      <td>0.038790</td>\n",
       "      <td>-0.300808</td>\n",
       "      <td>-0.490041</td>\n",
       "      <td>-0.487521</td>\n",
       "      <td>0.495149</td>\n",
       "    </tr>\n",
       "    <tr>\n",
       "      <th>т2268</th>\n",
       "      <td>0.959150</td>\n",
       "      <td>1.000000</td>\n",
       "      <td>-0.220172</td>\n",
       "      <td>-0.211547</td>\n",
       "      <td>0.538830</td>\n",
       "      <td>0.158081</td>\n",
       "      <td>-0.433678</td>\n",
       "      <td>0.014549</td>\n",
       "      <td>-0.284704</td>\n",
       "      <td>-0.517532</td>\n",
       "      <td>-0.519425</td>\n",
       "      <td>0.485792</td>\n",
       "    </tr>\n",
       "    <tr>\n",
       "      <th>т2379</th>\n",
       "      <td>-0.249139</td>\n",
       "      <td>-0.220172</td>\n",
       "      <td>1.000000</td>\n",
       "      <td>0.996081</td>\n",
       "      <td>0.104147</td>\n",
       "      <td>-0.243509</td>\n",
       "      <td>-0.059574</td>\n",
       "      <td>-0.295248</td>\n",
       "      <td>0.845588</td>\n",
       "      <td>-0.185082</td>\n",
       "      <td>-0.218088</td>\n",
       "      <td>0.284406</td>\n",
       "    </tr>\n",
       "    <tr>\n",
       "      <th>т2380</th>\n",
       "      <td>-0.238390</td>\n",
       "      <td>-0.211547</td>\n",
       "      <td>0.996081</td>\n",
       "      <td>1.000000</td>\n",
       "      <td>0.108331</td>\n",
       "      <td>-0.252571</td>\n",
       "      <td>-0.061379</td>\n",
       "      <td>-0.296595</td>\n",
       "      <td>0.849607</td>\n",
       "      <td>-0.182288</td>\n",
       "      <td>-0.215900</td>\n",
       "      <td>0.294779</td>\n",
       "    </tr>\n",
       "    <tr>\n",
       "      <th>т2266</th>\n",
       "      <td>0.523585</td>\n",
       "      <td>0.538830</td>\n",
       "      <td>0.104147</td>\n",
       "      <td>0.108331</td>\n",
       "      <td>1.000000</td>\n",
       "      <td>-0.022500</td>\n",
       "      <td>-0.633424</td>\n",
       "      <td>0.032034</td>\n",
       "      <td>0.039440</td>\n",
       "      <td>-0.825282</td>\n",
       "      <td>-0.846381</td>\n",
       "      <td>0.523720</td>\n",
       "    </tr>\n",
       "    <tr>\n",
       "      <th>т2266/2</th>\n",
       "      <td>0.153380</td>\n",
       "      <td>0.158081</td>\n",
       "      <td>-0.243509</td>\n",
       "      <td>-0.252571</td>\n",
       "      <td>-0.022500</td>\n",
       "      <td>1.000000</td>\n",
       "      <td>0.202402</td>\n",
       "      <td>0.209925</td>\n",
       "      <td>-0.484491</td>\n",
       "      <td>0.096726</td>\n",
       "      <td>0.098974</td>\n",
       "      <td>0.147736</td>\n",
       "    </tr>\n",
       "    <tr>\n",
       "      <th>т2266/3</th>\n",
       "      <td>-0.394177</td>\n",
       "      <td>-0.433678</td>\n",
       "      <td>-0.059574</td>\n",
       "      <td>-0.061379</td>\n",
       "      <td>-0.633424</td>\n",
       "      <td>0.202402</td>\n",
       "      <td>1.000000</td>\n",
       "      <td>0.118877</td>\n",
       "      <td>-0.058654</td>\n",
       "      <td>0.676025</td>\n",
       "      <td>0.668049</td>\n",
       "      <td>-0.325211</td>\n",
       "    </tr>\n",
       "    <tr>\n",
       "      <th>т2266/4</th>\n",
       "      <td>0.038790</td>\n",
       "      <td>0.014549</td>\n",
       "      <td>-0.295248</td>\n",
       "      <td>-0.296595</td>\n",
       "      <td>0.032034</td>\n",
       "      <td>0.209925</td>\n",
       "      <td>0.118877</td>\n",
       "      <td>1.000000</td>\n",
       "      <td>-0.303732</td>\n",
       "      <td>0.096679</td>\n",
       "      <td>0.109760</td>\n",
       "      <td>0.059638</td>\n",
       "    </tr>\n",
       "    <tr>\n",
       "      <th>т2270</th>\n",
       "      <td>-0.300808</td>\n",
       "      <td>-0.284704</td>\n",
       "      <td>0.845588</td>\n",
       "      <td>0.849607</td>\n",
       "      <td>0.039440</td>\n",
       "      <td>-0.484491</td>\n",
       "      <td>-0.058654</td>\n",
       "      <td>-0.303732</td>\n",
       "      <td>1.000000</td>\n",
       "      <td>-0.106232</td>\n",
       "      <td>-0.134191</td>\n",
       "      <td>0.150278</td>\n",
       "    </tr>\n",
       "    <tr>\n",
       "      <th>т2270/3</th>\n",
       "      <td>-0.490041</td>\n",
       "      <td>-0.517532</td>\n",
       "      <td>-0.185082</td>\n",
       "      <td>-0.182288</td>\n",
       "      <td>-0.825282</td>\n",
       "      <td>0.096726</td>\n",
       "      <td>0.676025</td>\n",
       "      <td>0.096679</td>\n",
       "      <td>-0.106232</td>\n",
       "      <td>1.000000</td>\n",
       "      <td>0.984508</td>\n",
       "      <td>-0.487687</td>\n",
       "    </tr>\n",
       "    <tr>\n",
       "      <th>техн104</th>\n",
       "      <td>-0.487521</td>\n",
       "      <td>-0.519425</td>\n",
       "      <td>-0.218088</td>\n",
       "      <td>-0.215900</td>\n",
       "      <td>-0.846381</td>\n",
       "      <td>0.098974</td>\n",
       "      <td>0.668049</td>\n",
       "      <td>0.109760</td>\n",
       "      <td>-0.134191</td>\n",
       "      <td>0.984508</td>\n",
       "      <td>1.000000</td>\n",
       "      <td>-0.501131</td>\n",
       "    </tr>\n",
       "    <tr>\n",
       "      <th>т2263</th>\n",
       "      <td>0.495149</td>\n",
       "      <td>0.485792</td>\n",
       "      <td>0.284406</td>\n",
       "      <td>0.294779</td>\n",
       "      <td>0.523720</td>\n",
       "      <td>0.147736</td>\n",
       "      <td>-0.325211</td>\n",
       "      <td>0.059638</td>\n",
       "      <td>0.150278</td>\n",
       "      <td>-0.487687</td>\n",
       "      <td>-0.501131</td>\n",
       "      <td>1.000000</td>\n",
       "    </tr>\n",
       "  </tbody>\n",
       "</table>\n",
       "</div>"
      ],
      "text/plain": [
       "            т2267     т2268     т2379     т2380     т2266   т2266/2   т2266/3  \\\n",
       "т2267    1.000000  0.959150 -0.249139 -0.238390  0.523585  0.153380 -0.394177   \n",
       "т2268    0.959150  1.000000 -0.220172 -0.211547  0.538830  0.158081 -0.433678   \n",
       "т2379   -0.249139 -0.220172  1.000000  0.996081  0.104147 -0.243509 -0.059574   \n",
       "т2380   -0.238390 -0.211547  0.996081  1.000000  0.108331 -0.252571 -0.061379   \n",
       "т2266    0.523585  0.538830  0.104147  0.108331  1.000000 -0.022500 -0.633424   \n",
       "т2266/2  0.153380  0.158081 -0.243509 -0.252571 -0.022500  1.000000  0.202402   \n",
       "т2266/3 -0.394177 -0.433678 -0.059574 -0.061379 -0.633424  0.202402  1.000000   \n",
       "т2266/4  0.038790  0.014549 -0.295248 -0.296595  0.032034  0.209925  0.118877   \n",
       "т2270   -0.300808 -0.284704  0.845588  0.849607  0.039440 -0.484491 -0.058654   \n",
       "т2270/3 -0.490041 -0.517532 -0.185082 -0.182288 -0.825282  0.096726  0.676025   \n",
       "техн104 -0.487521 -0.519425 -0.218088 -0.215900 -0.846381  0.098974  0.668049   \n",
       "т2263    0.495149  0.485792  0.284406  0.294779  0.523720  0.147736 -0.325211   \n",
       "\n",
       "          т2266/4     т2270   т2270/3   техн104     т2263  \n",
       "т2267    0.038790 -0.300808 -0.490041 -0.487521  0.495149  \n",
       "т2268    0.014549 -0.284704 -0.517532 -0.519425  0.485792  \n",
       "т2379   -0.295248  0.845588 -0.185082 -0.218088  0.284406  \n",
       "т2380   -0.296595  0.849607 -0.182288 -0.215900  0.294779  \n",
       "т2266    0.032034  0.039440 -0.825282 -0.846381  0.523720  \n",
       "т2266/2  0.209925 -0.484491  0.096726  0.098974  0.147736  \n",
       "т2266/3  0.118877 -0.058654  0.676025  0.668049 -0.325211  \n",
       "т2266/4  1.000000 -0.303732  0.096679  0.109760  0.059638  \n",
       "т2270   -0.303732  1.000000 -0.106232 -0.134191  0.150278  \n",
       "т2270/3  0.096679 -0.106232  1.000000  0.984508 -0.487687  \n",
       "техн104  0.109760 -0.134191  0.984508  1.000000 -0.501131  \n",
       "т2263    0.059638  0.150278 -0.487687 -0.501131  1.000000  "
      ]
     },
     "execution_count": 22,
     "metadata": {},
     "output_type": "execute_result"
    }
   ],
   "source": [
    "def histogram_intersection(a, b):\n",
    "    v = np.minimum(a, b).sum().round(decimals=1)\n",
    "    return v\n",
    "correlations = df_o.corr() \n",
    "correlations"
   ]
  },
  {
   "cell_type": "markdown",
   "metadata": {},
   "source": [
    "We may observe that for our `Y = т2263` there are correlations almost with all features, excepting  `т2266/3`. But based on physics, I can conclude that we may leave this feature too."
   ]
  },
  {
   "cell_type": "code",
   "execution_count": 23,
   "metadata": {},
   "outputs": [
    {
     "data": {
      "text/plain": [
       "техн104   -0.501131\n",
       "т2270/3   -0.487687\n",
       "т2266/3   -0.325211\n",
       "т2266/4    0.059638\n",
       "т2266/2    0.147736\n",
       "т2270      0.150278\n",
       "т2379      0.284406\n",
       "т2380      0.294779\n",
       "т2268      0.485792\n",
       "т2267      0.495149\n",
       "т2266      0.523720\n",
       "т2263      1.000000\n",
       "Name: т2263, dtype: float64"
      ]
     },
     "execution_count": 23,
     "metadata": {},
     "output_type": "execute_result"
    }
   ],
   "source": [
    "# Find all correlations with our target and sort them:\n",
    "correlations_data = df_o.corr()['т2263'].sort_values()\n",
    "correlations_data"
   ]
  },
  {
   "cell_type": "markdown",
   "metadata": {},
   "source": [
    "## Stationarity"
   ]
  },
  {
   "cell_type": "markdown",
   "metadata": {},
   "source": [
    "An essential concept in time series analysis is the concept of stationarity. Stationarity or constancy is the property of a process not to change its characteristics over time. In that case, we should use the Dickey-Fuller test.\n",
    "\n",
    "The data seems to be stationary (except `т2266` - here we have a trend), but let's check it:"
   ]
  },
  {
   "cell_type": "code",
   "execution_count": 24,
   "metadata": {},
   "outputs": [],
   "source": [
    "data_2263 = df_o.loc[:, 'т2263'].to_numpy()"
   ]
  },
  {
   "cell_type": "code",
   "execution_count": 25,
   "metadata": {},
   "outputs": [
    {
     "data": {
      "text/plain": [
       "(241139,)"
      ]
     },
     "execution_count": 25,
     "metadata": {},
     "output_type": "execute_result"
    }
   ],
   "source": [
    "data_2263.shape"
   ]
  },
  {
   "cell_type": "markdown",
   "metadata": {},
   "source": [
    "**Stationary analysis for several feature and the target**"
   ]
  },
  {
   "cell_type": "code",
   "execution_count": 26,
   "metadata": {},
   "outputs": [],
   "source": [
    "result1 = adfuller(data_2263)"
   ]
  },
  {
   "cell_type": "code",
   "execution_count": 27,
   "metadata": {},
   "outputs": [
    {
     "name": "stdout",
     "output_type": "stream",
     "text": [
      "ADF Statistic: -10.251940\n",
      "p-value: 0.000000\n",
      "Critical Values:\n",
      "\t1%: -3.430\n",
      "\t5%: -2.862\n",
      "\t10%: -2.567\n"
     ]
    }
   ],
   "source": [
    "print('ADF Statistic: %f' % result1[0])\n",
    "print('p-value: %f' % result1[1])\n",
    "print('Critical Values:')\n",
    "for key, value in result1[4].items():\n",
    "    print('\\t%s: %.3f' % (key, value))"
   ]
  },
  {
   "cell_type": "code",
   "execution_count": 28,
   "metadata": {},
   "outputs": [],
   "source": [
    "data_2268 = df_o.loc[:, 'т2266'].to_numpy()"
   ]
  },
  {
   "cell_type": "code",
   "execution_count": 29,
   "metadata": {},
   "outputs": [
    {
     "data": {
      "text/plain": [
       "(241139,)"
      ]
     },
     "execution_count": 29,
     "metadata": {},
     "output_type": "execute_result"
    }
   ],
   "source": [
    "data_2268.shape"
   ]
  },
  {
   "cell_type": "code",
   "execution_count": 30,
   "metadata": {},
   "outputs": [],
   "source": [
    "result2 = adfuller(data_2268)"
   ]
  },
  {
   "cell_type": "code",
   "execution_count": 31,
   "metadata": {},
   "outputs": [
    {
     "name": "stdout",
     "output_type": "stream",
     "text": [
      "ADF Statistic: -4.564766\n",
      "p-value: 0.000150\n",
      "Critical Values:\n",
      "\t1%: -3.430\n",
      "\t5%: -2.862\n",
      "\t10%: -2.567\n"
     ]
    }
   ],
   "source": [
    "print('ADF Statistic: %f' % result2[0])\n",
    "print('p-value: %f' % result2[1])\n",
    "print('Critical Values:')\n",
    "for key, value in result2[4].items():\n",
    "    print('\\t%s: %.3f' % (key, value))"
   ]
  },
  {
   "cell_type": "markdown",
   "metadata": {},
   "source": [
    "As we see, the p-value is equal to zero, which is mean that the data is stationary.\n",
    "\n",
    "Let's check now the `т2266`:"
   ]
  },
  {
   "cell_type": "code",
   "execution_count": 32,
   "metadata": {},
   "outputs": [],
   "source": [
    "data_2266 = df_o.loc[:, 'т2266'].to_numpy()"
   ]
  },
  {
   "cell_type": "code",
   "execution_count": 33,
   "metadata": {},
   "outputs": [
    {
     "data": {
      "text/plain": [
       "(241139,)"
      ]
     },
     "execution_count": 33,
     "metadata": {},
     "output_type": "execute_result"
    }
   ],
   "source": [
    "data_2266.shape"
   ]
  },
  {
   "cell_type": "code",
   "execution_count": 34,
   "metadata": {},
   "outputs": [],
   "source": [
    "result3 = adfuller(data_2266)"
   ]
  },
  {
   "cell_type": "code",
   "execution_count": 35,
   "metadata": {},
   "outputs": [
    {
     "name": "stdout",
     "output_type": "stream",
     "text": [
      "ADF Statistic: -4.564766\n",
      "p-value: 0.000150\n",
      "Critical Values:\n",
      "\t1%: -3.430\n",
      "\t5%: -2.862\n",
      "\t10%: -2.567\n"
     ]
    }
   ],
   "source": [
    "print('ADF Statistic: %f' % result3[0])\n",
    "print('p-value: %f' % result3[1])\n",
    "print('Critical Values:')\n",
    "for key, value in result3[4].items():\n",
    "    print('\\t%s: %.3f' % (key, value))"
   ]
  },
  {
   "cell_type": "markdown",
   "metadata": {},
   "source": [
    "The p-value of `т2266` is also almost equal to zero, which means its stationarity."
   ]
  },
  {
   "cell_type": "markdown",
   "metadata": {},
   "source": [
    "# Building machine learning models"
   ]
  },
  {
   "cell_type": "markdown",
   "metadata": {},
   "source": [
    "## Splitting data into train and test datasets"
   ]
  },
  {
   "cell_type": "code",
   "execution_count": 36,
   "metadata": {},
   "outputs": [
    {
     "data": {
      "text/html": [
       "<div>\n",
       "<style scoped>\n",
       "    .dataframe tbody tr th:only-of-type {\n",
       "        vertical-align: middle;\n",
       "    }\n",
       "\n",
       "    .dataframe tbody tr th {\n",
       "        vertical-align: top;\n",
       "    }\n",
       "\n",
       "    .dataframe thead th {\n",
       "        text-align: right;\n",
       "    }\n",
       "</style>\n",
       "<table border=\"1\" class=\"dataframe\">\n",
       "  <thead>\n",
       "    <tr style=\"text-align: right;\">\n",
       "      <th></th>\n",
       "      <th>т2267</th>\n",
       "      <th>т2268</th>\n",
       "      <th>т2379</th>\n",
       "      <th>т2380</th>\n",
       "      <th>т2266</th>\n",
       "      <th>т2266/2</th>\n",
       "      <th>т2266/3</th>\n",
       "      <th>т2266/4</th>\n",
       "      <th>т2270</th>\n",
       "      <th>т2270/3</th>\n",
       "      <th>техн104</th>\n",
       "    </tr>\n",
       "  </thead>\n",
       "  <tbody>\n",
       "    <tr>\n",
       "      <th>0</th>\n",
       "      <td>77915.974685</td>\n",
       "      <td>77889.115676</td>\n",
       "      <td>602.987379</td>\n",
       "      <td>0.000000</td>\n",
       "      <td>379396.596650</td>\n",
       "      <td>1815.736572</td>\n",
       "      <td>24.264420</td>\n",
       "      <td>896.875000</td>\n",
       "      <td>4324.767273</td>\n",
       "      <td>15.200000</td>\n",
       "      <td>15.000000</td>\n",
       "    </tr>\n",
       "    <tr>\n",
       "      <th>1</th>\n",
       "      <td>78294.718755</td>\n",
       "      <td>78271.682542</td>\n",
       "      <td>600.824843</td>\n",
       "      <td>0.000000</td>\n",
       "      <td>338987.432843</td>\n",
       "      <td>1875.114014</td>\n",
       "      <td>24.200001</td>\n",
       "      <td>897.693542</td>\n",
       "      <td>4241.105630</td>\n",
       "      <td>15.200000</td>\n",
       "      <td>14.922112</td>\n",
       "    </tr>\n",
       "    <tr>\n",
       "      <th>2</th>\n",
       "      <td>78007.556062</td>\n",
       "      <td>77979.785548</td>\n",
       "      <td>602.037766</td>\n",
       "      <td>0.000000</td>\n",
       "      <td>328669.419080</td>\n",
       "      <td>1827.952393</td>\n",
       "      <td>24.200001</td>\n",
       "      <td>896.916321</td>\n",
       "      <td>4186.155354</td>\n",
       "      <td>15.200000</td>\n",
       "      <td>14.900010</td>\n",
       "    </tr>\n",
       "    <tr>\n",
       "      <th>3</th>\n",
       "      <td>78255.374891</td>\n",
       "      <td>78243.088911</td>\n",
       "      <td>603.667469</td>\n",
       "      <td>0.000000</td>\n",
       "      <td>366827.243284</td>\n",
       "      <td>1867.092773</td>\n",
       "      <td>24.200001</td>\n",
       "      <td>896.875000</td>\n",
       "      <td>4378.600955</td>\n",
       "      <td>15.200000</td>\n",
       "      <td>14.900010</td>\n",
       "    </tr>\n",
       "    <tr>\n",
       "      <th>4</th>\n",
       "      <td>78474.798964</td>\n",
       "      <td>78439.012732</td>\n",
       "      <td>602.012647</td>\n",
       "      <td>0.000000</td>\n",
       "      <td>422759.212899</td>\n",
       "      <td>1898.480225</td>\n",
       "      <td>24.245493</td>\n",
       "      <td>896.234375</td>\n",
       "      <td>4155.943112</td>\n",
       "      <td>15.200000</td>\n",
       "      <td>14.825890</td>\n",
       "    </tr>\n",
       "    <tr>\n",
       "      <th>...</th>\n",
       "      <td>...</td>\n",
       "      <td>...</td>\n",
       "      <td>...</td>\n",
       "      <td>...</td>\n",
       "      <td>...</td>\n",
       "      <td>...</td>\n",
       "      <td>...</td>\n",
       "      <td>...</td>\n",
       "      <td>...</td>\n",
       "      <td>...</td>\n",
       "      <td>...</td>\n",
       "    </tr>\n",
       "    <tr>\n",
       "      <th>262556</th>\n",
       "      <td>85930.648875</td>\n",
       "      <td>78598.570272</td>\n",
       "      <td>6026.030281</td>\n",
       "      <td>6001.688268</td>\n",
       "      <td>825982.568036</td>\n",
       "      <td>1896.046265</td>\n",
       "      <td>20.100010</td>\n",
       "      <td>866.703674</td>\n",
       "      <td>22540.618260</td>\n",
       "      <td>-1.699997</td>\n",
       "      <td>-2.500000</td>\n",
       "    </tr>\n",
       "    <tr>\n",
       "      <th>262557</th>\n",
       "      <td>85976.682631</td>\n",
       "      <td>80948.197718</td>\n",
       "      <td>6010.062373</td>\n",
       "      <td>5987.957000</td>\n",
       "      <td>826417.173541</td>\n",
       "      <td>1902.887085</td>\n",
       "      <td>20.100010</td>\n",
       "      <td>866.863220</td>\n",
       "      <td>22555.051800</td>\n",
       "      <td>-1.699997</td>\n",
       "      <td>-2.500000</td>\n",
       "    </tr>\n",
       "    <tr>\n",
       "      <th>262558</th>\n",
       "      <td>85929.814710</td>\n",
       "      <td>80387.705109</td>\n",
       "      <td>5952.545727</td>\n",
       "      <td>5926.435257</td>\n",
       "      <td>825907.614717</td>\n",
       "      <td>1895.516846</td>\n",
       "      <td>20.100019</td>\n",
       "      <td>865.954102</td>\n",
       "      <td>22725.313998</td>\n",
       "      <td>-1.699997</td>\n",
       "      <td>-2.500000</td>\n",
       "    </tr>\n",
       "    <tr>\n",
       "      <th>262559</th>\n",
       "      <td>85959.341942</td>\n",
       "      <td>82035.529074</td>\n",
       "      <td>5759.869833</td>\n",
       "      <td>5733.626435</td>\n",
       "      <td>826243.225273</td>\n",
       "      <td>1899.486328</td>\n",
       "      <td>20.100031</td>\n",
       "      <td>863.094360</td>\n",
       "      <td>22408.644789</td>\n",
       "      <td>-1.699997</td>\n",
       "      <td>-2.500000</td>\n",
       "    </tr>\n",
       "    <tr>\n",
       "      <th>262560</th>\n",
       "      <td>86169.949278</td>\n",
       "      <td>83271.954999</td>\n",
       "      <td>5591.292193</td>\n",
       "      <td>5583.059647</td>\n",
       "      <td>828064.909118</td>\n",
       "      <td>1921.149170</td>\n",
       "      <td>19.974314</td>\n",
       "      <td>863.610291</td>\n",
       "      <td>22595.175967</td>\n",
       "      <td>-1.699997</td>\n",
       "      <td>-2.500000</td>\n",
       "    </tr>\n",
       "  </tbody>\n",
       "</table>\n",
       "<p>241139 rows × 11 columns</p>\n",
       "</div>"
      ],
      "text/plain": [
       "               т2267         т2268        т2379        т2380          т2266  \\\n",
       "0       77915.974685  77889.115676   602.987379     0.000000  379396.596650   \n",
       "1       78294.718755  78271.682542   600.824843     0.000000  338987.432843   \n",
       "2       78007.556062  77979.785548   602.037766     0.000000  328669.419080   \n",
       "3       78255.374891  78243.088911   603.667469     0.000000  366827.243284   \n",
       "4       78474.798964  78439.012732   602.012647     0.000000  422759.212899   \n",
       "...              ...           ...          ...          ...            ...   \n",
       "262556  85930.648875  78598.570272  6026.030281  6001.688268  825982.568036   \n",
       "262557  85976.682631  80948.197718  6010.062373  5987.957000  826417.173541   \n",
       "262558  85929.814710  80387.705109  5952.545727  5926.435257  825907.614717   \n",
       "262559  85959.341942  82035.529074  5759.869833  5733.626435  826243.225273   \n",
       "262560  86169.949278  83271.954999  5591.292193  5583.059647  828064.909118   \n",
       "\n",
       "            т2266/2    т2266/3     т2266/4         т2270    т2270/3    техн104  \n",
       "0       1815.736572  24.264420  896.875000   4324.767273  15.200000  15.000000  \n",
       "1       1875.114014  24.200001  897.693542   4241.105630  15.200000  14.922112  \n",
       "2       1827.952393  24.200001  896.916321   4186.155354  15.200000  14.900010  \n",
       "3       1867.092773  24.200001  896.875000   4378.600955  15.200000  14.900010  \n",
       "4       1898.480225  24.245493  896.234375   4155.943112  15.200000  14.825890  \n",
       "...             ...        ...         ...           ...        ...        ...  \n",
       "262556  1896.046265  20.100010  866.703674  22540.618260  -1.699997  -2.500000  \n",
       "262557  1902.887085  20.100010  866.863220  22555.051800  -1.699997  -2.500000  \n",
       "262558  1895.516846  20.100019  865.954102  22725.313998  -1.699997  -2.500000  \n",
       "262559  1899.486328  20.100031  863.094360  22408.644789  -1.699997  -2.500000  \n",
       "262560  1921.149170  19.974314  863.610291  22595.175967  -1.699997  -2.500000  \n",
       "\n",
       "[241139 rows x 11 columns]"
      ]
     },
     "execution_count": 36,
     "metadata": {},
     "output_type": "execute_result"
    }
   ],
   "source": [
    "# Features\n",
    "X = df_o.loc[:, 'т2267':'техн104'] \n",
    "X"
   ]
  },
  {
   "cell_type": "code",
   "execution_count": 37,
   "metadata": {},
   "outputs": [
    {
     "data": {
      "text/plain": [
       "0         240.600980\n",
       "1         241.615763\n",
       "2         243.259191\n",
       "3         243.322008\n",
       "4         243.848389\n",
       "             ...    \n",
       "262556    342.606334\n",
       "262557    341.959865\n",
       "262558    341.420256\n",
       "262559    341.231740\n",
       "262560    341.299132\n",
       "Name: т2263, Length: 241139, dtype: float64"
      ]
     },
     "execution_count": 37,
     "metadata": {},
     "output_type": "execute_result"
    }
   ],
   "source": [
    "# Target\n",
    "Y = df_o.loc[:, 'т2263'] \n",
    "Y "
   ]
  },
  {
   "cell_type": "code",
   "execution_count": 38,
   "metadata": {},
   "outputs": [],
   "source": [
    "# Splitting into Train-Test parts \n",
    "X_train = X[:int(X.shape[0]*0.7)]\n",
    "X_test = X[int(X.shape[0]*0.7):]\n",
    "y_train = Y[:int(X.shape[0]*0.7)]\n",
    "y_test = Y[int(X.shape[0]*0.7):]"
   ]
  },
  {
   "cell_type": "code",
   "execution_count": 39,
   "metadata": {},
   "outputs": [],
   "source": [
    "# Preparing the metrics\n",
    "mse = mean_squared_error\n",
    "mae = mean_absolute_error\n",
    "mape = mean_absolute_percentage_error"
   ]
  },
  {
   "cell_type": "markdown",
   "metadata": {},
   "source": [
    "## XGBRegressor"
   ]
  },
  {
   "cell_type": "code",
   "execution_count": 40,
   "metadata": {},
   "outputs": [],
   "source": [
    "xgb = XGBRegressor()"
   ]
  },
  {
   "cell_type": "code",
   "execution_count": 41,
   "metadata": {},
   "outputs": [
    {
     "data": {
      "text/plain": [
       "XGBRegressor(base_score=0.5, booster='gbtree', colsample_bylevel=1,\n",
       "             colsample_bynode=1, colsample_bytree=1, gamma=0, gpu_id=-1,\n",
       "             importance_type='gain', interaction_constraints='',\n",
       "             learning_rate=0.300000012, max_delta_step=0, max_depth=6,\n",
       "             min_child_weight=1, missing=nan, monotone_constraints='()',\n",
       "             n_estimators=100, n_jobs=8, num_parallel_tree=1, random_state=0,\n",
       "             reg_alpha=0, reg_lambda=1, scale_pos_weight=1, subsample=1,\n",
       "             tree_method='exact', validate_parameters=1, verbosity=None)"
      ]
     },
     "execution_count": 41,
     "metadata": {},
     "output_type": "execute_result"
    }
   ],
   "source": [
    "xgb.fit(X_train, y_train)"
   ]
  },
  {
   "cell_type": "code",
   "execution_count": 42,
   "metadata": {},
   "outputs": [],
   "source": [
    "pred = xgb.predict(X_test)\n"
   ]
  },
  {
   "cell_type": "code",
   "execution_count": 43,
   "metadata": {},
   "outputs": [
    {
     "name": "stdout",
     "output_type": "stream",
     "text": [
      "+-----------+--------------------+---------------------+--------------------------------+\n",
      "| Metrics:  | Mean squared error | Mean absolute error | Mean absolute percentage error |\n",
      "+-----------+--------------------+---------------------+--------------------------------+\n",
      "| Results:  |       651.46       |        19.09        |              0.06              |\n",
      "+-----------+--------------------+---------------------+--------------------------------+\n"
     ]
    }
   ],
   "source": [
    "# Put the results in the table\n",
    "\n",
    "th = ['Metrics: ', 'Mean squared error', 'Mean absolute error', 'Mean absolute percentage error']\n",
    "td = ['Results: ', str(round(mse(pred, y_test), 2)), str(round(mae(pred, y_test), 2)), str(round(mape(pred, y_test), 2))]\n",
    "\n",
    "table_columns = len(th) \n",
    "table = PrettyTable(th) \n",
    "td_data = td[:]\n",
    "\n",
    "while td_data:\n",
    "    table.add_row(td_data[:table_columns])\n",
    "    td_data = td_data[table_columns:]\n",
    "\n",
    "print(table)\n"
   ]
  },
  {
   "cell_type": "markdown",
   "metadata": {},
   "source": [
    "### Feature importance"
   ]
  },
  {
   "cell_type": "markdown",
   "metadata": {},
   "source": [
    "**Feature importance** for `XGBoost` (it's a very efficient implementation of the stochastic gradient boosting machine learning algorithm):"
   ]
  },
  {
   "cell_type": "code",
   "execution_count": 44,
   "metadata": {},
   "outputs": [
    {
     "data": {
      "image/png": "[encoded data removed]",
      "text/plain": [
       "<Figure size 720x576 with 1 Axes>"
      ]
     },
     "metadata": {
      "needs_background": "light"
     },
     "output_type": "display_data"
    }
   ],
   "source": [
    "feature_importances_xgb = xgb.feature_importances_\n",
    "df_xgb = pd.DataFrame({'XGBoost': feature_importances_xgb}, index=columns[1:-1])\n",
    "\n",
    "df_xgb = df_xgb.nsmallest(15, 'XGBoost')\n",
    "ax = df_xgb.plot.barh(figsize=(10,8))\n",
    "ax.set_xlabel('Relative importance')\n",
    "ax.set_title('Feature importance')\n",
    "ax.legend(loc='lower right')\n",
    "plt.style.use('seaborn-whitegrid')\n",
    "plt.show()"
   ]
  },
  {
   "cell_type": "markdown",
   "metadata": {},
   "source": [
    "There are five of the most important features for XGBRegressor, but we also considered the rest (below, you may find a try about considering just those five features)."
   ]
  },
  {
   "cell_type": "markdown",
   "metadata": {},
   "source": [
    "### Visualization of predicted values for XGB"
   ]
  },
  {
   "cell_type": "markdown",
   "metadata": {},
   "source": [
    "The code below constructs a new data frame and consists of the last 72342 points of the initial dataset, predicted and real values of `т2263`. \n",
    "\n",
    "Later, we'll plot the result on the whole dataset with the best model."
   ]
  },
  {
   "cell_type": "code",
   "execution_count": 45,
   "metadata": {},
   "outputs": [],
   "source": [
    "# Creating new DataFrame for vizualization:\n",
    "time = df.loc[(len(df)-(len(pred))):, 'V_DATE']\n",
    "time_reset = time.reset_index()\n",
    "time = time_reset['V_DATE']\n",
    "df_time = pd.DataFrame(time).copy()\n",
    "df_pred = pd.DataFrame(pred, columns=['Prediction of т2263']).copy()\n",
    "df_real = y_test.reset_index()['т2263']"
   ]
  },
  {
   "cell_type": "code",
   "execution_count": 46,
   "metadata": {},
   "outputs": [
    {
     "data": {
      "text/html": [
       "<div>\n",
       "<style scoped>\n",
       "    .dataframe tbody tr th:only-of-type {\n",
       "        vertical-align: middle;\n",
       "    }\n",
       "\n",
       "    .dataframe tbody tr th {\n",
       "        vertical-align: top;\n",
       "    }\n",
       "\n",
       "    .dataframe thead th {\n",
       "        text-align: right;\n",
       "    }\n",
       "</style>\n",
       "<table border=\"1\" class=\"dataframe\">\n",
       "  <thead>\n",
       "    <tr style=\"text-align: right;\">\n",
       "      <th></th>\n",
       "      <th>V_DATE</th>\n",
       "      <th>Prediction of т2263</th>\n",
       "      <th>т2263</th>\n",
       "    </tr>\n",
       "  </thead>\n",
       "  <tbody>\n",
       "    <tr>\n",
       "      <th>0</th>\n",
       "      <td>2020-12-11 00:49:00</td>\n",
       "      <td>211.041107</td>\n",
       "      <td>219.038798</td>\n",
       "    </tr>\n",
       "    <tr>\n",
       "      <th>1</th>\n",
       "      <td>2020-12-11 00:50:00</td>\n",
       "      <td>209.913757</td>\n",
       "      <td>222.553487</td>\n",
       "    </tr>\n",
       "    <tr>\n",
       "      <th>2</th>\n",
       "      <td>2020-12-11 00:51:00</td>\n",
       "      <td>209.968323</td>\n",
       "      <td>222.452367</td>\n",
       "    </tr>\n",
       "    <tr>\n",
       "      <th>3</th>\n",
       "      <td>2020-12-11 00:52:00</td>\n",
       "      <td>215.718002</td>\n",
       "      <td>225.528156</td>\n",
       "    </tr>\n",
       "    <tr>\n",
       "      <th>4</th>\n",
       "      <td>2020-12-11 00:53:00</td>\n",
       "      <td>210.954086</td>\n",
       "      <td>227.972322</td>\n",
       "    </tr>\n",
       "    <tr>\n",
       "      <th>...</th>\n",
       "      <td>...</td>\n",
       "      <td>...</td>\n",
       "      <td>...</td>\n",
       "    </tr>\n",
       "    <tr>\n",
       "      <th>72337</th>\n",
       "      <td>2021-01-31 20:55:00</td>\n",
       "      <td>271.503967</td>\n",
       "      <td>342.606334</td>\n",
       "    </tr>\n",
       "    <tr>\n",
       "      <th>72338</th>\n",
       "      <td>2021-01-31 20:56:00</td>\n",
       "      <td>271.503967</td>\n",
       "      <td>341.959865</td>\n",
       "    </tr>\n",
       "    <tr>\n",
       "      <th>72339</th>\n",
       "      <td>2021-01-31 20:57:00</td>\n",
       "      <td>278.024414</td>\n",
       "      <td>341.420256</td>\n",
       "    </tr>\n",
       "    <tr>\n",
       "      <th>72340</th>\n",
       "      <td>2021-01-31 20:58:00</td>\n",
       "      <td>279.879089</td>\n",
       "      <td>341.231740</td>\n",
       "    </tr>\n",
       "    <tr>\n",
       "      <th>72341</th>\n",
       "      <td>2021-01-31 20:59:00</td>\n",
       "      <td>267.546631</td>\n",
       "      <td>341.299132</td>\n",
       "    </tr>\n",
       "  </tbody>\n",
       "</table>\n",
       "<p>72342 rows × 3 columns</p>\n",
       "</div>"
      ],
      "text/plain": [
       "                   V_DATE  Prediction of т2263       т2263\n",
       "0     2020-12-11 00:49:00           211.041107  219.038798\n",
       "1     2020-12-11 00:50:00           209.913757  222.553487\n",
       "2     2020-12-11 00:51:00           209.968323  222.452367\n",
       "3     2020-12-11 00:52:00           215.718002  225.528156\n",
       "4     2020-12-11 00:53:00           210.954086  227.972322\n",
       "...                   ...                  ...         ...\n",
       "72337 2021-01-31 20:55:00           271.503967  342.606334\n",
       "72338 2021-01-31 20:56:00           271.503967  341.959865\n",
       "72339 2021-01-31 20:57:00           278.024414  341.420256\n",
       "72340 2021-01-31 20:58:00           279.879089  341.231740\n",
       "72341 2021-01-31 20:59:00           267.546631  341.299132\n",
       "\n",
       "[72342 rows x 3 columns]"
      ]
     },
     "execution_count": 46,
     "metadata": {},
     "output_type": "execute_result"
    }
   ],
   "source": [
    "# Adding new information to the dataframe\n",
    "\n",
    "df_result = pd.concat([df_time, df_pred, df_real], axis=1)\n",
    "df_result"
   ]
  },
  {
   "cell_type": "code",
   "execution_count": 47,
   "metadata": {},
   "outputs": [],
   "source": [
    "# Creating a list with columns\n",
    "cols = []\n",
    "for column in df_result.columns:\n",
    "    cols.append(column)"
   ]
  },
  {
   "cell_type": "code",
   "execution_count": 84,
   "metadata": {},
   "outputs": [
    {
     "data": {
      "text/plain": [
       "'# Vizualizing the data with predictions\\nfig = px.line(df_result, x=cols[0], y=cols[1:])\\nfig.show()'"
      ]
     },
     "execution_count": 84,
     "metadata": {},
     "output_type": "execute_result"
    }
   ],
   "source": [
    "'''# Vizualizing the data with predictions\n",
    "fig = px.line(df_result, x=cols[0], y=cols[1:])\n",
    "fig.show()'''"
   ]
  },
  {
   "cell_type": "markdown",
   "metadata": {},
   "source": [
    "![data_with_predictions](images/data_with_predictions.png)"
   ]
  },
  {
   "cell_type": "markdown",
   "metadata": {},
   "source": [
    "## Comparing with another ML methods"
   ]
  },
  {
   "cell_type": "code",
   "execution_count": 49,
   "metadata": {},
   "outputs": [],
   "source": [
    "# # Function to evaluate models` mse\n",
    "def fit_and_evaluate(model):\n",
    "    \n",
    "    # Train the model\n",
    "    model.fit(X_train, y_train)\n",
    "    \n",
    "    # Make predictions and evalute\n",
    "    model_pred = model.predict(X_test)\n",
    "    model_mse = mse(y_test, model_pred)\n",
    "    \n",
    "    # Return the performance metric\n",
    "    return model_mse"
   ]
  },
  {
   "cell_type": "markdown",
   "metadata": {},
   "source": [
    "###  LinearRegression"
   ]
  },
  {
   "cell_type": "code",
   "execution_count": 50,
   "metadata": {},
   "outputs": [
    {
     "name": "stdout",
     "output_type": "stream",
     "text": [
      "Linear Regression Performance on the test set: MSE = 879.8639\n"
     ]
    }
   ],
   "source": [
    "lr = LinearRegression()\n",
    "lr_mse = fit_and_evaluate(lr)\n",
    "\n",
    "print('Linear Regression Performance on the test set: MSE = %0.4f' % lr_mse)"
   ]
  },
  {
   "cell_type": "markdown",
   "metadata": {},
   "source": [
    "### RandomForestRegressor"
   ]
  },
  {
   "cell_type": "code",
   "execution_count": 51,
   "metadata": {},
   "outputs": [
    {
     "name": "stdout",
     "output_type": "stream",
     "text": [
      "Random Forest Regression Performance on the test set: MSE = 671.5534\n"
     ]
    }
   ],
   "source": [
    "random_forest = RandomForestRegressor(random_state=60)\n",
    "random_forest_mse = fit_and_evaluate(random_forest)\n",
    "\n",
    "print('Random Forest Regression Performance on the test set: MSE = %0.4f' % random_forest_mse)"
   ]
  },
  {
   "cell_type": "markdown",
   "metadata": {},
   "source": [
    "### GradientBoostingRegressor"
   ]
  },
  {
   "cell_type": "code",
   "execution_count": 52,
   "metadata": {},
   "outputs": [
    {
     "name": "stdout",
     "output_type": "stream",
     "text": [
      "Gradient Boosted Regression Performance on the test set: MSE = 382.0140\n"
     ]
    }
   ],
   "source": [
    "gradient_boost = GradientBoostingRegressor(random_state=60)\n",
    "gradient_boost_mse = fit_and_evaluate(gradient_boost)\n",
    "\n",
    "print('Gradient Boosted Regression Performance on the test set: MSE = %0.4f' % gradient_boost_mse)"
   ]
  },
  {
   "cell_type": "markdown",
   "metadata": {},
   "source": [
    "### KNeighborsRegressor"
   ]
  },
  {
   "cell_type": "code",
   "execution_count": 53,
   "metadata": {},
   "outputs": [
    {
     "name": "stdout",
     "output_type": "stream",
     "text": [
      "K-Nearest Neighbors Regression Performance on the test set: MSE = 519.7118\n"
     ]
    }
   ],
   "source": [
    "knn = KNeighborsRegressor(n_neighbors=10)\n",
    "knn_mse = fit_and_evaluate(knn)\n",
    "\n",
    "print('K-Nearest Neighbors Regression Performance on the test set: MSE = %0.4f' % knn_mse)"
   ]
  },
  {
   "cell_type": "code",
   "execution_count": 54,
   "metadata": {},
   "outputs": [
    {
     "name": "stdout",
     "output_type": "stream",
     "text": [
      "XGBRegressor Performance on the test set: MSE = 651.4600\n"
     ]
    }
   ],
   "source": [
    "xgb_mse = round(mse(pred, y_test), 2)\n",
    "\n",
    "print('XGBRegressor Performance on the test set: MSE = %0.4f' % xgb_mse)"
   ]
  },
  {
   "cell_type": "markdown",
   "metadata": {},
   "source": [
    "## Plotting metrics' results"
   ]
  },
  {
   "cell_type": "code",
   "execution_count": 55,
   "metadata": {},
   "outputs": [
    {
     "data": {
      "text/plain": [
       "<Figure size 432x288 with 0 Axes>"
      ]
     },
     "metadata": {},
     "output_type": "display_data"
    },
    {
     "data": {
      "image/png": "[encoded data removed]",
      "text/plain": [
       "<Figure size 432x288 with 1 Axes>"
      ]
     },
     "metadata": {},
     "output_type": "display_data"
    }
   ],
   "source": [
    "fig = plt.figure()\n",
    "plt.style.use('seaborn-whitegrid')\n",
    "\n",
    "# Dataframe to hold the results\n",
    "model_comparison = pd.DataFrame({'model': ['Linear Regression', 'XGBRegressor',\n",
    "                                           'Random Forest', 'Gradient Boosting',\n",
    "                                            'K-Nearest Neighbors'],\n",
    "                                 'mse': [lr_mse, xgb_mse, random_forest_mse, \n",
    "                                         gradient_boost_mse, knn_mse]})\n",
    "\n",
    "# Horizontal bar chart of test mae\n",
    "model_comparison.sort_values('mse', ascending = False).plot(x = 'model', y = 'mse', kind = 'barh',\n",
    "                                                           color = 'blue', edgecolor = 'black')\n",
    "\n",
    "# Plot formatting\n",
    "plt.ylabel(''); plt.yticks(size = 14); plt.xlabel('Mean Squared Error'); plt.xticks(size = 14)\n",
    "plt.title('Model Comparison on Test MSE', size = 20);"
   ]
  },
  {
   "cell_type": "markdown",
   "metadata": {},
   "source": [
    "As we see, the Gradient-based model works well. And in this way, the GradientBossting is the best one."
   ]
  },
  {
   "cell_type": "code",
   "execution_count": 56,
   "metadata": {},
   "outputs": [],
   "source": [
    "models = [lr, xgb, random_forest, gradient_boost, knn]"
   ]
  },
  {
   "cell_type": "code",
   "execution_count": 57,
   "metadata": {},
   "outputs": [],
   "source": [
    "# Function to evaluate models` mape\n",
    "def fit_and_evaluate_mape(model):\n",
    "    \n",
    "    # Train the model\n",
    "    model.fit(X_train, y_train)\n",
    "    \n",
    "    # Make predictions and evalute\n",
    "    model_pred = model.predict(X_test)\n",
    "    model_mape = mape(y_test, model_pred)\n",
    "    \n",
    "    # Return the performance metric\n",
    "    return model_mape"
   ]
  },
  {
   "cell_type": "code",
   "execution_count": 58,
   "metadata": {},
   "outputs": [],
   "source": [
    "# Creating a new list\n",
    "mape_models = []\n",
    "for model in models:\n",
    "    model_mape = fit_and_evaluate_mape(model)\n",
    "    # writing the mape to the created list\n",
    "    mape_models.append(model_mape)\n",
    "   "
   ]
  },
  {
   "cell_type": "code",
   "execution_count": 59,
   "metadata": {},
   "outputs": [
    {
     "name": "stdout",
     "output_type": "stream",
     "text": [
      "+---------------------+-------------------+--------------+---------------+-------------------+---------------------+\n",
      "|       Model:        | Linear Regression | XGBRegressor | Random Forest | Gradient Boosting | K-Nearest Neighbors |\n",
      "+---------------------+-------------------+--------------+---------------+-------------------+---------------------+\n",
      "| Model Performance:  |       0.075       |    0.063     |     0.064     |       0.051       |        0.055        |\n",
      "+---------------------+-------------------+--------------+---------------+-------------------+---------------------+\n"
     ]
    }
   ],
   "source": [
    "th = ['Model: ', 'Linear Regression', 'XGBRegressor', 'Random Forest', 'Gradient Boosting', 'K-Nearest Neighbors']\n",
    "td = ['Model Performance: ', str(round(mape_models[0], 3)), str(round(mape_models[1], 3)), \n",
    "      str(round(mape_models[2], 3)), str(round(mape_models[3], 3)), str(round(mape_models[4], 3))]\n",
    "\n",
    "table_columns = len(th) \n",
    "table = PrettyTable(th) \n",
    "td_data = td[:]\n",
    "\n",
    "while td_data:\n",
    "    table.add_row(td_data[:table_columns])\n",
    "    td_data = td_data[table_columns:]\n",
    "\n",
    "print(table)"
   ]
  },
  {
   "cell_type": "code",
   "execution_count": 60,
   "metadata": {},
   "outputs": [
    {
     "data": {
      "text/plain": [
       "<Figure size 432x288 with 0 Axes>"
      ]
     },
     "metadata": {},
     "output_type": "display_data"
    },
    {
     "data": {
      "image/png": "[encoded data removed]",
      "text/plain": [
       "<Figure size 432x288 with 1 Axes>"
      ]
     },
     "metadata": {},
     "output_type": "display_data"
    }
   ],
   "source": [
    "fig = plt.figure()\n",
    "plt.style.use('seaborn-whitegrid')\n",
    "\n",
    "# Dataframe to hold the results\n",
    "model_comparison = pd.DataFrame({'model': ['Linear Regression', 'XGBRegressor',\n",
    "                                           'Random Forest', 'Gradient Boosting',\n",
    "                                            'K-Nearest Neighbors'],\n",
    "                                 'mape': [mape_models[0], mape_models[1], mape_models[2], \n",
    "                                         mape_models[3], mape_models[4]]})\n",
    "\n",
    "# Horizontal bar chart of test mae\n",
    "model_comparison.sort_values('mape', ascending = False).plot(x = 'model', y = 'mape', kind = 'barh',\n",
    "                                                           color = 'red', edgecolor = 'black')\n",
    "\n",
    "# Plot formatting\n",
    "plt.ylabel(''); plt.yticks(size = 14); plt.xlabel('Mean Absolute Percentage Error'); plt.xticks(size = 14)\n",
    "plt.title('Model Comparison on Test MAPE', size = 20);"
   ]
  },
  {
   "cell_type": "markdown",
   "metadata": {},
   "source": [
    "In this case, the best and simple model for this task should be GradientBosting "
   ]
  },
  {
   "cell_type": "markdown",
   "metadata": {},
   "source": [
    "## Plotting the best result"
   ]
  },
  {
   "cell_type": "markdown",
   "metadata": {},
   "source": [
    "Preparing the data frame for plotting the result on prediction."
   ]
  },
  {
   "cell_type": "code",
   "execution_count": 61,
   "metadata": {},
   "outputs": [
    {
     "data": {
      "text/html": [
       "<div>\n",
       "<style scoped>\n",
       "    .dataframe tbody tr th:only-of-type {\n",
       "        vertical-align: middle;\n",
       "    }\n",
       "\n",
       "    .dataframe tbody tr th {\n",
       "        vertical-align: top;\n",
       "    }\n",
       "\n",
       "    .dataframe thead th {\n",
       "        text-align: right;\n",
       "    }\n",
       "</style>\n",
       "<table border=\"1\" class=\"dataframe\">\n",
       "  <thead>\n",
       "    <tr style=\"text-align: right;\">\n",
       "      <th></th>\n",
       "      <th>V_DATE</th>\n",
       "      <th>Prediction of т2263</th>\n",
       "      <th>т2263</th>\n",
       "    </tr>\n",
       "  </thead>\n",
       "  <tbody>\n",
       "    <tr>\n",
       "      <th>0</th>\n",
       "      <td>2020-12-11 00:49:00</td>\n",
       "      <td>229.715794</td>\n",
       "      <td>219.038798</td>\n",
       "    </tr>\n",
       "    <tr>\n",
       "      <th>1</th>\n",
       "      <td>2020-12-11 00:50:00</td>\n",
       "      <td>232.569409</td>\n",
       "      <td>222.553487</td>\n",
       "    </tr>\n",
       "    <tr>\n",
       "      <th>2</th>\n",
       "      <td>2020-12-11 00:51:00</td>\n",
       "      <td>227.115843</td>\n",
       "      <td>222.452367</td>\n",
       "    </tr>\n",
       "    <tr>\n",
       "      <th>3</th>\n",
       "      <td>2020-12-11 00:52:00</td>\n",
       "      <td>232.569409</td>\n",
       "      <td>225.528156</td>\n",
       "    </tr>\n",
       "    <tr>\n",
       "      <th>4</th>\n",
       "      <td>2020-12-11 00:53:00</td>\n",
       "      <td>229.715794</td>\n",
       "      <td>227.972322</td>\n",
       "    </tr>\n",
       "    <tr>\n",
       "      <th>...</th>\n",
       "      <td>...</td>\n",
       "      <td>...</td>\n",
       "      <td>...</td>\n",
       "    </tr>\n",
       "    <tr>\n",
       "      <th>72337</th>\n",
       "      <td>2021-01-31 20:55:00</td>\n",
       "      <td>297.066115</td>\n",
       "      <td>342.606334</td>\n",
       "    </tr>\n",
       "    <tr>\n",
       "      <th>72338</th>\n",
       "      <td>2021-01-31 20:56:00</td>\n",
       "      <td>296.584663</td>\n",
       "      <td>341.959865</td>\n",
       "    </tr>\n",
       "    <tr>\n",
       "      <th>72339</th>\n",
       "      <td>2021-01-31 20:57:00</td>\n",
       "      <td>296.584663</td>\n",
       "      <td>341.420256</td>\n",
       "    </tr>\n",
       "    <tr>\n",
       "      <th>72340</th>\n",
       "      <td>2021-01-31 20:58:00</td>\n",
       "      <td>296.584663</td>\n",
       "      <td>341.231740</td>\n",
       "    </tr>\n",
       "    <tr>\n",
       "      <th>72341</th>\n",
       "      <td>2021-01-31 20:59:00</td>\n",
       "      <td>292.504085</td>\n",
       "      <td>341.299132</td>\n",
       "    </tr>\n",
       "  </tbody>\n",
       "</table>\n",
       "<p>72342 rows × 3 columns</p>\n",
       "</div>"
      ],
      "text/plain": [
       "                   V_DATE  Prediction of т2263       т2263\n",
       "0     2020-12-11 00:49:00           229.715794  219.038798\n",
       "1     2020-12-11 00:50:00           232.569409  222.553487\n",
       "2     2020-12-11 00:51:00           227.115843  222.452367\n",
       "3     2020-12-11 00:52:00           232.569409  225.528156\n",
       "4     2020-12-11 00:53:00           229.715794  227.972322\n",
       "...                   ...                  ...         ...\n",
       "72337 2021-01-31 20:55:00           297.066115  342.606334\n",
       "72338 2021-01-31 20:56:00           296.584663  341.959865\n",
       "72339 2021-01-31 20:57:00           296.584663  341.420256\n",
       "72340 2021-01-31 20:58:00           296.584663  341.231740\n",
       "72341 2021-01-31 20:59:00           292.504085  341.299132\n",
       "\n",
       "[72342 rows x 3 columns]"
      ]
     },
     "execution_count": 61,
     "metadata": {},
     "output_type": "execute_result"
    }
   ],
   "source": [
    "# Adding new information to the dataframe\n",
    "df_pred_GB = pd.DataFrame(gradient_boost.predict(X_test), columns=['Prediction of т2263']).copy()\n",
    "df_result = pd.concat([df_time, df_pred_GB, df_real], axis=1)\n",
    "df_result"
   ]
  },
  {
   "cell_type": "code",
   "execution_count": 85,
   "metadata": {},
   "outputs": [
    {
     "data": {
      "text/plain": [
       "'# Vizualizing the data with predictions\\nfig = px.line(df_result, x=cols[0], y=cols[1:])\\nfig.show()'"
      ]
     },
     "execution_count": 85,
     "metadata": {},
     "output_type": "execute_result"
    }
   ],
   "source": [
    "'''# Vizualizing the data with predictions\n",
    "fig = px.line(df_result, x=cols[0], y=cols[1:])\n",
    "fig.show()'''"
   ]
  },
  {
   "cell_type": "markdown",
   "metadata": {},
   "source": [
    "![Best result](images/best_result.png)"
   ]
  },
  {
   "cell_type": "markdown",
   "metadata": {},
   "source": [
    "We observe that the results on GradientBosting are better than the XGB (`5.1%` vs `6.3%`), but let's try to find the best Hyperparameters using gridsearchcv. "
   ]
  },
  {
   "cell_type": "markdown",
   "metadata": {},
   "source": [
    "# Finding the best GradientBosting model"
   ]
  },
  {
   "cell_type": "markdown",
   "metadata": {},
   "source": [
    "## Feature importance "
   ]
  },
  {
   "cell_type": "code",
   "execution_count": 63,
   "metadata": {},
   "outputs": [
    {
     "data": {
      "image/png": "[encoded data removed]",
      "text/plain": [
       "<Figure size 720x576 with 1 Axes>"
      ]
     },
     "metadata": {},
     "output_type": "display_data"
    }
   ],
   "source": [
    "feature_importances_gradB = gradient_boost.feature_importances_\n",
    "df_gradB = pd.DataFrame({'Gradient_boosting': feature_importances_gradB}, index=columns[1:-1])\n",
    "\n",
    "df_gradB = df_gradB.nsmallest(15, 'Gradient_boosting')\n",
    "ax = df_gradB.plot.barh(figsize=(10,8))\n",
    "ax.set_xlabel('Relative importance')\n",
    "ax.set_title('Feature importance')\n",
    "ax.legend(loc='lower right')\n",
    "plt.style.use('seaborn-whitegrid')\n",
    "plt.show()"
   ]
  },
  {
   "cell_type": "markdown",
   "metadata": {},
   "source": [
    "For Gradient Boosting feature_importances we got almost the same scenario as it was with XGBRegressor. All that means that we need to consider just the next **features**:\n",
    "\n",
    "1. `т2379` - Природный газ на котел №1 справа - расход\n",
    "2. `т2266` - Доменный  газ на всю станцию - расход \n",
    "3. `т2266/2` - Доменный  газ на всю станцию - давление\n",
    "4. `т2380` - Природный газ на котел №1 слева - расход\n",
    "5. `т2267` - Доменный газ на котел №1 справа - расход"
   ]
  },
  {
   "cell_type": "markdown",
   "metadata": {},
   "source": [
    "### Trying GradientBoosting model with a lower amount of features"
   ]
  },
  {
   "cell_type": "markdown",
   "metadata": {},
   "source": [
    "For now let's try to build a model just with this five main features:"
   ]
  },
  {
   "cell_type": "code",
   "execution_count": 64,
   "metadata": {},
   "outputs": [
    {
     "data": {
      "text/html": [
       "<div>\n",
       "<style scoped>\n",
       "    .dataframe tbody tr th:only-of-type {\n",
       "        vertical-align: middle;\n",
       "    }\n",
       "\n",
       "    .dataframe tbody tr th {\n",
       "        vertical-align: top;\n",
       "    }\n",
       "\n",
       "    .dataframe thead th {\n",
       "        text-align: right;\n",
       "    }\n",
       "</style>\n",
       "<table border=\"1\" class=\"dataframe\">\n",
       "  <thead>\n",
       "    <tr style=\"text-align: right;\">\n",
       "      <th></th>\n",
       "      <th>т2267</th>\n",
       "      <th>т2379</th>\n",
       "      <th>т2380</th>\n",
       "      <th>т2266</th>\n",
       "      <th>т2266/2</th>\n",
       "    </tr>\n",
       "  </thead>\n",
       "  <tbody>\n",
       "    <tr>\n",
       "      <th>0</th>\n",
       "      <td>77915.974685</td>\n",
       "      <td>602.987379</td>\n",
       "      <td>0.000000</td>\n",
       "      <td>379396.596650</td>\n",
       "      <td>1815.736572</td>\n",
       "    </tr>\n",
       "    <tr>\n",
       "      <th>1</th>\n",
       "      <td>78294.718755</td>\n",
       "      <td>600.824843</td>\n",
       "      <td>0.000000</td>\n",
       "      <td>338987.432843</td>\n",
       "      <td>1875.114014</td>\n",
       "    </tr>\n",
       "    <tr>\n",
       "      <th>2</th>\n",
       "      <td>78007.556062</td>\n",
       "      <td>602.037766</td>\n",
       "      <td>0.000000</td>\n",
       "      <td>328669.419080</td>\n",
       "      <td>1827.952393</td>\n",
       "    </tr>\n",
       "    <tr>\n",
       "      <th>3</th>\n",
       "      <td>78255.374891</td>\n",
       "      <td>603.667469</td>\n",
       "      <td>0.000000</td>\n",
       "      <td>366827.243284</td>\n",
       "      <td>1867.092773</td>\n",
       "    </tr>\n",
       "    <tr>\n",
       "      <th>4</th>\n",
       "      <td>78474.798964</td>\n",
       "      <td>602.012647</td>\n",
       "      <td>0.000000</td>\n",
       "      <td>422759.212899</td>\n",
       "      <td>1898.480225</td>\n",
       "    </tr>\n",
       "    <tr>\n",
       "      <th>...</th>\n",
       "      <td>...</td>\n",
       "      <td>...</td>\n",
       "      <td>...</td>\n",
       "      <td>...</td>\n",
       "      <td>...</td>\n",
       "    </tr>\n",
       "    <tr>\n",
       "      <th>262556</th>\n",
       "      <td>85930.648875</td>\n",
       "      <td>6026.030281</td>\n",
       "      <td>6001.688268</td>\n",
       "      <td>825982.568036</td>\n",
       "      <td>1896.046265</td>\n",
       "    </tr>\n",
       "    <tr>\n",
       "      <th>262557</th>\n",
       "      <td>85976.682631</td>\n",
       "      <td>6010.062373</td>\n",
       "      <td>5987.957000</td>\n",
       "      <td>826417.173541</td>\n",
       "      <td>1902.887085</td>\n",
       "    </tr>\n",
       "    <tr>\n",
       "      <th>262558</th>\n",
       "      <td>85929.814710</td>\n",
       "      <td>5952.545727</td>\n",
       "      <td>5926.435257</td>\n",
       "      <td>825907.614717</td>\n",
       "      <td>1895.516846</td>\n",
       "    </tr>\n",
       "    <tr>\n",
       "      <th>262559</th>\n",
       "      <td>85959.341942</td>\n",
       "      <td>5759.869833</td>\n",
       "      <td>5733.626435</td>\n",
       "      <td>826243.225273</td>\n",
       "      <td>1899.486328</td>\n",
       "    </tr>\n",
       "    <tr>\n",
       "      <th>262560</th>\n",
       "      <td>86169.949278</td>\n",
       "      <td>5591.292193</td>\n",
       "      <td>5583.059647</td>\n",
       "      <td>828064.909118</td>\n",
       "      <td>1921.149170</td>\n",
       "    </tr>\n",
       "  </tbody>\n",
       "</table>\n",
       "<p>241139 rows × 5 columns</p>\n",
       "</div>"
      ],
      "text/plain": [
       "               т2267        т2379        т2380          т2266      т2266/2\n",
       "0       77915.974685   602.987379     0.000000  379396.596650  1815.736572\n",
       "1       78294.718755   600.824843     0.000000  338987.432843  1875.114014\n",
       "2       78007.556062   602.037766     0.000000  328669.419080  1827.952393\n",
       "3       78255.374891   603.667469     0.000000  366827.243284  1867.092773\n",
       "4       78474.798964   602.012647     0.000000  422759.212899  1898.480225\n",
       "...              ...          ...          ...            ...          ...\n",
       "262556  85930.648875  6026.030281  6001.688268  825982.568036  1896.046265\n",
       "262557  85976.682631  6010.062373  5987.957000  826417.173541  1902.887085\n",
       "262558  85929.814710  5952.545727  5926.435257  825907.614717  1895.516846\n",
       "262559  85959.341942  5759.869833  5733.626435  826243.225273  1899.486328\n",
       "262560  86169.949278  5591.292193  5583.059647  828064.909118  1921.149170\n",
       "\n",
       "[241139 rows x 5 columns]"
      ]
     },
     "execution_count": 64,
     "metadata": {},
     "output_type": "execute_result"
    }
   ],
   "source": [
    "X_new = X.loc[:, ['т2267', 'т2379', 'т2380', 'т2266', 'т2266/2']]\n",
    "X_new"
   ]
  },
  {
   "cell_type": "code",
   "execution_count": 65,
   "metadata": {},
   "outputs": [],
   "source": [
    "# Splitting into new Train-Test parts\n",
    "X_new_train = X_new[:int(X_new.shape[0]*0.7)]\n",
    "X_new_test = X_new[int(X_new.shape[0]*0.7):]\n",
    "y_train = Y[:int(X_new.shape[0]*0.7)]\n",
    "y_test = Y[int(X_new.shape[0]*0.7):]"
   ]
  },
  {
   "cell_type": "code",
   "execution_count": 66,
   "metadata": {},
   "outputs": [
    {
     "data": {
      "text/plain": [
       "GradientBoostingRegressor(random_state=60)"
      ]
     },
     "execution_count": 66,
     "metadata": {},
     "output_type": "execute_result"
    }
   ],
   "source": [
    "GBR = GradientBoostingRegressor(random_state=60)\n",
    "GBR.fit(X_new_train, y_train)"
   ]
  },
  {
   "cell_type": "code",
   "execution_count": 68,
   "metadata": {},
   "outputs": [
    {
     "name": "stdout",
     "output_type": "stream",
     "text": [
      "Gradient Boosted Regression Performance on the test set: MAE = 17.8271\n",
      "Gradient Boosted Regression Performance on the test set: MAPE = 0.0582\n",
      "Gradient Boosted Regression Performance on the test set: MSE = 495.4723\n"
     ]
    }
   ],
   "source": [
    "gbr_pred = GBR.predict(X_new_test)\n",
    "gbr_pred_mae = mae(y_test, gbr_pred)\n",
    "gbr_pred_mape = mape(y_test, gbr_pred)\n",
    "gbr_pred_mse = mse(y_test, gbr_pred)\n",
    "print('Gradient Boosted Regression Performance on the test set: MAE = %0.4f' % gbr_pred_mae)\n",
    "print('Gradient Boosted Regression Performance on the test set: MAPE = %0.4f' % gbr_pred_mape)\n",
    "print('Gradient Boosted Regression Performance on the test set: MSE = %0.4f' % gbr_pred_mse)"
   ]
  },
  {
   "cell_type": "markdown",
   "metadata": {},
   "source": [
    "The result haven't improved yet.\n",
    "\n",
    "With low amount of feature we got worse result: `5.8%` vs `5.1%`.\n",
    "\n",
    "That means that we need to use all the features were given."
   ]
  },
  {
   "cell_type": "markdown",
   "metadata": {},
   "source": [
    "**Feature importance didn't improve the result, let's try to find out the best hyperparameters:**"
   ]
  },
  {
   "cell_type": "markdown",
   "metadata": {},
   "source": [
    "## GridSearchCV "
   ]
  },
  {
   "cell_type": "code",
   "execution_count": 69,
   "metadata": {},
   "outputs": [
    {
     "data": {
      "text/plain": [
       "\"parameters = {'n_estimators' : [100, 300, 500],\\n              'max_depth'    : [2, 10]\\n             }\\ngrid_gradient_boost = GridSearchCV(estimator=gradient_boost, param_grid = parameters, cv = None, n_jobs=-1) \\ngrid_gradient_boost.fit(X_train, y_train)\""
      ]
     },
     "execution_count": 69,
     "metadata": {},
     "output_type": "execute_result"
    }
   ],
   "source": [
    "'''parameters = {'n_estimators' : [100, 300, 500],\n",
    "              'max_depth'    : [2, 10]\n",
    "             }\n",
    "grid_gradient_boost = GridSearchCV(estimator=gradient_boost, param_grid = parameters, cv = None, n_jobs=-1) \n",
    "grid_gradient_boost.fit(X_train, y_train)'''"
   ]
  },
  {
   "cell_type": "code",
   "execution_count": 70,
   "metadata": {},
   "outputs": [
    {
     "data": {
      "text/plain": [
       "'print(\" Results from Grid Search \" )\\nprint(\"\\n The best estimator across ALL searched params:\\n\",grid_gradient_boost.best_estimator_)\\nprint(\"\\n The best score across ALL searched params:\\n\",grid_gradient_boost.best_score_)\\nprint(\"\\n The best parameters across ALL searched params:\\n\",grid_gradient_boost.best_params_)'"
      ]
     },
     "execution_count": 70,
     "metadata": {},
     "output_type": "execute_result"
    }
   ],
   "source": [
    "'''print(\" Results from Grid Search \" )\n",
    "print(\"\\n The best estimator across ALL searched params:\\n\",grid_gradient_boost.best_estimator_)\n",
    "print(\"\\n The best score across ALL searched params:\\n\",grid_gradient_boost.best_score_)\n",
    "print(\"\\n The best parameters across ALL searched params:\\n\",grid_gradient_boost.best_params_)'''"
   ]
  },
  {
   "cell_type": "markdown",
   "metadata": {},
   "source": [
    "You may check it on your own by launching the code above, but its computing time is too long enough."
   ]
  },
  {
   "cell_type": "markdown",
   "metadata": {},
   "source": [
    "### Finding the best hyperparameters"
   ]
  },
  {
   "cell_type": "markdown",
   "metadata": {},
   "source": [
    "**The best hyperparameters are:**\n",
    "\n",
    "`GridSearchCV(estimator=GradientBoostingRegressor(random_state=60), n_jobs=-1,\n",
    "              param_grid={'max_depth': [2, 10], 'n_estimators': [100, 300, 500]})`\n",
    "             "
   ]
  },
  {
   "cell_type": "markdown",
   "metadata": {},
   "source": [
    "** Results from Grid Search: **\n",
    "\n",
    "The best estimator across ALL searched params:\n",
    "`GradientBoostingRegressor(max_depth=2, random_state=60)`\n",
    "\n",
    "The best score across ALL searched params:\n",
    "`-0.2493888790731463`\n",
    "\n",
    "The best parameters across ALL searched params:\n",
    "`{'max_depth': 2, 'n_estimators': 100}`"
   ]
  },
  {
   "cell_type": "markdown",
   "metadata": {},
   "source": [
    "## Visualizing the final results in the full real dataset"
   ]
  },
  {
   "cell_type": "code",
   "execution_count": 71,
   "metadata": {},
   "outputs": [],
   "source": [
    "Y_pred = gradient_boost.predict(df.loc[:, 'т2267':'техн104'])"
   ]
  },
  {
   "cell_type": "code",
   "execution_count": 72,
   "metadata": {},
   "outputs": [],
   "source": [
    "# Creating new DataFrame for vizualization:\n",
    "df_time_final = pd.DataFrame(df['V_DATE'])\n",
    "df_pred_final = pd.DataFrame(Y_pred, columns=['Prediction of т2263'])\n",
    "df_real_final = pd.DataFrame(df['т2263'])\n",
    "\n",
    "# Concating in one DataFrame\n",
    "df_final_result = pd.concat([df_time_final, df_real_final, df_pred_final], axis=1)"
   ]
  },
  {
   "cell_type": "code",
   "execution_count": 73,
   "metadata": {},
   "outputs": [],
   "source": [
    "# Converting into numpy the real column to calculate the metrics\n",
    "Y_test_final = df_real_final.to_numpy()"
   ]
  },
  {
   "cell_type": "code",
   "execution_count": 74,
   "metadata": {},
   "outputs": [],
   "source": [
    "# Creating a list with columns\n",
    "cols_final = []\n",
    "for column in df_final_result.columns:\n",
    "    cols_final.append(column)"
   ]
  },
  {
   "cell_type": "code",
   "execution_count": 86,
   "metadata": {},
   "outputs": [
    {
     "data": {
      "text/plain": [
       "\"# Vizualizing the data with predictions\\nfig = px.line(df_final_result, x=cols_final[0], y=cols_final[1:], \\n              title='The final result on predicted values (unseen data start from 11 of December 2020 year)')\\n\\nfig.show()\""
      ]
     },
     "execution_count": 86,
     "metadata": {},
     "output_type": "execute_result"
    }
   ],
   "source": [
    "'''# Vizualizing the data with predictions\n",
    "fig = px.line(df_final_result, x=cols_final[0], y=cols_final[1:], \n",
    "              title='The final result on predicted values (unseen data start from 11 of December 2020 year)')\n",
    "\n",
    "fig.show()'''"
   ]
  },
  {
   "cell_type": "markdown",
   "metadata": {},
   "source": [
    "![Final result](images/final_res.png)"
   ]
  },
  {
   "cell_type": "markdown",
   "metadata": {},
   "source": [
    "Looking at the chart, we may conclude that the model operates well on stationary regimes."
   ]
  },
  {
   "cell_type": "markdown",
   "metadata": {},
   "source": [
    "## Calculating the metrics for the best model"
   ]
  },
  {
   "cell_type": "markdown",
   "metadata": {},
   "source": [
    "### Calculating the metrics to unseen data"
   ]
  },
  {
   "cell_type": "code",
   "execution_count": 76,
   "metadata": {},
   "outputs": [
    {
     "name": "stdout",
     "output_type": "stream",
     "text": [
      "+-----------+--------------------+---------------------+--------------------------------+\n",
      "| Metrics:  | Mean squared error | Mean absolute error | Mean absolute percentage error |\n",
      "+-----------+--------------------+---------------------+--------------------------------+\n",
      "| Results:  |      382.014       |        15.462       |             0.052              |\n",
      "+-----------+--------------------+---------------------+--------------------------------+\n"
     ]
    }
   ],
   "source": [
    "# Put the results in the table\n",
    "Y_pred_final = gradient_boost.predict(X_test)\n",
    "Y_test_final = y_test\n",
    "th = ['Metrics: ', 'Mean squared error', 'Mean absolute error', 'Mean absolute percentage error']\n",
    "td = ['Results: ', str(round(mse(Y_pred_final, Y_test_final), 3)), str(round(mae(Y_pred_final, Y_test_final), 3)),\n",
    "      str(round(mape(Y_pred_final, Y_test_final), 3))]\n",
    "\n",
    "table_columns = len(th) \n",
    "table = PrettyTable(th) \n",
    "td_data = td[:]\n",
    "\n",
    "while td_data:\n",
    "    table.add_row(td_data[:table_columns])\n",
    "    td_data = td_data[table_columns:]\n",
    "\n",
    "print(table)"
   ]
  },
  {
   "cell_type": "markdown",
   "metadata": {},
   "source": [
    "### Calculating the metrics to the whole dataset"
   ]
  },
  {
   "cell_type": "code",
   "execution_count": 80,
   "metadata": {},
   "outputs": [
    {
     "name": "stdout",
     "output_type": "stream",
     "text": [
      "+-----------+--------------------+---------------------+--------------------------------+\n",
      "| Metrics:  | Mean squared error | Mean absolute error | Mean absolute percentage error |\n",
      "+-----------+--------------------+---------------------+--------------------------------+\n",
      "| Results:  |      295.496       |        13.039       |             0.046              |\n",
      "+-----------+--------------------+---------------------+--------------------------------+\n"
     ]
    }
   ],
   "source": [
    "# Put the results in the table\n",
    "Y_pred_final = gradient_boost.predict(X)\n",
    "Y_test_final = Y\n",
    "th = ['Metrics: ', 'Mean squared error', 'Mean absolute error', 'Mean absolute percentage error']\n",
    "td = ['Results: ', str(round(mse(Y_pred_final, Y_test_final), 3)), str(round(mae(Y_pred_final, Y_test_final), 3)),\n",
    "      str(round(mape(Y_pred_final, Y_test_final), 3))]\n",
    "\n",
    "table_columns = len(th) \n",
    "table = PrettyTable(th) \n",
    "td_data = td[:]\n",
    "\n",
    "while td_data:\n",
    "    table.add_row(td_data[:table_columns])\n",
    "    td_data = td_data[table_columns:]\n",
    "\n",
    "print(table)"
   ]
  },
  {
   "cell_type": "markdown",
   "metadata": {},
   "source": [
    "### Calculating the metrics to the initial dataset"
   ]
  },
  {
   "cell_type": "code",
   "execution_count": 81,
   "metadata": {},
   "outputs": [
    {
     "name": "stdout",
     "output_type": "stream",
     "text": [
      "+-----------+--------------------+---------------------+--------------------------------+\n",
      "| Metrics:  | Mean squared error | Mean absolute error | Mean absolute percentage error |\n",
      "+-----------+--------------------+---------------------+--------------------------------+\n",
      "| Results:  |      1802.091      |         20.0        |             0.079              |\n",
      "+-----------+--------------------+---------------------+--------------------------------+\n"
     ]
    }
   ],
   "source": [
    "# Put the results in the table\n",
    "Y_pred_final = Y_pred\n",
    "Y_test_final = df_real_final.to_numpy()\n",
    "th = ['Metrics: ', 'Mean squared error', 'Mean absolute error', 'Mean absolute percentage error']\n",
    "td = ['Results: ', str(round(mse(Y_pred_final, Y_test_final), 3)), str(round(mae(Y_pred_final, Y_test_final), 3)),\n",
    "      str(round(mape(Y_pred_final, Y_test_final), 3))]\n",
    "\n",
    "table_columns = len(th) \n",
    "table = PrettyTable(th) \n",
    "td_data = td[:]\n",
    "\n",
    "while td_data:\n",
    "    table.add_row(td_data[:table_columns])\n",
    "    td_data = td_data[table_columns:]\n",
    "\n",
    "print(table)"
   ]
  },
  {
   "cell_type": "markdown",
   "metadata": {},
   "source": [
    "**Note:** here, we got a very big `MSE` because of using here unclean dataset."
   ]
  },
  {
   "cell_type": "markdown",
   "metadata": {},
   "source": [
    "# Final Resume"
   ]
  },
  {
   "cell_type": "markdown",
   "metadata": {},
   "source": [
    "Using a simple **Gradient Bosting** model the result is good enough:\n",
    "\n",
    "`~4.6%` for the whole preprocessed dataset;\n",
    "\n",
    "`~5.2%` for the test dataset;\n",
    "\n",
    "`~8%` for the full given dataset;\n",
    "\n",
    "The model itself is **good**. I can explain that the **Gradient Boosting method** is the best one because this method combines weak learners sequentially, so each new tree corrects the errors of the previous one (however, e.g., **Random forest** build independent decision trees and combine them in parallel, which is an inappropriate way for sequential data). Despite good model operation, it still has to be improved for commercial purposes. In that case, we can try out more complicated models in the future (e.g., CNN, RNN, or LSTM). "
   ]
  },
  {
   "cell_type": "code",
   "execution_count": null,
   "metadata": {},
   "outputs": [],
   "source": []
  }
 ],
 "metadata": {
  "kernelspec": {
   "display_name": "Python 3",
   "language": "python",
   "name": "python3"
  },
  "language_info": {
   "codemirror_mode": {
    "name": "ipython",
    "version": 3
   },
   "file_extension": ".py",
   "mimetype": "text/x-python",
   "name": "python",
   "nbconvert_exporter": "python",
   "pygments_lexer": "ipython3",
   "version": "3.8.5"
  },
  "latex_envs": {
   "LaTeX_envs_menu_present": true,
   "autoclose": false,
   "autocomplete": true,
   "bibliofile": "biblio.bib",
   "cite_by": "apalike",
   "current_citInitial": 1,
   "eqLabelWithNumbers": true,
   "eqNumInitial": 1,
   "hotkeys": {
    "equation": "Ctrl-E",
    "itemize": "Ctrl-I"
   },
   "labels_anchors": false,
   "latex_user_defs": false,
   "report_style_numbering": false,
   "user_envs_cfg": false
  },
  "toc": {
   "base_numbering": 1,
   "nav_menu": {},
   "number_sections": true,
   "sideBar": true,
   "skip_h1_title": false,
   "title_cell": "Table of Contents",
   "title_sidebar": "Contents",
   "toc_cell": true,
   "toc_position": {},
   "toc_section_display": true,
   "toc_window_display": false
  }
 },
 "nbformat": 4,
 "nbformat_minor": 4
}
