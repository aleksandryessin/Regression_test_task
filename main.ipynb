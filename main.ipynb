{
  "nbformat": 4,
  "nbformat_minor": 0,
  "metadata": {
    "colab": {
      "name": "main.ipynb",
      "provenance": [],
      "collapsed_sections": [],
      "toc_visible": true,
      "mount_file_id": "1ATxRmaaN_efXIWsFkAQq9VzZkUGiZ9N5",
      "authorship_tag": "ABX9TyMRbBLJCp14H2/zTbFTGMUy",
      "include_colab_link": true
    },
    "kernelspec": {
      "display_name": "Python 3",
      "name": "python3"
    },
    "language_info": {
      "name": "python"
    }
  },
  "cells": [
    {
      "cell_type": "markdown",
      "metadata": {
        "id": "view-in-github",
        "colab_type": "text"
      },
      "source": [
        "<a href=\"https://colab.research.google.com/github/aleksandryessin/Regression_test_task/blob/main/main.ipynb\" target=\"_parent\"><img src=\"https://colab.research.google.com/assets/colab-badge.svg\" alt=\"Open In Colab\"/></a>"
      ]
    },
    {
      "cell_type": "code",
      "metadata": {
        "colab": {
          "base_uri": "https://localhost:8080/"
        },
        "id": "dEt1TDYCXrKn",
        "outputId": "397e79ef-5c70-4786-b41a-bcaa7b2e78cd"
      },
      "source": [
        "!git clone https://github.com/aleksandryessin/Regression_test_task.git\n",
        "%cd Regression_test_task\n",
        "! mkdir html"
      ],
      "execution_count": null,
      "outputs": [
        {
          "output_type": "stream",
          "text": [
            "Cloning into 'Regression_test_task'...\n",
            "remote: Enumerating objects: 129, done.\u001b[K\n",
            "remote: Counting objects: 100% (129/129), done.\u001b[K\n",
            "remote: Compressing objects: 100% (120/120), done.\u001b[K\n",
            "remote: Total 129 (delta 52), reused 33 (delta 4), pack-reused 0\u001b[K\n",
            "Receiving objects: 100% (129/129), 82.83 MiB | 31.66 MiB/s, done.\n",
            "Resolving deltas: 100% (52/52), done.\n",
            "/content/Regression_test_task\n"
          ],
          "name": "stdout"
        }
      ]
    },
    {
      "cell_type": "markdown",
      "metadata": {
        "id": "UqyYLDyLYFtI"
      },
      "source": [
        "![Task](https://github.com/aleksandryessin/Regression_test_task/blob/main/images/test_task.png?raw=true)"
      ]
    },
    {
      "cell_type": "markdown",
      "metadata": {
        "id": "x8dUFLMPiAPf"
      },
      "source": [
        "# 1 Import libraries"
      ]
    },
    {
      "cell_type": "code",
      "metadata": {
        "id": "7nxeHzQzlBHu",
        "colab": {
          "base_uri": "https://localhost:8080/"
        },
        "outputId": "757ffd4a-a07c-45d3-f7b5-e50bb7f10042"
      },
      "source": [
        "import numpy as np\n",
        "import pandas as pd\n",
        "import matplotlib.pyplot as plt\n",
        "import seaborn as sns\n",
        "import plotly\n",
        "import plotly.express as px\n",
        "from plotly.offline import iplot\n",
        "import plotly.graph_objects as go\n",
        "import plotly.io as pio\n",
        "from prettytable import PrettyTable\n",
        "from IPython.display import display\n",
        "from IPython.display import HTML\n",
        "from scipy import stats\n",
        "from statsmodels.tsa.stattools import adfuller\n",
        "from xgboost import XGBRegressor\n",
        "from sklearn.preprocessing import  MinMaxScaler, StandardScaler\n",
        "from sklearn.model_selection import train_test_split\n",
        "from sklearn.neighbors import KNeighborsRegressor\n",
        "from sklearn.ensemble import GradientBoostingRegressor\n",
        "from sklearn.ensemble import RandomForestRegressor\n",
        "from sklearn.linear_model import LinearRegression\n",
        "from sklearn.svm import SVR\n",
        "from sklearn.model_selection import GridSearchCV \n",
        "from sklearn.model_selection import TimeSeriesSplit\n",
        "from sklearn.metrics import mean_squared_error, mean_absolute_error"
      ],
      "execution_count": null,
      "outputs": [
        {
          "output_type": "stream",
          "text": [
            "/usr/local/lib/python3.7/dist-packages/statsmodels/tools/_testing.py:19: FutureWarning:\n",
            "\n",
            "pandas.util.testing is deprecated. Use the functions in the public API at pandas.testing instead.\n",
            "\n"
          ],
          "name": "stderr"
        }
      ]
    },
    {
      "cell_type": "code",
      "metadata": {
        "id": "cCx0Eb6UWZHP"
      },
      "source": [
        "# MAPE\n",
        "def mean_absolute_percentage_error(y_true, y_pred): \n",
        "    y_true, y_pred = np.array(y_true), np.array(y_pred)\n",
        "    return np.mean(np.abs((y_true - y_pred) / y_true)) * 100"
      ],
      "execution_count": null,
      "outputs": []
    },
    {
      "cell_type": "markdown",
      "metadata": {
        "id": "xl_fVm68iEpC"
      },
      "source": [
        "# 2 Download the data"
      ]
    },
    {
      "cell_type": "code",
      "metadata": {
        "colab": {
          "base_uri": "https://localhost:8080/",
          "height": 264
        },
        "id": "i83az4qlWnMu",
        "outputId": "e2467287-732d-4f9f-c2df-d3275fec3d81"
      },
      "source": [
        "# Reading and displaying given data\n",
        "df = pd.read_csv('data/data_boiler_1.csv', encoding='utf8').copy()\n",
        "df.head(7)"
      ],
      "execution_count": null,
      "outputs": [
        {
          "output_type": "execute_result",
          "data": {
            "text/html": [
              "<div>\n",
              "<style scoped>\n",
              "    .dataframe tbody tr th:only-of-type {\n",
              "        vertical-align: middle;\n",
              "    }\n",
              "\n",
              "    .dataframe tbody tr th {\n",
              "        vertical-align: top;\n",
              "    }\n",
              "\n",
              "    .dataframe thead th {\n",
              "        text-align: right;\n",
              "    }\n",
              "</style>\n",
              "<table border=\"1\" class=\"dataframe\">\n",
              "  <thead>\n",
              "    <tr style=\"text-align: right;\">\n",
              "      <th></th>\n",
              "      <th>V_DATE</th>\n",
              "      <th>т2267</th>\n",
              "      <th>т2268</th>\n",
              "      <th>т2379</th>\n",
              "      <th>т2380</th>\n",
              "      <th>т2266</th>\n",
              "      <th>т2266/2</th>\n",
              "      <th>т2266/3</th>\n",
              "      <th>т2266/4</th>\n",
              "      <th>т2270</th>\n",
              "      <th>т2270/3</th>\n",
              "      <th>техн104</th>\n",
              "      <th>т2263</th>\n",
              "    </tr>\n",
              "  </thead>\n",
              "  <tbody>\n",
              "    <tr>\n",
              "      <th>0</th>\n",
              "      <td>2020-08-01 00:00:00</td>\n",
              "      <td>77915.974685</td>\n",
              "      <td>77889.115676</td>\n",
              "      <td>602.987379</td>\n",
              "      <td>0.0</td>\n",
              "      <td>379396.596650</td>\n",
              "      <td>1815.736572</td>\n",
              "      <td>24.264420</td>\n",
              "      <td>896.875000</td>\n",
              "      <td>4324.767273</td>\n",
              "      <td>15.2</td>\n",
              "      <td>15.000000</td>\n",
              "      <td>240.600980</td>\n",
              "    </tr>\n",
              "    <tr>\n",
              "      <th>1</th>\n",
              "      <td>2020-08-01 00:01:00</td>\n",
              "      <td>78294.718755</td>\n",
              "      <td>78271.682542</td>\n",
              "      <td>600.824843</td>\n",
              "      <td>0.0</td>\n",
              "      <td>338987.432843</td>\n",
              "      <td>1875.114014</td>\n",
              "      <td>24.200001</td>\n",
              "      <td>897.693542</td>\n",
              "      <td>4241.105630</td>\n",
              "      <td>15.2</td>\n",
              "      <td>14.922112</td>\n",
              "      <td>241.615763</td>\n",
              "    </tr>\n",
              "    <tr>\n",
              "      <th>2</th>\n",
              "      <td>2020-08-01 00:02:00</td>\n",
              "      <td>78007.556062</td>\n",
              "      <td>77979.785548</td>\n",
              "      <td>602.037766</td>\n",
              "      <td>0.0</td>\n",
              "      <td>328669.419080</td>\n",
              "      <td>1827.952393</td>\n",
              "      <td>24.200001</td>\n",
              "      <td>896.916321</td>\n",
              "      <td>4186.155354</td>\n",
              "      <td>15.2</td>\n",
              "      <td>14.900010</td>\n",
              "      <td>243.259191</td>\n",
              "    </tr>\n",
              "    <tr>\n",
              "      <th>3</th>\n",
              "      <td>2020-08-01 00:03:00</td>\n",
              "      <td>78255.374891</td>\n",
              "      <td>78243.088911</td>\n",
              "      <td>603.667469</td>\n",
              "      <td>0.0</td>\n",
              "      <td>366827.243284</td>\n",
              "      <td>1867.092773</td>\n",
              "      <td>24.200001</td>\n",
              "      <td>896.875000</td>\n",
              "      <td>4378.600955</td>\n",
              "      <td>15.2</td>\n",
              "      <td>14.900010</td>\n",
              "      <td>243.322008</td>\n",
              "    </tr>\n",
              "    <tr>\n",
              "      <th>4</th>\n",
              "      <td>2020-08-01 00:04:00</td>\n",
              "      <td>78474.798964</td>\n",
              "      <td>78439.012732</td>\n",
              "      <td>602.012647</td>\n",
              "      <td>0.0</td>\n",
              "      <td>422759.212899</td>\n",
              "      <td>1898.480225</td>\n",
              "      <td>24.245493</td>\n",
              "      <td>896.234375</td>\n",
              "      <td>4155.943112</td>\n",
              "      <td>15.2</td>\n",
              "      <td>14.825890</td>\n",
              "      <td>243.848389</td>\n",
              "    </tr>\n",
              "    <tr>\n",
              "      <th>5</th>\n",
              "      <td>2020-08-01 00:05:00</td>\n",
              "      <td>78332.742317</td>\n",
              "      <td>78285.913066</td>\n",
              "      <td>602.037291</td>\n",
              "      <td>0.0</td>\n",
              "      <td>406646.017123</td>\n",
              "      <td>1874.793701</td>\n",
              "      <td>24.299999</td>\n",
              "      <td>894.539062</td>\n",
              "      <td>4275.910614</td>\n",
              "      <td>15.2</td>\n",
              "      <td>14.800000</td>\n",
              "      <td>244.410656</td>\n",
              "    </tr>\n",
              "    <tr>\n",
              "      <th>6</th>\n",
              "      <td>2020-08-01 00:06:00</td>\n",
              "      <td>78311.518065</td>\n",
              "      <td>78269.373396</td>\n",
              "      <td>603.419222</td>\n",
              "      <td>0.0</td>\n",
              "      <td>367091.480249</td>\n",
              "      <td>1873.461548</td>\n",
              "      <td>24.299999</td>\n",
              "      <td>893.350403</td>\n",
              "      <td>4444.561105</td>\n",
              "      <td>15.2</td>\n",
              "      <td>14.800000</td>\n",
              "      <td>244.248640</td>\n",
              "    </tr>\n",
              "  </tbody>\n",
              "</table>\n",
              "</div>"
            ],
            "text/plain": [
              "                V_DATE         т2267  ...    техн104       т2263\n",
              "0  2020-08-01 00:00:00  77915.974685  ...  15.000000  240.600980\n",
              "1  2020-08-01 00:01:00  78294.718755  ...  14.922112  241.615763\n",
              "2  2020-08-01 00:02:00  78007.556062  ...  14.900010  243.259191\n",
              "3  2020-08-01 00:03:00  78255.374891  ...  14.900010  243.322008\n",
              "4  2020-08-01 00:04:00  78474.798964  ...  14.825890  243.848389\n",
              "5  2020-08-01 00:05:00  78332.742317  ...  14.800000  244.410656\n",
              "6  2020-08-01 00:06:00  78311.518065  ...  14.800000  244.248640\n",
              "\n",
              "[7 rows x 13 columns]"
            ]
          },
          "metadata": {
            "tags": []
          },
          "execution_count": 4
        }
      ]
    },
    {
      "cell_type": "code",
      "metadata": {
        "id": "ofDM9kvAlEni",
        "colab": {
          "base_uri": "https://localhost:8080/",
          "height": 264
        },
        "outputId": "c4f5e69b-4961-433b-9864-06be7e03ec4a"
      },
      "source": [
        "df.tail(7)"
      ],
      "execution_count": null,
      "outputs": [
        {
          "output_type": "execute_result",
          "data": {
            "text/html": [
              "<div>\n",
              "<style scoped>\n",
              "    .dataframe tbody tr th:only-of-type {\n",
              "        vertical-align: middle;\n",
              "    }\n",
              "\n",
              "    .dataframe tbody tr th {\n",
              "        vertical-align: top;\n",
              "    }\n",
              "\n",
              "    .dataframe thead th {\n",
              "        text-align: right;\n",
              "    }\n",
              "</style>\n",
              "<table border=\"1\" class=\"dataframe\">\n",
              "  <thead>\n",
              "    <tr style=\"text-align: right;\">\n",
              "      <th></th>\n",
              "      <th>V_DATE</th>\n",
              "      <th>т2267</th>\n",
              "      <th>т2268</th>\n",
              "      <th>т2379</th>\n",
              "      <th>т2380</th>\n",
              "      <th>т2266</th>\n",
              "      <th>т2266/2</th>\n",
              "      <th>т2266/3</th>\n",
              "      <th>т2266/4</th>\n",
              "      <th>т2270</th>\n",
              "      <th>т2270/3</th>\n",
              "      <th>техн104</th>\n",
              "      <th>т2263</th>\n",
              "    </tr>\n",
              "  </thead>\n",
              "  <tbody>\n",
              "    <tr>\n",
              "      <th>262554</th>\n",
              "      <td>2021-01-31 20:53:00</td>\n",
              "      <td>85922.091778</td>\n",
              "      <td>83531.888557</td>\n",
              "      <td>5970.656362</td>\n",
              "      <td>5923.497035</td>\n",
              "      <td>825826.827767</td>\n",
              "      <td>1893.834351</td>\n",
              "      <td>20.100010</td>\n",
              "      <td>868.967590</td>\n",
              "      <td>23434.253457</td>\n",
              "      <td>-1.699997</td>\n",
              "      <td>-2.495597</td>\n",
              "      <td>342.713863</td>\n",
              "    </tr>\n",
              "    <tr>\n",
              "      <th>262555</th>\n",
              "      <td>2021-01-31 20:54:00</td>\n",
              "      <td>85945.023030</td>\n",
              "      <td>83380.258346</td>\n",
              "      <td>5988.784950</td>\n",
              "      <td>5935.748489</td>\n",
              "      <td>826008.907763</td>\n",
              "      <td>1896.971558</td>\n",
              "      <td>20.100010</td>\n",
              "      <td>866.320679</td>\n",
              "      <td>23221.027617</td>\n",
              "      <td>-1.699997</td>\n",
              "      <td>-2.500000</td>\n",
              "      <td>342.881555</td>\n",
              "    </tr>\n",
              "    <tr>\n",
              "      <th>262556</th>\n",
              "      <td>2021-01-31 20:55:00</td>\n",
              "      <td>85930.648875</td>\n",
              "      <td>78598.570272</td>\n",
              "      <td>6026.030281</td>\n",
              "      <td>6001.688268</td>\n",
              "      <td>825982.568036</td>\n",
              "      <td>1896.046265</td>\n",
              "      <td>20.100010</td>\n",
              "      <td>866.703674</td>\n",
              "      <td>22540.618260</td>\n",
              "      <td>-1.699997</td>\n",
              "      <td>-2.500000</td>\n",
              "      <td>342.606334</td>\n",
              "    </tr>\n",
              "    <tr>\n",
              "      <th>262557</th>\n",
              "      <td>2021-01-31 20:56:00</td>\n",
              "      <td>85976.682631</td>\n",
              "      <td>80948.197718</td>\n",
              "      <td>6010.062373</td>\n",
              "      <td>5987.957000</td>\n",
              "      <td>826417.173541</td>\n",
              "      <td>1902.887085</td>\n",
              "      <td>20.100010</td>\n",
              "      <td>866.863220</td>\n",
              "      <td>22555.051800</td>\n",
              "      <td>-1.699997</td>\n",
              "      <td>-2.500000</td>\n",
              "      <td>341.959865</td>\n",
              "    </tr>\n",
              "    <tr>\n",
              "      <th>262558</th>\n",
              "      <td>2021-01-31 20:57:00</td>\n",
              "      <td>85929.814710</td>\n",
              "      <td>80387.705109</td>\n",
              "      <td>5952.545727</td>\n",
              "      <td>5926.435257</td>\n",
              "      <td>825907.614717</td>\n",
              "      <td>1895.516846</td>\n",
              "      <td>20.100019</td>\n",
              "      <td>865.954102</td>\n",
              "      <td>22725.313998</td>\n",
              "      <td>-1.699997</td>\n",
              "      <td>-2.500000</td>\n",
              "      <td>341.420256</td>\n",
              "    </tr>\n",
              "    <tr>\n",
              "      <th>262559</th>\n",
              "      <td>2021-01-31 20:58:00</td>\n",
              "      <td>85959.341942</td>\n",
              "      <td>82035.529074</td>\n",
              "      <td>5759.869833</td>\n",
              "      <td>5733.626435</td>\n",
              "      <td>826243.225273</td>\n",
              "      <td>1899.486328</td>\n",
              "      <td>20.100031</td>\n",
              "      <td>863.094360</td>\n",
              "      <td>22408.644789</td>\n",
              "      <td>-1.699997</td>\n",
              "      <td>-2.500000</td>\n",
              "      <td>341.231740</td>\n",
              "    </tr>\n",
              "    <tr>\n",
              "      <th>262560</th>\n",
              "      <td>2021-01-31 20:59:00</td>\n",
              "      <td>86169.949278</td>\n",
              "      <td>83271.954999</td>\n",
              "      <td>5591.292193</td>\n",
              "      <td>5583.059647</td>\n",
              "      <td>828064.909118</td>\n",
              "      <td>1921.149170</td>\n",
              "      <td>19.974314</td>\n",
              "      <td>863.610291</td>\n",
              "      <td>22595.175967</td>\n",
              "      <td>-1.699997</td>\n",
              "      <td>-2.500000</td>\n",
              "      <td>341.299132</td>\n",
              "    </tr>\n",
              "  </tbody>\n",
              "</table>\n",
              "</div>"
            ],
            "text/plain": [
              "                     V_DATE         т2267  ...   техн104       т2263\n",
              "262554  2021-01-31 20:53:00  85922.091778  ... -2.495597  342.713863\n",
              "262555  2021-01-31 20:54:00  85945.023030  ... -2.500000  342.881555\n",
              "262556  2021-01-31 20:55:00  85930.648875  ... -2.500000  342.606334\n",
              "262557  2021-01-31 20:56:00  85976.682631  ... -2.500000  341.959865\n",
              "262558  2021-01-31 20:57:00  85929.814710  ... -2.500000  341.420256\n",
              "262559  2021-01-31 20:58:00  85959.341942  ... -2.500000  341.231740\n",
              "262560  2021-01-31 20:59:00  86169.949278  ... -2.500000  341.299132\n",
              "\n",
              "[7 rows x 13 columns]"
            ]
          },
          "metadata": {
            "tags": []
          },
          "execution_count": 5
        }
      ]
    },
    {
      "cell_type": "markdown",
      "metadata": {
        "id": "J180sx7PZ3iZ"
      },
      "source": [
        "**Data description:**"
      ]
    },
    {
      "cell_type": "markdown",
      "metadata": {
        "id": "gmFP9HOoaDNS"
      },
      "source": [
        "According to the task here we have one target (т2263) and the 11 features."
      ]
    },
    {
      "cell_type": "markdown",
      "metadata": {
        "id": "jIsKZ51UaFcu"
      },
      "source": [
        "**The goal of the task:**"
      ]
    },
    {
      "cell_type": "markdown",
      "metadata": {
        "id": "3WJaFR6JaFYn"
      },
      "source": [
        "\n",
        "An overall goall is to build a model to predict the amount of vapor."
      ]
    },
    {
      "cell_type": "code",
      "metadata": {
        "colab": {
          "base_uri": "https://localhost:8080/"
        },
        "id": "L2EyhhOiqeoH",
        "outputId": "dc1ca3d4-1535-420f-87fd-e8ae3c2233ed"
      },
      "source": [
        "# Column data types and missing values\n",
        "df.info()"
      ],
      "execution_count": null,
      "outputs": [
        {
          "output_type": "stream",
          "text": [
            "<class 'pandas.core.frame.DataFrame'>\n",
            "RangeIndex: 262561 entries, 0 to 262560\n",
            "Data columns (total 13 columns):\n",
            " #   Column   Non-Null Count   Dtype  \n",
            "---  ------   --------------   -----  \n",
            " 0   V_DATE   262561 non-null  object \n",
            " 1   т2267    262561 non-null  float64\n",
            " 2   т2268    262561 non-null  float64\n",
            " 3   т2379    262561 non-null  float64\n",
            " 4   т2380    262561 non-null  float64\n",
            " 5   т2266    262561 non-null  float64\n",
            " 6   т2266/2  262560 non-null  float64\n",
            " 7   т2266/3  262560 non-null  float64\n",
            " 8   т2266/4  262471 non-null  float64\n",
            " 9   т2270    262561 non-null  float64\n",
            " 10  т2270/3  262560 non-null  float64\n",
            " 11  техн104  262561 non-null  float64\n",
            " 12  т2263    262561 non-null  float64\n",
            "dtypes: float64(12), object(1)\n",
            "memory usage: 26.0+ MB\n"
          ],
          "name": "stdout"
        }
      ]
    },
    {
      "cell_type": "markdown",
      "metadata": {
        "id": "iE0q_pO1aWF-"
      },
      "source": [
        "\n",
        "Here is one column with object datatype. It has to be converted into datetime datatype."
      ]
    },
    {
      "cell_type": "markdown",
      "metadata": {
        "id": "kk19YbakaX78"
      },
      "source": [
        "# 3 Preprocessing"
      ]
    },
    {
      "cell_type": "code",
      "metadata": {
        "id": "6kjEL3niahJ7"
      },
      "source": [
        "# Converting object to datetime\n",
        "df['V_DATE'] = pd.to_datetime(df['V_DATE'])"
      ],
      "execution_count": null,
      "outputs": []
    },
    {
      "cell_type": "code",
      "metadata": {
        "colab": {
          "base_uri": "https://localhost:8080/"
        },
        "id": "pzoOzQFVqfIC",
        "outputId": "5348953e-fde0-4349-8329-945698af9494"
      },
      "source": [
        "df.info()"
      ],
      "execution_count": null,
      "outputs": [
        {
          "output_type": "stream",
          "text": [
            "<class 'pandas.core.frame.DataFrame'>\n",
            "RangeIndex: 262561 entries, 0 to 262560\n",
            "Data columns (total 13 columns):\n",
            " #   Column   Non-Null Count   Dtype         \n",
            "---  ------   --------------   -----         \n",
            " 0   V_DATE   262561 non-null  datetime64[ns]\n",
            " 1   т2267    262561 non-null  float64       \n",
            " 2   т2268    262561 non-null  float64       \n",
            " 3   т2379    262561 non-null  float64       \n",
            " 4   т2380    262561 non-null  float64       \n",
            " 5   т2266    262561 non-null  float64       \n",
            " 6   т2266/2  262560 non-null  float64       \n",
            " 7   т2266/3  262560 non-null  float64       \n",
            " 8   т2266/4  262471 non-null  float64       \n",
            " 9   т2270    262561 non-null  float64       \n",
            " 10  т2270/3  262560 non-null  float64       \n",
            " 11  техн104  262561 non-null  float64       \n",
            " 12  т2263    262561 non-null  float64       \n",
            "dtypes: datetime64[ns](1), float64(12)\n",
            "memory usage: 26.0 MB\n"
          ],
          "name": "stdout"
        }
      ]
    },
    {
      "cell_type": "markdown",
      "metadata": {
        "id": "nKJzOZefamQH"
      },
      "source": [
        "As we see, there also should be missing values in the data."
      ]
    },
    {
      "cell_type": "markdown",
      "metadata": {
        "id": "R-wiy734aqJE"
      },
      "source": [
        "## 3.1 Statistics"
      ]
    },
    {
      "cell_type": "code",
      "metadata": {
        "colab": {
          "base_uri": "https://localhost:8080/",
          "height": 294
        },
        "id": "alTAuG-qqus0",
        "outputId": "938f7e4a-7f18-4b8f-ee6e-de1c16f05016"
      },
      "source": [
        "# Getting statistics for each column\n",
        "df.describe()"
      ],
      "execution_count": null,
      "outputs": [
        {
          "output_type": "execute_result",
          "data": {
            "text/html": [
              "<div>\n",
              "<style scoped>\n",
              "    .dataframe tbody tr th:only-of-type {\n",
              "        vertical-align: middle;\n",
              "    }\n",
              "\n",
              "    .dataframe tbody tr th {\n",
              "        vertical-align: top;\n",
              "    }\n",
              "\n",
              "    .dataframe thead th {\n",
              "        text-align: right;\n",
              "    }\n",
              "</style>\n",
              "<table border=\"1\" class=\"dataframe\">\n",
              "  <thead>\n",
              "    <tr style=\"text-align: right;\">\n",
              "      <th></th>\n",
              "      <th>т2267</th>\n",
              "      <th>т2268</th>\n",
              "      <th>т2379</th>\n",
              "      <th>т2380</th>\n",
              "      <th>т2266</th>\n",
              "      <th>т2266/2</th>\n",
              "      <th>т2266/3</th>\n",
              "      <th>т2266/4</th>\n",
              "      <th>т2270</th>\n",
              "      <th>т2270/3</th>\n",
              "      <th>техн104</th>\n",
              "      <th>т2263</th>\n",
              "    </tr>\n",
              "  </thead>\n",
              "  <tbody>\n",
              "    <tr>\n",
              "      <th>count</th>\n",
              "      <td>262561.000000</td>\n",
              "      <td>262561.000000</td>\n",
              "      <td>262561.000000</td>\n",
              "      <td>262561.000000</td>\n",
              "      <td>262561.000000</td>\n",
              "      <td>262560.000000</td>\n",
              "      <td>262560.000000</td>\n",
              "      <td>262471.000000</td>\n",
              "      <td>262561.000000</td>\n",
              "      <td>262560.000000</td>\n",
              "      <td>262561.000000</td>\n",
              "      <td>262561.000000</td>\n",
              "    </tr>\n",
              "    <tr>\n",
              "      <th>mean</th>\n",
              "      <td>83591.154340</td>\n",
              "      <td>80622.184510</td>\n",
              "      <td>1783.852993</td>\n",
              "      <td>1692.394200</td>\n",
              "      <td>593871.985529</td>\n",
              "      <td>1491.935978</td>\n",
              "      <td>22.217640</td>\n",
              "      <td>842.812206</td>\n",
              "      <td>12652.127545</td>\n",
              "      <td>7.940601</td>\n",
              "      <td>6.579398</td>\n",
              "      <td>276.805314</td>\n",
              "    </tr>\n",
              "    <tr>\n",
              "      <th>std</th>\n",
              "      <td>22046.500093</td>\n",
              "      <td>21247.195478</td>\n",
              "      <td>1826.488445</td>\n",
              "      <td>1864.321757</td>\n",
              "      <td>217557.779293</td>\n",
              "      <td>342.300373</td>\n",
              "      <td>6.529001</td>\n",
              "      <td>118.028293</td>\n",
              "      <td>10478.749616</td>\n",
              "      <td>12.277266</td>\n",
              "      <td>10.869162</td>\n",
              "      <td>60.518095</td>\n",
              "    </tr>\n",
              "    <tr>\n",
              "      <th>min</th>\n",
              "      <td>0.000000</td>\n",
              "      <td>0.000000</td>\n",
              "      <td>0.000000</td>\n",
              "      <td>0.000000</td>\n",
              "      <td>0.000000</td>\n",
              "      <td>0.000000</td>\n",
              "      <td>0.000000</td>\n",
              "      <td>0.000000</td>\n",
              "      <td>0.000000</td>\n",
              "      <td>-19.299999</td>\n",
              "      <td>-19.899990</td>\n",
              "      <td>0.000000</td>\n",
              "    </tr>\n",
              "    <tr>\n",
              "      <th>25%</th>\n",
              "      <td>80194.659433</td>\n",
              "      <td>77688.440981</td>\n",
              "      <td>680.166289</td>\n",
              "      <td>517.467078</td>\n",
              "      <td>415368.179269</td>\n",
              "      <td>1306.530121</td>\n",
              "      <td>18.000000</td>\n",
              "      <td>831.509644</td>\n",
              "      <td>6303.990227</td>\n",
              "      <td>-0.974202</td>\n",
              "      <td>-1.800003</td>\n",
              "      <td>256.178909</td>\n",
              "    </tr>\n",
              "    <tr>\n",
              "      <th>50%</th>\n",
              "      <td>88448.965482</td>\n",
              "      <td>85211.598618</td>\n",
              "      <td>1035.901249</td>\n",
              "      <td>932.097076</td>\n",
              "      <td>629825.003945</td>\n",
              "      <td>1554.587952</td>\n",
              "      <td>22.292431</td>\n",
              "      <td>863.610291</td>\n",
              "      <td>9288.205267</td>\n",
              "      <td>7.000000</td>\n",
              "      <td>6.500000</td>\n",
              "      <td>291.755564</td>\n",
              "    </tr>\n",
              "    <tr>\n",
              "      <th>75%</th>\n",
              "      <td>95287.489075</td>\n",
              "      <td>92953.318542</td>\n",
              "      <td>2019.885047</td>\n",
              "      <td>1974.804918</td>\n",
              "      <td>796065.587231</td>\n",
              "      <td>1744.246582</td>\n",
              "      <td>26.100010</td>\n",
              "      <td>890.364441</td>\n",
              "      <td>14207.313744</td>\n",
              "      <td>16.299999</td>\n",
              "      <td>15.400010</td>\n",
              "      <td>313.557447</td>\n",
              "    </tr>\n",
              "    <tr>\n",
              "      <th>max</th>\n",
              "      <td>114429.764574</td>\n",
              "      <td>112581.652613</td>\n",
              "      <td>12104.647485</td>\n",
              "      <td>12348.965307</td>\n",
              "      <td>874114.619524</td>\n",
              "      <td>2061.833496</td>\n",
              "      <td>68.994217</td>\n",
              "      <td>1091.072510</td>\n",
              "      <td>51582.163581</td>\n",
              "      <td>43.600010</td>\n",
              "      <td>33.900009</td>\n",
              "      <td>369.534504</td>\n",
              "    </tr>\n",
              "  </tbody>\n",
              "</table>\n",
              "</div>"
            ],
            "text/plain": [
              "               т2267          т2268  ...        техн104          т2263\n",
              "count  262561.000000  262561.000000  ...  262561.000000  262561.000000\n",
              "mean    83591.154340   80622.184510  ...       6.579398     276.805314\n",
              "std     22046.500093   21247.195478  ...      10.869162      60.518095\n",
              "min         0.000000       0.000000  ...     -19.899990       0.000000\n",
              "25%     80194.659433   77688.440981  ...      -1.800003     256.178909\n",
              "50%     88448.965482   85211.598618  ...       6.500000     291.755564\n",
              "75%     95287.489075   92953.318542  ...      15.400010     313.557447\n",
              "max    114429.764574  112581.652613  ...      33.900009     369.534504\n",
              "\n",
              "[8 rows x 12 columns]"
            ]
          },
          "metadata": {
            "tags": []
          },
          "execution_count": 9
        }
      ]
    },
    {
      "cell_type": "code",
      "metadata": {
        "id": "8t3sQ7aAa06e"
      },
      "source": [
        "# Function to calculate missing values by column\n",
        "def missing_values_table(df):\n",
        "        # Total missing values\n",
        "        mis_val = df.isnull().sum()\n",
        "        \n",
        "        # Percentage of missing values\n",
        "        mis_val_percent = 100 * df.isnull().sum() / len(df)\n",
        "        \n",
        "        # Make a table with the results\n",
        "        mis_val_table = pd.concat([mis_val, mis_val_percent], axis=1)\n",
        "        \n",
        "        # Rename the columns\n",
        "        mis_val_table_ren_columns = mis_val_table.rename(\n",
        "        columns = {0 : 'Missing Values', 1 : '% of Total Values'})\n",
        "        \n",
        "        # Sort the table by percentage of missing descending\n",
        "        mis_val_table_ren_columns = mis_val_table_ren_columns[\n",
        "            mis_val_table_ren_columns.iloc[:,1] != 0].sort_values(\n",
        "        '% of Total Values', ascending=False).round(1)\n",
        "        \n",
        "        # Print some summary information\n",
        "        print (\"Your selected dataframe has \" + str(df.shape[1]) + \" columns.\\n\"      \n",
        "            \"There are \" + str(mis_val_table_ren_columns.shape[0]) +\n",
        "              \" columns that have missing values.\")\n",
        "        \n",
        "        # Return the dataframe with missing information\n",
        "        return mis_val_table_ren_columns"
      ],
      "execution_count": null,
      "outputs": []
    },
    {
      "cell_type": "markdown",
      "metadata": {
        "id": "k8vsITJrq568"
      },
      "source": [
        "## 3.2 Missing values"
      ]
    },
    {
      "cell_type": "code",
      "metadata": {
        "id": "qMRTwPhcqwJs",
        "colab": {
          "base_uri": "https://localhost:8080/",
          "height": 206
        },
        "outputId": "8f4bc6ab-ddde-4dc2-88fb-7d8e25cd60e0"
      },
      "source": [
        "missing_values_table(df=df)"
      ],
      "execution_count": null,
      "outputs": [
        {
          "output_type": "stream",
          "text": [
            "Your selected dataframe has 13 columns.\n",
            "There are 4 columns that have missing values.\n"
          ],
          "name": "stdout"
        },
        {
          "output_type": "execute_result",
          "data": {
            "text/html": [
              "<div>\n",
              "<style scoped>\n",
              "    .dataframe tbody tr th:only-of-type {\n",
              "        vertical-align: middle;\n",
              "    }\n",
              "\n",
              "    .dataframe tbody tr th {\n",
              "        vertical-align: top;\n",
              "    }\n",
              "\n",
              "    .dataframe thead th {\n",
              "        text-align: right;\n",
              "    }\n",
              "</style>\n",
              "<table border=\"1\" class=\"dataframe\">\n",
              "  <thead>\n",
              "    <tr style=\"text-align: right;\">\n",
              "      <th></th>\n",
              "      <th>Missing Values</th>\n",
              "      <th>% of Total Values</th>\n",
              "    </tr>\n",
              "  </thead>\n",
              "  <tbody>\n",
              "    <tr>\n",
              "      <th>т2266/4</th>\n",
              "      <td>90</td>\n",
              "      <td>0.0</td>\n",
              "    </tr>\n",
              "    <tr>\n",
              "      <th>т2266/2</th>\n",
              "      <td>1</td>\n",
              "      <td>0.0</td>\n",
              "    </tr>\n",
              "    <tr>\n",
              "      <th>т2266/3</th>\n",
              "      <td>1</td>\n",
              "      <td>0.0</td>\n",
              "    </tr>\n",
              "    <tr>\n",
              "      <th>т2270/3</th>\n",
              "      <td>1</td>\n",
              "      <td>0.0</td>\n",
              "    </tr>\n",
              "  </tbody>\n",
              "</table>\n",
              "</div>"
            ],
            "text/plain": [
              "         Missing Values  % of Total Values\n",
              "т2266/4              90                0.0\n",
              "т2266/2               1                0.0\n",
              "т2266/3               1                0.0\n",
              "т2270/3               1                0.0"
            ]
          },
          "metadata": {
            "tags": []
          },
          "execution_count": 11
        }
      ]
    },
    {
      "cell_type": "markdown",
      "metadata": {
        "id": "H03h7NpEa-G8"
      },
      "source": [
        "They're a few missing values that should be dropped before choosing an appropriate machine learning strategy."
      ]
    },
    {
      "cell_type": "code",
      "metadata": {
        "colab": {
          "base_uri": "https://localhost:8080/"
        },
        "id": "k9A8CZ1Nq89e",
        "outputId": "65912c00-7216-4ec9-a550-e5f8fb0c956d"
      },
      "source": [
        "# Dropping the missing values.\n",
        "df = df.dropna() \n",
        "df.count()"
      ],
      "execution_count": null,
      "outputs": [
        {
          "output_type": "execute_result",
          "data": {
            "text/plain": [
              "V_DATE     262470\n",
              "т2267      262470\n",
              "т2268      262470\n",
              "т2379      262470\n",
              "т2380      262470\n",
              "т2266      262470\n",
              "т2266/2    262470\n",
              "т2266/3    262470\n",
              "т2266/4    262470\n",
              "т2270      262470\n",
              "т2270/3    262470\n",
              "техн104    262470\n",
              "т2263      262470\n",
              "dtype: int64"
            ]
          },
          "metadata": {
            "tags": []
          },
          "execution_count": 12
        }
      ]
    },
    {
      "cell_type": "code",
      "metadata": {
        "colab": {
          "base_uri": "https://localhost:8080/"
        },
        "id": "Dclz59OtbFAE",
        "outputId": "bb65897d-e483-4a2e-b07d-22a40f4bc5ee"
      },
      "source": [
        "# Shape of given data\n",
        "df.shape"
      ],
      "execution_count": null,
      "outputs": [
        {
          "output_type": "execute_result",
          "data": {
            "text/plain": [
              "(262470, 13)"
            ]
          },
          "metadata": {
            "tags": []
          },
          "execution_count": 13
        }
      ]
    },
    {
      "cell_type": "code",
      "metadata": {
        "id": "OIJkbverbHNA"
      },
      "source": [
        "# Creating a list with columns\n",
        "columns = []\n",
        "for column in df.columns:\n",
        "    columns.append(column)"
      ],
      "execution_count": null,
      "outputs": []
    },
    {
      "cell_type": "markdown",
      "metadata": {
        "id": "WG_DmR0bbMJy"
      },
      "source": [
        "# 4 Exploratory Data Analysis"
      ]
    },
    {
      "cell_type": "markdown",
      "metadata": {
        "id": "e1Xdp-8PbPF4"
      },
      "source": [
        "\n",
        "The purpose is to to find anomalies, patterns, trends, or relationships."
      ]
    },
    {
      "cell_type": "markdown",
      "metadata": {
        "id": "H1rd2fDAbRyy"
      },
      "source": [
        "## 4.1 Detecting Outliers with Z-score"
      ]
    },
    {
      "cell_type": "markdown",
      "metadata": {
        "id": "bPXI0_1KbVX4"
      },
      "source": [
        "Outliers are plotted as a point in the boxplot, but other populations will be grouped and displayed as boxes. (p.s. I removed this Box Plots because of memory overload)"
      ]
    },
    {
      "cell_type": "markdown",
      "metadata": {
        "id": "7wSD0rcXbbcz"
      },
      "source": [
        "Let's use `Z-score` for that purpose:"
      ]
    },
    {
      "cell_type": "code",
      "metadata": {
        "colab": {
          "base_uri": "https://localhost:8080/"
        },
        "id": "-d9KcM76bIwL",
        "outputId": "6300a80b-a26d-4520-a911-30f43c3028b7"
      },
      "source": [
        "from scipy import stats\n",
        "z = np.abs(stats.zscore(df.loc[:,'т2267':]))\n",
        "z"
      ],
      "execution_count": null,
      "outputs": [
        {
          "output_type": "execute_result",
          "data": {
            "text/plain": [
              "array([[0.25741032, 0.12865106, 0.64641292, ..., 0.59097779, 0.77441077,\n",
              "        0.59815979],\n",
              "       [0.24023389, 0.11064856, 0.64759673, ..., 0.59097779, 0.76724542,\n",
              "        0.58139429],\n",
              "       [0.25325701, 0.1243844 , 0.64693275, ..., 0.59097779, 0.76521209,\n",
              "        0.55424279],\n",
              "       ...,\n",
              "       [0.10602565, 0.0110746 , 2.28203094, ..., 0.78546877, 0.83552105,\n",
              "        1.06750234],\n",
              "       [0.10736474, 0.06646727, 2.17655671, ..., 0.78546877, 0.83552105,\n",
              "        1.06438782],\n",
              "       [0.116916  , 0.12464993, 2.0842743 , ..., 0.78546877, 0.83552105,\n",
              "        1.06550122]])"
            ]
          },
          "metadata": {
            "tags": []
          },
          "execution_count": 15
        }
      ]
    },
    {
      "cell_type": "code",
      "metadata": {
        "colab": {
          "base_uri": "https://localhost:8080/"
        },
        "id": "8nNQcCgJbeca",
        "outputId": "345dee1d-5496-405a-e91f-385088de2bc0"
      },
      "source": [
        "# Defining the threshold for catching outliers\n",
        "threshold = 3\n",
        "np.where(z > 3)"
      ],
      "execution_count": null,
      "outputs": [
        {
          "output_type": "execute_result",
          "data": {
            "text/plain": [
              "(array([  3143,   3143,   3143, ..., 258998, 258999, 258999]),\n",
              " array([0, 1, 5, ..., 3, 2, 3]))"
            ]
          },
          "metadata": {
            "tags": []
          },
          "execution_count": 16
        }
      ]
    },
    {
      "cell_type": "code",
      "metadata": {
        "colab": {
          "base_uri": "https://localhost:8080/",
          "height": 416
        },
        "id": "qIQ02kz9bhbS",
        "outputId": "dfaa3f4b-641a-4252-bcdd-8863497787b8"
      },
      "source": [
        "df_o = df[(z < 3).all(axis=1)]\n",
        "df_o"
      ],
      "execution_count": null,
      "outputs": [
        {
          "output_type": "execute_result",
          "data": {
            "text/html": [
              "<div>\n",
              "<style scoped>\n",
              "    .dataframe tbody tr th:only-of-type {\n",
              "        vertical-align: middle;\n",
              "    }\n",
              "\n",
              "    .dataframe tbody tr th {\n",
              "        vertical-align: top;\n",
              "    }\n",
              "\n",
              "    .dataframe thead th {\n",
              "        text-align: right;\n",
              "    }\n",
              "</style>\n",
              "<table border=\"1\" class=\"dataframe\">\n",
              "  <thead>\n",
              "    <tr style=\"text-align: right;\">\n",
              "      <th></th>\n",
              "      <th>V_DATE</th>\n",
              "      <th>т2267</th>\n",
              "      <th>т2268</th>\n",
              "      <th>т2379</th>\n",
              "      <th>т2380</th>\n",
              "      <th>т2266</th>\n",
              "      <th>т2266/2</th>\n",
              "      <th>т2266/3</th>\n",
              "      <th>т2266/4</th>\n",
              "      <th>т2270</th>\n",
              "      <th>т2270/3</th>\n",
              "      <th>техн104</th>\n",
              "      <th>т2263</th>\n",
              "    </tr>\n",
              "  </thead>\n",
              "  <tbody>\n",
              "    <tr>\n",
              "      <th>0</th>\n",
              "      <td>2020-08-01 00:00:00</td>\n",
              "      <td>77915.974685</td>\n",
              "      <td>77889.115676</td>\n",
              "      <td>602.987379</td>\n",
              "      <td>0.000000</td>\n",
              "      <td>379396.596650</td>\n",
              "      <td>1815.736572</td>\n",
              "      <td>24.264420</td>\n",
              "      <td>896.875000</td>\n",
              "      <td>4324.767273</td>\n",
              "      <td>15.200000</td>\n",
              "      <td>15.000000</td>\n",
              "      <td>240.600980</td>\n",
              "    </tr>\n",
              "    <tr>\n",
              "      <th>1</th>\n",
              "      <td>2020-08-01 00:01:00</td>\n",
              "      <td>78294.718755</td>\n",
              "      <td>78271.682542</td>\n",
              "      <td>600.824843</td>\n",
              "      <td>0.000000</td>\n",
              "      <td>338987.432843</td>\n",
              "      <td>1875.114014</td>\n",
              "      <td>24.200001</td>\n",
              "      <td>897.693542</td>\n",
              "      <td>4241.105630</td>\n",
              "      <td>15.200000</td>\n",
              "      <td>14.922112</td>\n",
              "      <td>241.615763</td>\n",
              "    </tr>\n",
              "    <tr>\n",
              "      <th>2</th>\n",
              "      <td>2020-08-01 00:02:00</td>\n",
              "      <td>78007.556062</td>\n",
              "      <td>77979.785548</td>\n",
              "      <td>602.037766</td>\n",
              "      <td>0.000000</td>\n",
              "      <td>328669.419080</td>\n",
              "      <td>1827.952393</td>\n",
              "      <td>24.200001</td>\n",
              "      <td>896.916321</td>\n",
              "      <td>4186.155354</td>\n",
              "      <td>15.200000</td>\n",
              "      <td>14.900010</td>\n",
              "      <td>243.259191</td>\n",
              "    </tr>\n",
              "    <tr>\n",
              "      <th>3</th>\n",
              "      <td>2020-08-01 00:03:00</td>\n",
              "      <td>78255.374891</td>\n",
              "      <td>78243.088911</td>\n",
              "      <td>603.667469</td>\n",
              "      <td>0.000000</td>\n",
              "      <td>366827.243284</td>\n",
              "      <td>1867.092773</td>\n",
              "      <td>24.200001</td>\n",
              "      <td>896.875000</td>\n",
              "      <td>4378.600955</td>\n",
              "      <td>15.200000</td>\n",
              "      <td>14.900010</td>\n",
              "      <td>243.322008</td>\n",
              "    </tr>\n",
              "    <tr>\n",
              "      <th>4</th>\n",
              "      <td>2020-08-01 00:04:00</td>\n",
              "      <td>78474.798964</td>\n",
              "      <td>78439.012732</td>\n",
              "      <td>602.012647</td>\n",
              "      <td>0.000000</td>\n",
              "      <td>422759.212899</td>\n",
              "      <td>1898.480225</td>\n",
              "      <td>24.245493</td>\n",
              "      <td>896.234375</td>\n",
              "      <td>4155.943112</td>\n",
              "      <td>15.200000</td>\n",
              "      <td>14.825890</td>\n",
              "      <td>243.848389</td>\n",
              "    </tr>\n",
              "    <tr>\n",
              "      <th>...</th>\n",
              "      <td>...</td>\n",
              "      <td>...</td>\n",
              "      <td>...</td>\n",
              "      <td>...</td>\n",
              "      <td>...</td>\n",
              "      <td>...</td>\n",
              "      <td>...</td>\n",
              "      <td>...</td>\n",
              "      <td>...</td>\n",
              "      <td>...</td>\n",
              "      <td>...</td>\n",
              "      <td>...</td>\n",
              "      <td>...</td>\n",
              "    </tr>\n",
              "    <tr>\n",
              "      <th>262556</th>\n",
              "      <td>2021-01-31 20:55:00</td>\n",
              "      <td>85930.648875</td>\n",
              "      <td>78598.570272</td>\n",
              "      <td>6026.030281</td>\n",
              "      <td>6001.688268</td>\n",
              "      <td>825982.568036</td>\n",
              "      <td>1896.046265</td>\n",
              "      <td>20.100010</td>\n",
              "      <td>866.703674</td>\n",
              "      <td>22540.618260</td>\n",
              "      <td>-1.699997</td>\n",
              "      <td>-2.500000</td>\n",
              "      <td>342.606334</td>\n",
              "    </tr>\n",
              "    <tr>\n",
              "      <th>262557</th>\n",
              "      <td>2021-01-31 20:56:00</td>\n",
              "      <td>85976.682631</td>\n",
              "      <td>80948.197718</td>\n",
              "      <td>6010.062373</td>\n",
              "      <td>5987.957000</td>\n",
              "      <td>826417.173541</td>\n",
              "      <td>1902.887085</td>\n",
              "      <td>20.100010</td>\n",
              "      <td>866.863220</td>\n",
              "      <td>22555.051800</td>\n",
              "      <td>-1.699997</td>\n",
              "      <td>-2.500000</td>\n",
              "      <td>341.959865</td>\n",
              "    </tr>\n",
              "    <tr>\n",
              "      <th>262558</th>\n",
              "      <td>2021-01-31 20:57:00</td>\n",
              "      <td>85929.814710</td>\n",
              "      <td>80387.705109</td>\n",
              "      <td>5952.545727</td>\n",
              "      <td>5926.435257</td>\n",
              "      <td>825907.614717</td>\n",
              "      <td>1895.516846</td>\n",
              "      <td>20.100019</td>\n",
              "      <td>865.954102</td>\n",
              "      <td>22725.313998</td>\n",
              "      <td>-1.699997</td>\n",
              "      <td>-2.500000</td>\n",
              "      <td>341.420256</td>\n",
              "    </tr>\n",
              "    <tr>\n",
              "      <th>262559</th>\n",
              "      <td>2021-01-31 20:58:00</td>\n",
              "      <td>85959.341942</td>\n",
              "      <td>82035.529074</td>\n",
              "      <td>5759.869833</td>\n",
              "      <td>5733.626435</td>\n",
              "      <td>826243.225273</td>\n",
              "      <td>1899.486328</td>\n",
              "      <td>20.100031</td>\n",
              "      <td>863.094360</td>\n",
              "      <td>22408.644789</td>\n",
              "      <td>-1.699997</td>\n",
              "      <td>-2.500000</td>\n",
              "      <td>341.231740</td>\n",
              "    </tr>\n",
              "    <tr>\n",
              "      <th>262560</th>\n",
              "      <td>2021-01-31 20:59:00</td>\n",
              "      <td>86169.949278</td>\n",
              "      <td>83271.954999</td>\n",
              "      <td>5591.292193</td>\n",
              "      <td>5583.059647</td>\n",
              "      <td>828064.909118</td>\n",
              "      <td>1921.149170</td>\n",
              "      <td>19.974314</td>\n",
              "      <td>863.610291</td>\n",
              "      <td>22595.175967</td>\n",
              "      <td>-1.699997</td>\n",
              "      <td>-2.500000</td>\n",
              "      <td>341.299132</td>\n",
              "    </tr>\n",
              "  </tbody>\n",
              "</table>\n",
              "<p>241139 rows × 13 columns</p>\n",
              "</div>"
            ],
            "text/plain": [
              "                    V_DATE         т2267  ...    техн104       т2263\n",
              "0      2020-08-01 00:00:00  77915.974685  ...  15.000000  240.600980\n",
              "1      2020-08-01 00:01:00  78294.718755  ...  14.922112  241.615763\n",
              "2      2020-08-01 00:02:00  78007.556062  ...  14.900010  243.259191\n",
              "3      2020-08-01 00:03:00  78255.374891  ...  14.900010  243.322008\n",
              "4      2020-08-01 00:04:00  78474.798964  ...  14.825890  243.848389\n",
              "...                    ...           ...  ...        ...         ...\n",
              "262556 2021-01-31 20:55:00  85930.648875  ...  -2.500000  342.606334\n",
              "262557 2021-01-31 20:56:00  85976.682631  ...  -2.500000  341.959865\n",
              "262558 2021-01-31 20:57:00  85929.814710  ...  -2.500000  341.420256\n",
              "262559 2021-01-31 20:58:00  85959.341942  ...  -2.500000  341.231740\n",
              "262560 2021-01-31 20:59:00  86169.949278  ...  -2.500000  341.299132\n",
              "\n",
              "[241139 rows x 13 columns]"
            ]
          },
          "metadata": {
            "tags": []
          },
          "execution_count": 17
        }
      ]
    },
    {
      "cell_type": "code",
      "metadata": {
        "colab": {
          "base_uri": "https://localhost:8080/"
        },
        "id": "HJHgpSlLbkmw",
        "outputId": "7f16102e-b54f-4cff-984e-bb2a07055b61"
      },
      "source": [
        "a = df_o.shape\n",
        "b = df.shape\n",
        "print('There is the next amount of outliers: ', b[0]-a[0])"
      ],
      "execution_count": null,
      "outputs": [
        {
          "output_type": "stream",
          "text": [
            "There is the next amount of outliers:  21331\n"
          ],
          "name": "stdout"
        }
      ]
    },
    {
      "cell_type": "markdown",
      "metadata": {
        "id": "KcIfEX2VbvHx"
      },
      "source": [
        "In that case, let's plot the visualization scenario with and without outliers."
      ]
    },
    {
      "cell_type": "markdown",
      "metadata": {
        "id": "P8hL0RWFbzDw"
      },
      "source": [
        "### 4.1.1 Data with outliers"
      ]
    },
    {
      "cell_type": "code",
      "metadata": {
        "id": "7tyUW8VNbp0y"
      },
      "source": [
        "# Data visualization with outliers\n",
        "fig = go.Figure()\n",
        "fig.add_trace(go.Scatter(name='т2267', x=df['V_DATE'], \n",
        "                         y=df.loc[:, 'т2267']))\n",
        "fig.add_trace(go.Scatter(name='т2268', x=df['V_DATE'], \n",
        "                         y=df.loc[:, 'т2268']))\n",
        "fig.add_trace(go.Scatter(name='т2379', x=df['V_DATE'], \n",
        "                         y=df.loc[:, 'т2379']))\n",
        "fig.add_trace(go.Scatter(name='т2380', x=df['V_DATE'], \n",
        "                         y=df.loc[:, 'т2380']))\n",
        "fig.add_trace(go.Scatter(name='т2366', x=df['V_DATE'], \n",
        "                         y=df.loc[:, 'т2266']))\n",
        "fig.add_trace(go.Scatter(name='т2266/2', x=df['V_DATE'],\n",
        "                         y=df.loc[:, 'т2266/2']))\n",
        "fig.add_trace(go.Scatter(name='т2266/3', x=df['V_DATE'], \n",
        "                         y=df.loc[:, 'т2266/3']))\n",
        "fig.add_trace(go.Scatter(name='т2266/4', x=df['V_DATE'], \n",
        "                         y=df.loc[:, 'т2266/4']))\n",
        "fig.add_trace(go.Scatter(name='т2270', x=df['V_DATE'], \n",
        "                         y=df.loc[:, 'т2270']))\n",
        "fig.add_trace(go.Scatter(name='т2270/3', x=df['V_DATE'], \n",
        "                         y=df.loc[:, 'т2270/3']))\n",
        "fig.add_trace(go.Scatter(name='техн104', x=df['V_DATE'], \n",
        "                         y=df.loc[:, 'техн104']))\n",
        "fig.add_trace(go.Scatter(name='т2263', x=df['V_DATE'], \n",
        "                         y=df.loc[:, 'т2263']))\n",
        "\n",
        "fig.update_layout(width=1600, height=1200, \n",
        "                  title_text=\"Data visualization with outliers\")\n",
        "# Find it in the html folder\n",
        "fig.write_html(\"html/Data_with_outliers.html\") "
      ],
      "execution_count": null,
      "outputs": []
    },
    {
      "cell_type": "markdown",
      "metadata": {
        "id": "LUFiLwB-qeCW"
      },
      "source": [
        "![Data_with_outliers](https://github.com/aleksandryessin/Regression_test_task/blob/main/images/outliers.png?raw=true)"
      ]
    },
    {
      "cell_type": "markdown",
      "metadata": {
        "id": "9e0YtFZXiYX0"
      },
      "source": [
        "### 4.1.2 Data without outliers"
      ]
    },
    {
      "cell_type": "code",
      "metadata": {
        "id": "zQcIRg91bscG"
      },
      "source": [
        "# Data visualization without outliers\n",
        "fig = go.Figure()\n",
        "fig.add_trace(go.Scatter(name='т2267', x=df_o['V_DATE'], \n",
        "                         y=df_o.loc[:, 'т2267']))\n",
        "fig.add_trace(go.Scatter(name='т2268', x=df_o['V_DATE'], \n",
        "                         y=df_o.loc[:, 'т2268']))\n",
        "fig.add_trace(go.Scatter(name='т2379', x=df_o['V_DATE'], \n",
        "                         y=df_o.loc[:, 'т2379']))\n",
        "fig.add_trace(go.Scatter(name='т2380', x=df_o['V_DATE'], \n",
        "                         y=df_o.loc[:, 'т2380']))\n",
        "fig.add_trace(go.Scatter(name='т2366', x=df_o['V_DATE'], \n",
        "                         y=df_o.loc[:, 'т2266']))\n",
        "fig.add_trace(go.Scatter(name='т2266/2', x=df_o['V_DATE'], \n",
        "                         y=df_o.loc[:, 'т2266/2']))\n",
        "fig.add_trace(go.Scatter(name='т2266/3', x=df_o['V_DATE'], \n",
        "                         y=df_o.loc[:, 'т2266/3']))\n",
        "fig.add_trace(go.Scatter(name='т2266/4', x=df_o['V_DATE'], \n",
        "                         y=df_o.loc[:, 'т2266/4']))\n",
        "fig.add_trace(go.Scatter(name='т2270', x=df_o['V_DATE'], \n",
        "                         y=df_o.loc[:, 'т2270']))\n",
        "fig.add_trace(go.Scatter(name='т2270/3', x=df_o['V_DATE'], \n",
        "                         y=df_o.loc[:, 'т2270/3']))\n",
        "fig.add_trace(go.Scatter(name='техн104', x=df_o['V_DATE'], \n",
        "                         y=df_o.loc[:, 'техн104']))\n",
        "fig.add_trace(go.Scatter(name='т2263', x=df_o['V_DATE'], \n",
        "                         y=df_o.loc[:, 'т2263']))\n",
        "\n",
        "fig.update_layout(width=1600, height=1200, \n",
        "                  title_text=\"Data visualization without outliers\")\n",
        "# Find it in the html folder\n",
        "fig.write_html(\"html/Data_without_outliers.html\") "
      ],
      "execution_count": null,
      "outputs": []
    },
    {
      "cell_type": "markdown",
      "metadata": {
        "id": "idALDjYnrhZw"
      },
      "source": [
        "![Data_without_outliers](https://github.com/aleksandryessin/Regression_test_task/blob/main/images/without_outliers.png?raw=true)"
      ]
    },
    {
      "cell_type": "markdown",
      "metadata": {
        "id": "BiN7hmaVh2u8"
      },
      "source": [
        "Here we see considerable differences in data depending on the season. In winter, there is a significant increase in blast furnace gas throughout the station. And in this case, there should be very functional dependencies for the future model. Later we'll define the correlations between values.\n",
        "\n",
        "Next, we're going to use df_o instead of df, because the outliers have been removed. We can compare the scenario with or without outliers on the figures above."
      ]
    },
    {
      "cell_type": "markdown",
      "metadata": {
        "id": "fOhg4-Rfh6_C"
      },
      "source": [
        "## 4.2 Checking normal distribution"
      ]
    },
    {
      "cell_type": "code",
      "metadata": {
        "colab": {
          "base_uri": "https://localhost:8080/",
          "height": 1000
        },
        "id": "PzSJBAwefO47",
        "outputId": "69b3531f-749a-4449-c25d-fef081d673b8"
      },
      "source": [
        "fig = plt.figure(figsize = (15,20))\n",
        "ax = fig.gca()\n",
        "df_o.hist(ax = ax)"
      ],
      "execution_count": null,
      "outputs": [
        {
          "output_type": "stream",
          "text": [
            "/usr/local/lib/python3.7/dist-packages/ipykernel_launcher.py:3: UserWarning:\n",
            "\n",
            "To output multiple subplots, the figure containing the passed axes is being cleared\n",
            "\n"
          ],
          "name": "stderr"
        },
        {
          "output_type": "execute_result",
          "data": {
            "text/plain": [
              "array([[<matplotlib.axes._subplots.AxesSubplot object at 0x7f660a6cfe50>,\n",
              "        <matplotlib.axes._subplots.AxesSubplot object at 0x7f65fa2f7950>,\n",
              "        <matplotlib.axes._subplots.AxesSubplot object at 0x7f660194ab10>],\n",
              "       [<matplotlib.axes._subplots.AxesSubplot object at 0x7f65f50faa10>,\n",
              "        <matplotlib.axes._subplots.AxesSubplot object at 0x7f65f9cda990>,\n",
              "        <matplotlib.axes._subplots.AxesSubplot object at 0x7f65f89a0f10>],\n",
              "       [<matplotlib.axes._subplots.AxesSubplot object at 0x7f65fcab1550>,\n",
              "        <matplotlib.axes._subplots.AxesSubplot object at 0x7f65fc8dea10>,\n",
              "        <matplotlib.axes._subplots.AxesSubplot object at 0x7f65fc8dea50>],\n",
              "       [<matplotlib.axes._subplots.AxesSubplot object at 0x7f65f86d0110>,\n",
              "        <matplotlib.axes._subplots.AxesSubplot object at 0x7f65f9646b90>,\n",
              "        <matplotlib.axes._subplots.AxesSubplot object at 0x7f65f9875190>]],\n",
              "      dtype=object)"
            ]
          },
          "metadata": {
            "tags": []
          },
          "execution_count": 21
        },
        {
          "output_type": "display_data",
          "data": {
            "image/png": "[encoded data removed]",
            "text/plain": [
              "<Figure size 1080x1440 with 12 Axes>"
            ]
          },
          "metadata": {
            "tags": [],
            "needs_background": "light"
          }
        }
      ]
    },
    {
      "cell_type": "markdown",
      "metadata": {
        "id": "FN2R_0aMihK6"
      },
      "source": [
        "As we may see, the data is close to normal distribution."
      ]
    },
    {
      "cell_type": "markdown",
      "metadata": {
        "id": "ztP8OpVpiiOr"
      },
      "source": [
        "## 4.3 Finding dependencies"
      ]
    },
    {
      "cell_type": "code",
      "metadata": {
        "colab": {
          "base_uri": "https://localhost:8080/",
          "height": 417
        },
        "id": "qk2vIjI0idhJ",
        "outputId": "2f3c8769-cbac-4cb2-8cfd-2b9fceb8f744"
      },
      "source": [
        "def histogram_intersection(a, b):\n",
        "    v = np.minimum(a, b).sum().round(decimals=1)\n",
        "    return v\n",
        "correlations = df_o.corr() \n",
        "correlations"
      ],
      "execution_count": null,
      "outputs": [
        {
          "output_type": "execute_result",
          "data": {
            "text/html": [
              "<div>\n",
              "<style scoped>\n",
              "    .dataframe tbody tr th:only-of-type {\n",
              "        vertical-align: middle;\n",
              "    }\n",
              "\n",
              "    .dataframe tbody tr th {\n",
              "        vertical-align: top;\n",
              "    }\n",
              "\n",
              "    .dataframe thead th {\n",
              "        text-align: right;\n",
              "    }\n",
              "</style>\n",
              "<table border=\"1\" class=\"dataframe\">\n",
              "  <thead>\n",
              "    <tr style=\"text-align: right;\">\n",
              "      <th></th>\n",
              "      <th>т2267</th>\n",
              "      <th>т2268</th>\n",
              "      <th>т2379</th>\n",
              "      <th>т2380</th>\n",
              "      <th>т2266</th>\n",
              "      <th>т2266/2</th>\n",
              "      <th>т2266/3</th>\n",
              "      <th>т2266/4</th>\n",
              "      <th>т2270</th>\n",
              "      <th>т2270/3</th>\n",
              "      <th>техн104</th>\n",
              "      <th>т2263</th>\n",
              "    </tr>\n",
              "  </thead>\n",
              "  <tbody>\n",
              "    <tr>\n",
              "      <th>т2267</th>\n",
              "      <td>1.000000</td>\n",
              "      <td>0.959150</td>\n",
              "      <td>-0.249139</td>\n",
              "      <td>-0.238390</td>\n",
              "      <td>0.523585</td>\n",
              "      <td>0.153380</td>\n",
              "      <td>-0.394177</td>\n",
              "      <td>0.038790</td>\n",
              "      <td>-0.300808</td>\n",
              "      <td>-0.490041</td>\n",
              "      <td>-0.487521</td>\n",
              "      <td>0.495149</td>\n",
              "    </tr>\n",
              "    <tr>\n",
              "      <th>т2268</th>\n",
              "      <td>0.959150</td>\n",
              "      <td>1.000000</td>\n",
              "      <td>-0.220172</td>\n",
              "      <td>-0.211547</td>\n",
              "      <td>0.538830</td>\n",
              "      <td>0.158081</td>\n",
              "      <td>-0.433678</td>\n",
              "      <td>0.014549</td>\n",
              "      <td>-0.284704</td>\n",
              "      <td>-0.517532</td>\n",
              "      <td>-0.519425</td>\n",
              "      <td>0.485792</td>\n",
              "    </tr>\n",
              "    <tr>\n",
              "      <th>т2379</th>\n",
              "      <td>-0.249139</td>\n",
              "      <td>-0.220172</td>\n",
              "      <td>1.000000</td>\n",
              "      <td>0.996081</td>\n",
              "      <td>0.104147</td>\n",
              "      <td>-0.243509</td>\n",
              "      <td>-0.059574</td>\n",
              "      <td>-0.295248</td>\n",
              "      <td>0.845588</td>\n",
              "      <td>-0.185082</td>\n",
              "      <td>-0.218088</td>\n",
              "      <td>0.284406</td>\n",
              "    </tr>\n",
              "    <tr>\n",
              "      <th>т2380</th>\n",
              "      <td>-0.238390</td>\n",
              "      <td>-0.211547</td>\n",
              "      <td>0.996081</td>\n",
              "      <td>1.000000</td>\n",
              "      <td>0.108331</td>\n",
              "      <td>-0.252571</td>\n",
              "      <td>-0.061379</td>\n",
              "      <td>-0.296595</td>\n",
              "      <td>0.849607</td>\n",
              "      <td>-0.182288</td>\n",
              "      <td>-0.215900</td>\n",
              "      <td>0.294779</td>\n",
              "    </tr>\n",
              "    <tr>\n",
              "      <th>т2266</th>\n",
              "      <td>0.523585</td>\n",
              "      <td>0.538830</td>\n",
              "      <td>0.104147</td>\n",
              "      <td>0.108331</td>\n",
              "      <td>1.000000</td>\n",
              "      <td>-0.022500</td>\n",
              "      <td>-0.633424</td>\n",
              "      <td>0.032034</td>\n",
              "      <td>0.039440</td>\n",
              "      <td>-0.825282</td>\n",
              "      <td>-0.846381</td>\n",
              "      <td>0.523720</td>\n",
              "    </tr>\n",
              "    <tr>\n",
              "      <th>т2266/2</th>\n",
              "      <td>0.153380</td>\n",
              "      <td>0.158081</td>\n",
              "      <td>-0.243509</td>\n",
              "      <td>-0.252571</td>\n",
              "      <td>-0.022500</td>\n",
              "      <td>1.000000</td>\n",
              "      <td>0.202402</td>\n",
              "      <td>0.209925</td>\n",
              "      <td>-0.484491</td>\n",
              "      <td>0.096726</td>\n",
              "      <td>0.098974</td>\n",
              "      <td>0.147736</td>\n",
              "    </tr>\n",
              "    <tr>\n",
              "      <th>т2266/3</th>\n",
              "      <td>-0.394177</td>\n",
              "      <td>-0.433678</td>\n",
              "      <td>-0.059574</td>\n",
              "      <td>-0.061379</td>\n",
              "      <td>-0.633424</td>\n",
              "      <td>0.202402</td>\n",
              "      <td>1.000000</td>\n",
              "      <td>0.118877</td>\n",
              "      <td>-0.058654</td>\n",
              "      <td>0.676025</td>\n",
              "      <td>0.668049</td>\n",
              "      <td>-0.325211</td>\n",
              "    </tr>\n",
              "    <tr>\n",
              "      <th>т2266/4</th>\n",
              "      <td>0.038790</td>\n",
              "      <td>0.014549</td>\n",
              "      <td>-0.295248</td>\n",
              "      <td>-0.296595</td>\n",
              "      <td>0.032034</td>\n",
              "      <td>0.209925</td>\n",
              "      <td>0.118877</td>\n",
              "      <td>1.000000</td>\n",
              "      <td>-0.303732</td>\n",
              "      <td>0.096679</td>\n",
              "      <td>0.109760</td>\n",
              "      <td>0.059638</td>\n",
              "    </tr>\n",
              "    <tr>\n",
              "      <th>т2270</th>\n",
              "      <td>-0.300808</td>\n",
              "      <td>-0.284704</td>\n",
              "      <td>0.845588</td>\n",
              "      <td>0.849607</td>\n",
              "      <td>0.039440</td>\n",
              "      <td>-0.484491</td>\n",
              "      <td>-0.058654</td>\n",
              "      <td>-0.303732</td>\n",
              "      <td>1.000000</td>\n",
              "      <td>-0.106232</td>\n",
              "      <td>-0.134191</td>\n",
              "      <td>0.150278</td>\n",
              "    </tr>\n",
              "    <tr>\n",
              "      <th>т2270/3</th>\n",
              "      <td>-0.490041</td>\n",
              "      <td>-0.517532</td>\n",
              "      <td>-0.185082</td>\n",
              "      <td>-0.182288</td>\n",
              "      <td>-0.825282</td>\n",
              "      <td>0.096726</td>\n",
              "      <td>0.676025</td>\n",
              "      <td>0.096679</td>\n",
              "      <td>-0.106232</td>\n",
              "      <td>1.000000</td>\n",
              "      <td>0.984508</td>\n",
              "      <td>-0.487687</td>\n",
              "    </tr>\n",
              "    <tr>\n",
              "      <th>техн104</th>\n",
              "      <td>-0.487521</td>\n",
              "      <td>-0.519425</td>\n",
              "      <td>-0.218088</td>\n",
              "      <td>-0.215900</td>\n",
              "      <td>-0.846381</td>\n",
              "      <td>0.098974</td>\n",
              "      <td>0.668049</td>\n",
              "      <td>0.109760</td>\n",
              "      <td>-0.134191</td>\n",
              "      <td>0.984508</td>\n",
              "      <td>1.000000</td>\n",
              "      <td>-0.501131</td>\n",
              "    </tr>\n",
              "    <tr>\n",
              "      <th>т2263</th>\n",
              "      <td>0.495149</td>\n",
              "      <td>0.485792</td>\n",
              "      <td>0.284406</td>\n",
              "      <td>0.294779</td>\n",
              "      <td>0.523720</td>\n",
              "      <td>0.147736</td>\n",
              "      <td>-0.325211</td>\n",
              "      <td>0.059638</td>\n",
              "      <td>0.150278</td>\n",
              "      <td>-0.487687</td>\n",
              "      <td>-0.501131</td>\n",
              "      <td>1.000000</td>\n",
              "    </tr>\n",
              "  </tbody>\n",
              "</table>\n",
              "</div>"
            ],
            "text/plain": [
              "            т2267     т2268     т2379  ...   т2270/3   техн104     т2263\n",
              "т2267    1.000000  0.959150 -0.249139  ... -0.490041 -0.487521  0.495149\n",
              "т2268    0.959150  1.000000 -0.220172  ... -0.517532 -0.519425  0.485792\n",
              "т2379   -0.249139 -0.220172  1.000000  ... -0.185082 -0.218088  0.284406\n",
              "т2380   -0.238390 -0.211547  0.996081  ... -0.182288 -0.215900  0.294779\n",
              "т2266    0.523585  0.538830  0.104147  ... -0.825282 -0.846381  0.523720\n",
              "т2266/2  0.153380  0.158081 -0.243509  ...  0.096726  0.098974  0.147736\n",
              "т2266/3 -0.394177 -0.433678 -0.059574  ...  0.676025  0.668049 -0.325211\n",
              "т2266/4  0.038790  0.014549 -0.295248  ...  0.096679  0.109760  0.059638\n",
              "т2270   -0.300808 -0.284704  0.845588  ... -0.106232 -0.134191  0.150278\n",
              "т2270/3 -0.490041 -0.517532 -0.185082  ...  1.000000  0.984508 -0.487687\n",
              "техн104 -0.487521 -0.519425 -0.218088  ...  0.984508  1.000000 -0.501131\n",
              "т2263    0.495149  0.485792  0.284406  ... -0.487687 -0.501131  1.000000\n",
              "\n",
              "[12 rows x 12 columns]"
            ]
          },
          "metadata": {
            "tags": []
          },
          "execution_count": 22
        }
      ]
    },
    {
      "cell_type": "markdown",
      "metadata": {
        "id": "QQsdiKwUipP_"
      },
      "source": [
        "We may observe that for our Y = т2263 there are correlations almost with all features, excepting т2266/3. But based on physics, I can conclude that we may leave this feature too."
      ]
    },
    {
      "cell_type": "code",
      "metadata": {
        "colab": {
          "base_uri": "https://localhost:8080/"
        },
        "id": "tIUlAYdminHd",
        "outputId": "69803de7-11c3-4f7f-f854-022fea0a85d7"
      },
      "source": [
        "# Find all correlations with our target and sort them:\n",
        "correlations_data = df_o.corr()['т2263'].sort_values()\n",
        "correlations_data"
      ],
      "execution_count": null,
      "outputs": [
        {
          "output_type": "execute_result",
          "data": {
            "text/plain": [
              "техн104   -0.501131\n",
              "т2270/3   -0.487687\n",
              "т2266/3   -0.325211\n",
              "т2266/4    0.059638\n",
              "т2266/2    0.147736\n",
              "т2270      0.150278\n",
              "т2379      0.284406\n",
              "т2380      0.294779\n",
              "т2268      0.485792\n",
              "т2267      0.495149\n",
              "т2266      0.523720\n",
              "т2263      1.000000\n",
              "Name: т2263, dtype: float64"
            ]
          },
          "metadata": {
            "tags": []
          },
          "execution_count": 23
        }
      ]
    },
    {
      "cell_type": "markdown",
      "metadata": {
        "id": "xP3mTR6UiwMZ"
      },
      "source": [
        "## 4.4 Stationarity"
      ]
    },
    {
      "cell_type": "markdown",
      "metadata": {
        "id": "Ddii2ASViz-B"
      },
      "source": [
        "\n",
        "An essential concept in time series analysis is the concept of stationarity. Stationarity or constancy is the property of a process not to change its characteristics over time. In that case, we should use the Dickey-Fuller test.\n",
        "\n",
        "The data seems to be stationary (except т2266 - here we have a trend), but let's check it:"
      ]
    },
    {
      "cell_type": "code",
      "metadata": {
        "id": "nEPs1TYuit8q"
      },
      "source": [
        "data_2263 = df_o.loc[:, 'т2263'].to_numpy()"
      ],
      "execution_count": null,
      "outputs": []
    },
    {
      "cell_type": "code",
      "metadata": {
        "colab": {
          "base_uri": "https://localhost:8080/"
        },
        "id": "xnIrrLzZi6wr",
        "outputId": "cb5c5127-fb84-4d15-fd75-dd1170900d26"
      },
      "source": [
        "data_2263.shape"
      ],
      "execution_count": null,
      "outputs": [
        {
          "output_type": "execute_result",
          "data": {
            "text/plain": [
              "(241139,)"
            ]
          },
          "metadata": {
            "tags": []
          },
          "execution_count": 25
        }
      ]
    },
    {
      "cell_type": "markdown",
      "metadata": {
        "id": "UVlwoDJ9i-N9"
      },
      "source": [
        "**Stationary analysis for several feature and the target**"
      ]
    },
    {
      "cell_type": "code",
      "metadata": {
        "id": "4TaIKazYi8An"
      },
      "source": [
        "result1 = adfuller(data_2263)"
      ],
      "execution_count": null,
      "outputs": []
    },
    {
      "cell_type": "code",
      "metadata": {
        "colab": {
          "base_uri": "https://localhost:8080/"
        },
        "id": "9vICQbZMjBGs",
        "outputId": "142bbe7c-4067-49f2-fc2f-c71006a781f9"
      },
      "source": [
        "print('ADF Statistic: %f' % result1[0])\n",
        "print('p-value: %f' % result1[1])\n",
        "print('Critical Values:')\n",
        "for key, value in result1[4].items():\n",
        "    print('\\t%s: %.3f' % (key, value))"
      ],
      "execution_count": null,
      "outputs": [
        {
          "output_type": "stream",
          "text": [
            "ADF Statistic: -10.251940\n",
            "p-value: 0.000000\n",
            "Critical Values:\n",
            "\t1%: -3.430\n",
            "\t5%: -2.862\n",
            "\t10%: -2.567\n"
          ],
          "name": "stdout"
        }
      ]
    },
    {
      "cell_type": "code",
      "metadata": {
        "colab": {
          "base_uri": "https://localhost:8080/"
        },
        "id": "AhyL6TDZjDGc",
        "outputId": "73a037eb-47ce-447a-9edb-9e6f39cb256f"
      },
      "source": [
        "data_2268 = df_o.loc[:, 'т2266'].to_numpy()\n",
        "data_2268.shape"
      ],
      "execution_count": null,
      "outputs": [
        {
          "output_type": "execute_result",
          "data": {
            "text/plain": [
              "(241139,)"
            ]
          },
          "metadata": {
            "tags": []
          },
          "execution_count": 28
        }
      ]
    },
    {
      "cell_type": "code",
      "metadata": {
        "id": "smJv-SN4jGw-"
      },
      "source": [
        "result2 = adfuller(data_2268)"
      ],
      "execution_count": null,
      "outputs": []
    },
    {
      "cell_type": "code",
      "metadata": {
        "colab": {
          "base_uri": "https://localhost:8080/"
        },
        "id": "nUedSZVOjJAl",
        "outputId": "74b3dfe6-e834-4e86-85fc-c757c481718d"
      },
      "source": [
        "print('ADF Statistic: %f' % result2[0])\n",
        "print('p-value: %f' % result2[1])\n",
        "print('Critical Values:')\n",
        "for key, value in result2[4].items():\n",
        "    print('\\t%s: %.3f' % (key, value))"
      ],
      "execution_count": null,
      "outputs": [
        {
          "output_type": "stream",
          "text": [
            "ADF Statistic: -4.564766\n",
            "p-value: 0.000150\n",
            "Critical Values:\n",
            "\t1%: -3.430\n",
            "\t5%: -2.862\n",
            "\t10%: -2.567\n"
          ],
          "name": "stdout"
        }
      ]
    },
    {
      "cell_type": "markdown",
      "metadata": {
        "id": "jImzt546jOw_"
      },
      "source": [
        "As we see, the p-value is close to zero, which is mean that the data is stationary."
      ]
    },
    {
      "cell_type": "markdown",
      "metadata": {
        "id": "1d4v51zGjQTu"
      },
      "source": [
        "Let's check now the т2266:"
      ]
    },
    {
      "cell_type": "code",
      "metadata": {
        "id": "Iiu-I3rJjK0h"
      },
      "source": [
        "data_2266 = df_o.loc[:, 'т2266'].to_numpy()"
      ],
      "execution_count": null,
      "outputs": []
    },
    {
      "cell_type": "code",
      "metadata": {
        "colab": {
          "base_uri": "https://localhost:8080/"
        },
        "id": "2ZA0MPFAjShV",
        "outputId": "c063ecef-c11c-4f6e-c2d6-8d4cfe3fb0f2"
      },
      "source": [
        "data_2266.shape"
      ],
      "execution_count": null,
      "outputs": [
        {
          "output_type": "execute_result",
          "data": {
            "text/plain": [
              "(241139,)"
            ]
          },
          "metadata": {
            "tags": []
          },
          "execution_count": 32
        }
      ]
    },
    {
      "cell_type": "code",
      "metadata": {
        "id": "ABlm1qonjUTn"
      },
      "source": [
        "result3 = adfuller(data_2266)"
      ],
      "execution_count": null,
      "outputs": []
    },
    {
      "cell_type": "code",
      "metadata": {
        "colab": {
          "base_uri": "https://localhost:8080/"
        },
        "id": "aA-RoGuwjVNU",
        "outputId": "44f240b9-2a42-48ff-e8c8-de260f6a484e"
      },
      "source": [
        "print('ADF Statistic: %f' % result3[0])\n",
        "print('p-value: %f' % result3[1])\n",
        "print('Critical Values:')\n",
        "for key, value in result3[4].items():\n",
        "    print('\\t%s: %.3f' % (key, value))"
      ],
      "execution_count": null,
      "outputs": [
        {
          "output_type": "stream",
          "text": [
            "ADF Statistic: -4.564766\n",
            "p-value: 0.000150\n",
            "Critical Values:\n",
            "\t1%: -3.430\n",
            "\t5%: -2.862\n",
            "\t10%: -2.567\n"
          ],
          "name": "stdout"
        }
      ]
    },
    {
      "cell_type": "markdown",
      "metadata": {
        "id": "P2vjpr19jaIy"
      },
      "source": [
        "\n",
        "The p-value of т2266 is also almost equal to zero, which means its stationarity."
      ]
    },
    {
      "cell_type": "markdown",
      "metadata": {
        "id": "LPdb8M4GjcZw"
      },
      "source": [
        "# 5 Building machine learning models"
      ]
    },
    {
      "cell_type": "markdown",
      "metadata": {
        "id": "YLI9q5RujesM"
      },
      "source": [
        "## 5.1 Train-Test Splitting"
      ]
    },
    {
      "cell_type": "code",
      "metadata": {
        "colab": {
          "base_uri": "https://localhost:8080/",
          "height": 416
        },
        "id": "HDeKpLz7jXXv",
        "outputId": "4fd05b4b-1575-4287-c928-0ae06464dd4e"
      },
      "source": [
        "# Features\n",
        "X = df_o.loc[:, 'т2267':'техн104'] \n",
        "X"
      ],
      "execution_count": null,
      "outputs": [
        {
          "output_type": "execute_result",
          "data": {
            "text/html": [
              "<div>\n",
              "<style scoped>\n",
              "    .dataframe tbody tr th:only-of-type {\n",
              "        vertical-align: middle;\n",
              "    }\n",
              "\n",
              "    .dataframe tbody tr th {\n",
              "        vertical-align: top;\n",
              "    }\n",
              "\n",
              "    .dataframe thead th {\n",
              "        text-align: right;\n",
              "    }\n",
              "</style>\n",
              "<table border=\"1\" class=\"dataframe\">\n",
              "  <thead>\n",
              "    <tr style=\"text-align: right;\">\n",
              "      <th></th>\n",
              "      <th>т2267</th>\n",
              "      <th>т2268</th>\n",
              "      <th>т2379</th>\n",
              "      <th>т2380</th>\n",
              "      <th>т2266</th>\n",
              "      <th>т2266/2</th>\n",
              "      <th>т2266/3</th>\n",
              "      <th>т2266/4</th>\n",
              "      <th>т2270</th>\n",
              "      <th>т2270/3</th>\n",
              "      <th>техн104</th>\n",
              "    </tr>\n",
              "  </thead>\n",
              "  <tbody>\n",
              "    <tr>\n",
              "      <th>0</th>\n",
              "      <td>77915.974685</td>\n",
              "      <td>77889.115676</td>\n",
              "      <td>602.987379</td>\n",
              "      <td>0.000000</td>\n",
              "      <td>379396.596650</td>\n",
              "      <td>1815.736572</td>\n",
              "      <td>24.264420</td>\n",
              "      <td>896.875000</td>\n",
              "      <td>4324.767273</td>\n",
              "      <td>15.200000</td>\n",
              "      <td>15.000000</td>\n",
              "    </tr>\n",
              "    <tr>\n",
              "      <th>1</th>\n",
              "      <td>78294.718755</td>\n",
              "      <td>78271.682542</td>\n",
              "      <td>600.824843</td>\n",
              "      <td>0.000000</td>\n",
              "      <td>338987.432843</td>\n",
              "      <td>1875.114014</td>\n",
              "      <td>24.200001</td>\n",
              "      <td>897.693542</td>\n",
              "      <td>4241.105630</td>\n",
              "      <td>15.200000</td>\n",
              "      <td>14.922112</td>\n",
              "    </tr>\n",
              "    <tr>\n",
              "      <th>2</th>\n",
              "      <td>78007.556062</td>\n",
              "      <td>77979.785548</td>\n",
              "      <td>602.037766</td>\n",
              "      <td>0.000000</td>\n",
              "      <td>328669.419080</td>\n",
              "      <td>1827.952393</td>\n",
              "      <td>24.200001</td>\n",
              "      <td>896.916321</td>\n",
              "      <td>4186.155354</td>\n",
              "      <td>15.200000</td>\n",
              "      <td>14.900010</td>\n",
              "    </tr>\n",
              "    <tr>\n",
              "      <th>3</th>\n",
              "      <td>78255.374891</td>\n",
              "      <td>78243.088911</td>\n",
              "      <td>603.667469</td>\n",
              "      <td>0.000000</td>\n",
              "      <td>366827.243284</td>\n",
              "      <td>1867.092773</td>\n",
              "      <td>24.200001</td>\n",
              "      <td>896.875000</td>\n",
              "      <td>4378.600955</td>\n",
              "      <td>15.200000</td>\n",
              "      <td>14.900010</td>\n",
              "    </tr>\n",
              "    <tr>\n",
              "      <th>4</th>\n",
              "      <td>78474.798964</td>\n",
              "      <td>78439.012732</td>\n",
              "      <td>602.012647</td>\n",
              "      <td>0.000000</td>\n",
              "      <td>422759.212899</td>\n",
              "      <td>1898.480225</td>\n",
              "      <td>24.245493</td>\n",
              "      <td>896.234375</td>\n",
              "      <td>4155.943112</td>\n",
              "      <td>15.200000</td>\n",
              "      <td>14.825890</td>\n",
              "    </tr>\n",
              "    <tr>\n",
              "      <th>...</th>\n",
              "      <td>...</td>\n",
              "      <td>...</td>\n",
              "      <td>...</td>\n",
              "      <td>...</td>\n",
              "      <td>...</td>\n",
              "      <td>...</td>\n",
              "      <td>...</td>\n",
              "      <td>...</td>\n",
              "      <td>...</td>\n",
              "      <td>...</td>\n",
              "      <td>...</td>\n",
              "    </tr>\n",
              "    <tr>\n",
              "      <th>262556</th>\n",
              "      <td>85930.648875</td>\n",
              "      <td>78598.570272</td>\n",
              "      <td>6026.030281</td>\n",
              "      <td>6001.688268</td>\n",
              "      <td>825982.568036</td>\n",
              "      <td>1896.046265</td>\n",
              "      <td>20.100010</td>\n",
              "      <td>866.703674</td>\n",
              "      <td>22540.618260</td>\n",
              "      <td>-1.699997</td>\n",
              "      <td>-2.500000</td>\n",
              "    </tr>\n",
              "    <tr>\n",
              "      <th>262557</th>\n",
              "      <td>85976.682631</td>\n",
              "      <td>80948.197718</td>\n",
              "      <td>6010.062373</td>\n",
              "      <td>5987.957000</td>\n",
              "      <td>826417.173541</td>\n",
              "      <td>1902.887085</td>\n",
              "      <td>20.100010</td>\n",
              "      <td>866.863220</td>\n",
              "      <td>22555.051800</td>\n",
              "      <td>-1.699997</td>\n",
              "      <td>-2.500000</td>\n",
              "    </tr>\n",
              "    <tr>\n",
              "      <th>262558</th>\n",
              "      <td>85929.814710</td>\n",
              "      <td>80387.705109</td>\n",
              "      <td>5952.545727</td>\n",
              "      <td>5926.435257</td>\n",
              "      <td>825907.614717</td>\n",
              "      <td>1895.516846</td>\n",
              "      <td>20.100019</td>\n",
              "      <td>865.954102</td>\n",
              "      <td>22725.313998</td>\n",
              "      <td>-1.699997</td>\n",
              "      <td>-2.500000</td>\n",
              "    </tr>\n",
              "    <tr>\n",
              "      <th>262559</th>\n",
              "      <td>85959.341942</td>\n",
              "      <td>82035.529074</td>\n",
              "      <td>5759.869833</td>\n",
              "      <td>5733.626435</td>\n",
              "      <td>826243.225273</td>\n",
              "      <td>1899.486328</td>\n",
              "      <td>20.100031</td>\n",
              "      <td>863.094360</td>\n",
              "      <td>22408.644789</td>\n",
              "      <td>-1.699997</td>\n",
              "      <td>-2.500000</td>\n",
              "    </tr>\n",
              "    <tr>\n",
              "      <th>262560</th>\n",
              "      <td>86169.949278</td>\n",
              "      <td>83271.954999</td>\n",
              "      <td>5591.292193</td>\n",
              "      <td>5583.059647</td>\n",
              "      <td>828064.909118</td>\n",
              "      <td>1921.149170</td>\n",
              "      <td>19.974314</td>\n",
              "      <td>863.610291</td>\n",
              "      <td>22595.175967</td>\n",
              "      <td>-1.699997</td>\n",
              "      <td>-2.500000</td>\n",
              "    </tr>\n",
              "  </tbody>\n",
              "</table>\n",
              "<p>241139 rows × 11 columns</p>\n",
              "</div>"
            ],
            "text/plain": [
              "               т2267         т2268  ...    т2270/3    техн104\n",
              "0       77915.974685  77889.115676  ...  15.200000  15.000000\n",
              "1       78294.718755  78271.682542  ...  15.200000  14.922112\n",
              "2       78007.556062  77979.785548  ...  15.200000  14.900010\n",
              "3       78255.374891  78243.088911  ...  15.200000  14.900010\n",
              "4       78474.798964  78439.012732  ...  15.200000  14.825890\n",
              "...              ...           ...  ...        ...        ...\n",
              "262556  85930.648875  78598.570272  ...  -1.699997  -2.500000\n",
              "262557  85976.682631  80948.197718  ...  -1.699997  -2.500000\n",
              "262558  85929.814710  80387.705109  ...  -1.699997  -2.500000\n",
              "262559  85959.341942  82035.529074  ...  -1.699997  -2.500000\n",
              "262560  86169.949278  83271.954999  ...  -1.699997  -2.500000\n",
              "\n",
              "[241139 rows x 11 columns]"
            ]
          },
          "metadata": {
            "tags": []
          },
          "execution_count": 35
        }
      ]
    },
    {
      "cell_type": "code",
      "metadata": {
        "colab": {
          "base_uri": "https://localhost:8080/"
        },
        "id": "IVs1mMR1jpdn",
        "outputId": "eb3a8386-3c7f-414b-e283-1eb911ffb19a"
      },
      "source": [
        "# Target\n",
        "Y = df_o.loc[:, 'т2263'] \n",
        "Y"
      ],
      "execution_count": null,
      "outputs": [
        {
          "output_type": "execute_result",
          "data": {
            "text/plain": [
              "0         240.600980\n",
              "1         241.615763\n",
              "2         243.259191\n",
              "3         243.322008\n",
              "4         243.848389\n",
              "             ...    \n",
              "262556    342.606334\n",
              "262557    341.959865\n",
              "262558    341.420256\n",
              "262559    341.231740\n",
              "262560    341.299132\n",
              "Name: т2263, Length: 241139, dtype: float64"
            ]
          },
          "metadata": {
            "tags": []
          },
          "execution_count": 36
        }
      ]
    },
    {
      "cell_type": "code",
      "metadata": {
        "id": "dE4_jtC8jsN5"
      },
      "source": [
        "# Splitting into Train-Test parts \n",
        "X_train = X[:int(X.shape[0]*0.7)]\n",
        "X_test = X[int(X.shape[0]*0.7):]\n",
        "y_train = Y[:int(X.shape[0]*0.7)]\n",
        "y_test = Y[int(X.shape[0]*0.7):]"
      ],
      "execution_count": null,
      "outputs": []
    },
    {
      "cell_type": "code",
      "metadata": {
        "id": "ggaGG_qCjtgL"
      },
      "source": [
        "# Preparing the metrics\n",
        "mse = mean_squared_error\n",
        "mae = mean_absolute_error\n",
        "mape = mean_absolute_percentage_error"
      ],
      "execution_count": null,
      "outputs": []
    },
    {
      "cell_type": "markdown",
      "metadata": {
        "id": "lzb_CY-Kjxk9"
      },
      "source": [
        "## 5.2 XGBRegressor"
      ]
    },
    {
      "cell_type": "markdown",
      "metadata": {
        "id": "UcHouBJtoPHj"
      },
      "source": [
        "This method is perfect for large data."
      ]
    },
    {
      "cell_type": "code",
      "metadata": {
        "id": "biPJSik9jvQq"
      },
      "source": [
        "xgb = XGBRegressor(random_state=60)"
      ],
      "execution_count": null,
      "outputs": []
    },
    {
      "cell_type": "code",
      "metadata": {
        "colab": {
          "base_uri": "https://localhost:8080/"
        },
        "id": "vaGJ0Mt7j4Wy",
        "outputId": "2a6f7bd2-865b-43b7-a8db-a2cb1d52cdd7"
      },
      "source": [
        "xgb.fit(X_train, y_train)"
      ],
      "execution_count": null,
      "outputs": [
        {
          "output_type": "stream",
          "text": [
            "[11:23:21] WARNING: /workspace/src/objective/regression_obj.cu:152: reg:linear is now deprecated in favor of reg:squarederror.\n"
          ],
          "name": "stdout"
        },
        {
          "output_type": "execute_result",
          "data": {
            "text/plain": [
              "XGBRegressor(base_score=0.5, booster='gbtree', colsample_bylevel=1,\n",
              "             colsample_bynode=1, colsample_bytree=1, gamma=0,\n",
              "             importance_type='gain', learning_rate=0.1, max_delta_step=0,\n",
              "             max_depth=3, min_child_weight=1, missing=None, n_estimators=100,\n",
              "             n_jobs=1, nthread=None, objective='reg:linear', random_state=60,\n",
              "             reg_alpha=0, reg_lambda=1, scale_pos_weight=1, seed=None,\n",
              "             silent=None, subsample=1, verbosity=1)"
            ]
          },
          "metadata": {
            "tags": []
          },
          "execution_count": 40
        }
      ]
    },
    {
      "cell_type": "code",
      "metadata": {
        "id": "e7PaoeWAj5Y-"
      },
      "source": [
        "pred = xgb.predict(X_test)"
      ],
      "execution_count": null,
      "outputs": []
    },
    {
      "cell_type": "code",
      "metadata": {
        "colab": {
          "base_uri": "https://localhost:8080/"
        },
        "id": "wjmhYl-Fj6Z_",
        "outputId": "a19326bd-0d6f-4dc5-c80b-475d0c52ebc4"
      },
      "source": [
        "# Put the results in the table\n",
        "\n",
        "th = ['Metrics: ', 'Mean squared error', 'Mean absolute error', \n",
        "      'Mean absolute percentage error']\n",
        "td = ['Results: ', str(round(mse(pred, y_test), 2)), \n",
        "      str(round(mae(pred, y_test), 2)), str(round(mape(pred, y_test), 2))]\n",
        "\n",
        "table_columns = len(th) \n",
        "table = PrettyTable(th) \n",
        "td_data = td[:]\n",
        "\n",
        "while td_data:\n",
        "    table.add_row(td_data[:table_columns])\n",
        "    td_data = td_data[table_columns:]\n",
        "\n",
        "print(table)"
      ],
      "execution_count": null,
      "outputs": [
        {
          "output_type": "stream",
          "text": [
            "+-----------+--------------------+---------------------+--------------------------------+\n",
            "| Metrics:  | Mean squared error | Mean absolute error | Mean absolute percentage error |\n",
            "+-----------+--------------------+---------------------+--------------------------------+\n",
            "| Results:  |       366.68       |        15.22        |              5.08              |\n",
            "+-----------+--------------------+---------------------+--------------------------------+\n"
          ],
          "name": "stdout"
        }
      ]
    },
    {
      "cell_type": "markdown",
      "metadata": {
        "id": "sctz-kgjkCh3"
      },
      "source": [
        "### 5.2.1 Feature importance"
      ]
    },
    {
      "cell_type": "markdown",
      "metadata": {
        "id": "yb0Igd7qkFah"
      },
      "source": [
        "**Feature importance** for XGBoost (it's a very efficient implementation of the stochastic gradient boosting machine learning algorithm):"
      ]
    },
    {
      "cell_type": "code",
      "metadata": {
        "colab": {
          "base_uri": "https://localhost:8080/",
          "height": 512
        },
        "id": "CRRRShNAj_bE",
        "outputId": "6431e47d-9253-4165-9680-65e6011db6b4"
      },
      "source": [
        "feature_importances_xgb = xgb.feature_importances_\n",
        "df_xgb = pd.DataFrame({'XGBoost': feature_importances_xgb}, \n",
        "                      index=columns[1:-1])\n",
        "\n",
        "df_xgb = df_xgb.nsmallest(15, 'XGBoost')\n",
        "ax = df_xgb.plot.barh(figsize=(10,8))\n",
        "ax.set_xlabel('Relative importance')\n",
        "ax.set_title('Feature importance')\n",
        "ax.legend(loc='lower right')\n",
        "plt.style.use('seaborn-whitegrid')\n",
        "plt.show()"
      ],
      "execution_count": null,
      "outputs": [
        {
          "output_type": "display_data",
          "data": {
            "image/png": "[encoded data removed]",
            "text/plain": [
              "<Figure size 720x576 with 1 Axes>"
            ]
          },
          "metadata": {
            "tags": [],
            "needs_background": "light"
          }
        }
      ]
    },
    {
      "cell_type": "markdown",
      "metadata": {
        "id": "KvowmSW8kOnP"
      },
      "source": [
        "There are five of the most important features for XGBRegressor:\n",
        "\n",
        "1. `т2379` - Природный газ на котел №1 справа - расход\n",
        "2. `т2266` - Доменный газ на всю станцию - расход\n",
        "3. `т2266/2` - Доменный газ на всю станцию - давление\n",
        "4. `т2380` - Природный газ на котел №1 слева - расход\n",
        "5. `т2267` - Доменный газ на котел №1 справа - расход\n",
        "\n",
        " But we also should consider the rest because they're also meaningful."
      ]
    },
    {
      "cell_type": "markdown",
      "metadata": {
        "id": "CRiIe7ZKkTKH"
      },
      "source": [
        "### 5.2.2 Visualization for XGB"
      ]
    },
    {
      "cell_type": "markdown",
      "metadata": {
        "id": "6bxap2fRkUfM"
      },
      "source": [
        "The code below constructs a new data frame and consists of the last 72342 points of the initial dataset, predicted and real values of т2263.\n",
        "\n",
        "Later, we'll plot the result on the whole dataset with the best model."
      ]
    },
    {
      "cell_type": "code",
      "metadata": {
        "id": "QeS8qU7TkL_C"
      },
      "source": [
        "# Creating new DataFrame for visualization:\n",
        "time = df.loc[(len(df)-(len(pred))):, 'V_DATE']\n",
        "time_reset = time.reset_index()\n",
        "time = time_reset['V_DATE']\n",
        "df_time = pd.DataFrame(time).copy()\n",
        "df_pred = pd.DataFrame(pred, columns=['Prediction of т2263']).copy()\n",
        "df_real = y_test.reset_index()['т2263']"
      ],
      "execution_count": null,
      "outputs": []
    },
    {
      "cell_type": "code",
      "metadata": {
        "colab": {
          "base_uri": "https://localhost:8080/",
          "height": 416
        },
        "id": "3n7ljamwkYJZ",
        "outputId": "1ba017e9-12ce-4964-dc08-17d139abdef7"
      },
      "source": [
        "# Adding new information to the dataframe\n",
        "\n",
        "df_result = pd.concat([df_time, df_pred, df_real], axis=1)\n",
        "df_result"
      ],
      "execution_count": null,
      "outputs": [
        {
          "output_type": "execute_result",
          "data": {
            "text/html": [
              "<div>\n",
              "<style scoped>\n",
              "    .dataframe tbody tr th:only-of-type {\n",
              "        vertical-align: middle;\n",
              "    }\n",
              "\n",
              "    .dataframe tbody tr th {\n",
              "        vertical-align: top;\n",
              "    }\n",
              "\n",
              "    .dataframe thead th {\n",
              "        text-align: right;\n",
              "    }\n",
              "</style>\n",
              "<table border=\"1\" class=\"dataframe\">\n",
              "  <thead>\n",
              "    <tr style=\"text-align: right;\">\n",
              "      <th></th>\n",
              "      <th>V_DATE</th>\n",
              "      <th>Prediction of т2263</th>\n",
              "      <th>т2263</th>\n",
              "    </tr>\n",
              "  </thead>\n",
              "  <tbody>\n",
              "    <tr>\n",
              "      <th>0</th>\n",
              "      <td>2020-12-11 00:49:00</td>\n",
              "      <td>233.689789</td>\n",
              "      <td>219.038798</td>\n",
              "    </tr>\n",
              "    <tr>\n",
              "      <th>1</th>\n",
              "      <td>2020-12-11 00:50:00</td>\n",
              "      <td>233.689789</td>\n",
              "      <td>222.553487</td>\n",
              "    </tr>\n",
              "    <tr>\n",
              "      <th>2</th>\n",
              "      <td>2020-12-11 00:51:00</td>\n",
              "      <td>228.237778</td>\n",
              "      <td>222.452367</td>\n",
              "    </tr>\n",
              "    <tr>\n",
              "      <th>3</th>\n",
              "      <td>2020-12-11 00:52:00</td>\n",
              "      <td>232.265457</td>\n",
              "      <td>225.528156</td>\n",
              "    </tr>\n",
              "    <tr>\n",
              "      <th>4</th>\n",
              "      <td>2020-12-11 00:53:00</td>\n",
              "      <td>232.265457</td>\n",
              "      <td>227.972322</td>\n",
              "    </tr>\n",
              "    <tr>\n",
              "      <th>...</th>\n",
              "      <td>...</td>\n",
              "      <td>...</td>\n",
              "      <td>...</td>\n",
              "    </tr>\n",
              "    <tr>\n",
              "      <th>72337</th>\n",
              "      <td>2021-01-31 20:55:00</td>\n",
              "      <td>297.013855</td>\n",
              "      <td>342.606334</td>\n",
              "    </tr>\n",
              "    <tr>\n",
              "      <th>72338</th>\n",
              "      <td>2021-01-31 20:56:00</td>\n",
              "      <td>297.013855</td>\n",
              "      <td>341.959865</td>\n",
              "    </tr>\n",
              "    <tr>\n",
              "      <th>72339</th>\n",
              "      <td>2021-01-31 20:57:00</td>\n",
              "      <td>297.013855</td>\n",
              "      <td>341.420256</td>\n",
              "    </tr>\n",
              "    <tr>\n",
              "      <th>72340</th>\n",
              "      <td>2021-01-31 20:58:00</td>\n",
              "      <td>297.013855</td>\n",
              "      <td>341.231740</td>\n",
              "    </tr>\n",
              "    <tr>\n",
              "      <th>72341</th>\n",
              "      <td>2021-01-31 20:59:00</td>\n",
              "      <td>292.852997</td>\n",
              "      <td>341.299132</td>\n",
              "    </tr>\n",
              "  </tbody>\n",
              "</table>\n",
              "<p>72342 rows × 3 columns</p>\n",
              "</div>"
            ],
            "text/plain": [
              "                   V_DATE  Prediction of т2263       т2263\n",
              "0     2020-12-11 00:49:00           233.689789  219.038798\n",
              "1     2020-12-11 00:50:00           233.689789  222.553487\n",
              "2     2020-12-11 00:51:00           228.237778  222.452367\n",
              "3     2020-12-11 00:52:00           232.265457  225.528156\n",
              "4     2020-12-11 00:53:00           232.265457  227.972322\n",
              "...                   ...                  ...         ...\n",
              "72337 2021-01-31 20:55:00           297.013855  342.606334\n",
              "72338 2021-01-31 20:56:00           297.013855  341.959865\n",
              "72339 2021-01-31 20:57:00           297.013855  341.420256\n",
              "72340 2021-01-31 20:58:00           297.013855  341.231740\n",
              "72341 2021-01-31 20:59:00           292.852997  341.299132\n",
              "\n",
              "[72342 rows x 3 columns]"
            ]
          },
          "metadata": {
            "tags": []
          },
          "execution_count": 45
        }
      ]
    },
    {
      "cell_type": "code",
      "metadata": {
        "id": "WYRvG3_BkZ2H"
      },
      "source": [
        "# Creating a list with columns\n",
        "cols = []\n",
        "for column in df_result.columns:\n",
        "    cols.append(column)"
      ],
      "execution_count": null,
      "outputs": []
    },
    {
      "cell_type": "code",
      "metadata": {
        "id": "nMgTd3XBkcve"
      },
      "source": [
        "# Visualizing the data with predictions\n",
        "fig = go.Figure()\n",
        "fig.add_trace(go.Scatter(name='т2263', \n",
        "                         x=df_result['V_DATE'], \n",
        "                         y=df_result.loc[:, 'т2263']))\n",
        "\n",
        "fig.add_trace(go.Scatter(name='Prediction of т2263', \n",
        "                         x=df_result['V_DATE'], \n",
        "                         y=df_result.loc[:, 'Prediction of т2263']))\n",
        "\n",
        "fig.update_layout(width=1600, height=1200, \n",
        "                  title_text=\"XGB result on test part\")\n",
        "# Find it in the html folder\n",
        "fig.write_html(\"html/data_with_predictions.html\") "
      ],
      "execution_count": null,
      "outputs": []
    },
    {
      "cell_type": "markdown",
      "metadata": {
        "id": "XU0EZBuWxy_F"
      },
      "source": [
        "![data_with_predictions](https://github.com/aleksandryessin/Regression_test_task/blob/main/images/XGB.png?raw=true)"
      ]
    },
    {
      "cell_type": "markdown",
      "metadata": {
        "id": "vE3wx7nwkkBB"
      },
      "source": [
        "## 5.3 Comparing ML methods"
      ]
    },
    {
      "cell_type": "code",
      "metadata": {
        "id": "p5G37CgWkgoj"
      },
      "source": [
        "# Function to evaluate models` mse\n",
        "def fit_and_evaluate(model):\n",
        "    \n",
        "    # Train the model\n",
        "    model.fit(X_train, y_train)\n",
        "    \n",
        "    # Make predictions and evalute\n",
        "    model_pred = model.predict(X_test)\n",
        "    model_mse = mse(y_test, model_pred)\n",
        "    \n",
        "    # Return the performance metric\n",
        "    return model_mse"
      ],
      "execution_count": null,
      "outputs": []
    },
    {
      "cell_type": "markdown",
      "metadata": {
        "id": "yFgakEH7kpXK"
      },
      "source": [
        "### 5.3.1 LinearRegression"
      ]
    },
    {
      "cell_type": "code",
      "metadata": {
        "colab": {
          "base_uri": "https://localhost:8080/"
        },
        "id": "LVjZ2hvUknwi",
        "outputId": "96e52e5b-e454-4065-e2c0-b2c753c22e4b"
      },
      "source": [
        "lr = LinearRegression()\n",
        "lr_mse = fit_and_evaluate(lr)\n",
        "\n",
        "print('Linear Regression Performance on the test set: MSE = %0.4f' % lr_mse)"
      ],
      "execution_count": null,
      "outputs": [
        {
          "output_type": "stream",
          "text": [
            "Linear Regression Performance on the test set: MSE = 879.8639\n"
          ],
          "name": "stdout"
        }
      ]
    },
    {
      "cell_type": "markdown",
      "metadata": {
        "id": "IWo9C3meYEks"
      },
      "source": [
        "### 5.3.2 RandomForestRegressor "
      ]
    },
    {
      "cell_type": "code",
      "metadata": {
        "id": "0U_6GljLktze",
        "colab": {
          "base_uri": "https://localhost:8080/"
        },
        "outputId": "53cbaf22-f4cb-4dc0-d62f-12cda23813b7"
      },
      "source": [
        "random_forest = RandomForestRegressor(random_state=60)\n",
        "random_forest_mse = fit_and_evaluate(random_forest)\n",
        "\n",
        "print('Random Forest Regression Performance on the test set: MSE = %0.4f' % random_forest_mse)"
      ],
      "execution_count": null,
      "outputs": [
        {
          "output_type": "stream",
          "text": [
            "Random Forest Regression Performance on the test set: MSE = 673.7221\n"
          ],
          "name": "stdout"
        }
      ]
    },
    {
      "cell_type": "markdown",
      "metadata": {
        "id": "FUHxtZFyYPoB"
      },
      "source": [
        "### 5.3.3 GradientBoostingRegressor"
      ]
    },
    {
      "cell_type": "code",
      "metadata": {
        "colab": {
          "base_uri": "https://localhost:8080/"
        },
        "id": "8Ag0N-6_YOmR",
        "outputId": "0ddc281d-d61b-4765-8475-e5bf77fbdfdf"
      },
      "source": [
        "gradient_boost = GradientBoostingRegressor(random_state=60)\n",
        "gradient_boost_mse = fit_and_evaluate(gradient_boost)\n",
        "\n",
        "print('Gradient Boosted Regression Performance on the test set: MSE = %0.4f' % gradient_boost_mse)"
      ],
      "execution_count": null,
      "outputs": [
        {
          "output_type": "stream",
          "text": [
            "Gradient Boosted Regression Performance on the test set: MSE = 382.0140\n"
          ],
          "name": "stdout"
        }
      ]
    },
    {
      "cell_type": "markdown",
      "metadata": {
        "id": "iz-Y4Qm1YQiZ"
      },
      "source": [
        "### 5.4.3 KNeighborsRegressor"
      ]
    },
    {
      "cell_type": "code",
      "metadata": {
        "colab": {
          "base_uri": "https://localhost:8080/"
        },
        "id": "KjPonZsPYQt7",
        "outputId": "135dfe3d-3b66-480b-a98a-e8477a72b301"
      },
      "source": [
        "knn = KNeighborsRegressor(n_neighbors=10)\n",
        "knn_mse = fit_and_evaluate(knn)\n",
        "\n",
        "print('K-Nearest Neighbors Regression Performance on the test set: MSE = %0.4f' % knn_mse)"
      ],
      "execution_count": null,
      "outputs": [
        {
          "output_type": "stream",
          "text": [
            "K-Nearest Neighbors Regression Performance on the test set: MSE = 519.7118\n"
          ],
          "name": "stdout"
        }
      ]
    },
    {
      "cell_type": "code",
      "metadata": {
        "colab": {
          "base_uri": "https://localhost:8080/"
        },
        "id": "7iq-lZPIYQ9e",
        "outputId": "9215bb7b-22c4-4dfe-c9c2-b5c0c0df478b"
      },
      "source": [
        "xgb_mse = round(mse(pred, y_test), 2)\n",
        "\n",
        "print('XGBRegressor Performance on the test set: MSE = %0.4f' % xgb_mse)"
      ],
      "execution_count": null,
      "outputs": [
        {
          "output_type": "stream",
          "text": [
            "XGBRegressor Performance on the test set: MSE = 366.6800\n"
          ],
          "name": "stdout"
        }
      ]
    },
    {
      "cell_type": "markdown",
      "metadata": {
        "id": "mYAaPCt9YQ12"
      },
      "source": [
        "### 5.4.4 Plotting metrics' results"
      ]
    },
    {
      "cell_type": "code",
      "metadata": {
        "colab": {
          "base_uri": "https://localhost:8080/",
          "height": 336
        },
        "id": "G87mqTCZYROx",
        "outputId": "e16d9077-f8e0-4803-fed3-a903dbe79930"
      },
      "source": [
        "fig = plt.figure()\n",
        "plt.style.use('seaborn-whitegrid')\n",
        "\n",
        "# Dataframe to hold the results\n",
        "model_comparison = pd.DataFrame({'model': ['Linear Regression', \n",
        "                                           'XGBRegressor',\n",
        "                                           'Random Forest', \n",
        "                                           'Gradient Boosting',\n",
        "                                           'K-Nearest Neighbors'],\n",
        "                                 'mse': [lr_mse, xgb_mse, random_forest_mse, \n",
        "                                         gradient_boost_mse, knn_mse]})\n",
        "\n",
        "# Horizontal bar chart of test mae\n",
        "model_comparison.sort_values('mse', \n",
        "                             ascending = False).plot(x = 'model', \n",
        "                                                     y = 'mse', \n",
        "                                                     kind = 'barh',\n",
        "                                                     color = 'blue', \n",
        "                                                     edgecolor = 'black')\n",
        "\n",
        "# Plot formatting\n",
        "plt.ylabel('') \n",
        "plt.yticks(size = 14)\n",
        "plt.xlabel('Mean Squared Error')\n",
        "plt.xticks(size = 14)\n",
        "plt.title('Model Comparison on Test MSE', size = 20)"
      ],
      "execution_count": null,
      "outputs": [
        {
          "output_type": "execute_result",
          "data": {
            "text/plain": [
              "Text(0.5, 1.0, 'Model Comparison on Test MSE')"
            ]
          },
          "metadata": {
            "tags": []
          },
          "execution_count": 54
        },
        {
          "output_type": "display_data",
          "data": {
            "text/plain": [
              "<Figure size 432x288 with 0 Axes>"
            ]
          },
          "metadata": {
            "tags": []
          }
        },
        {
          "output_type": "display_data",
          "data": {
            "image/png": "[encoded data removed]",
            "text/plain": [
              "<Figure size 432x288 with 1 Axes>"
            ]
          },
          "metadata": {
            "tags": []
          }
        }
      ]
    },
    {
      "cell_type": "markdown",
      "metadata": {
        "id": "pgGfNRN8YRHy"
      },
      "source": [
        "As we see, the Gradient-based model works well. And in this way, the XGBRegressor is the best one."
      ]
    },
    {
      "cell_type": "code",
      "metadata": {
        "id": "NupSdRTPZDuf"
      },
      "source": [
        "models = [lr, xgb, random_forest, gradient_boost, knn]"
      ],
      "execution_count": null,
      "outputs": []
    },
    {
      "cell_type": "code",
      "metadata": {
        "id": "rqDMnMS3ZDyf"
      },
      "source": [
        "# Function to evaluate models` mape\n",
        "def fit_and_evaluate_mape(model):\n",
        "    \n",
        "    # Train the model\n",
        "    model.fit(X_train, y_train)\n",
        "    \n",
        "    # Make predictions and evalute\n",
        "    model_pred = model.predict(X_test)\n",
        "    model_mape = mape(y_test, model_pred)\n",
        "    \n",
        "    # Return the performance metric\n",
        "    return model_mape"
      ],
      "execution_count": null,
      "outputs": []
    },
    {
      "cell_type": "code",
      "metadata": {
        "colab": {
          "base_uri": "https://localhost:8080/"
        },
        "id": "1alz78bVZGxA",
        "outputId": "2087ad40-a013-42be-abdc-3516bb0f1cf3"
      },
      "source": [
        "# Creating a new list\n",
        "mape_models = []\n",
        "for model in models:\n",
        "    model_mape = fit_and_evaluate_mape(model)\n",
        "    # writing the mape to the created list\n",
        "    mape_models.append(model_mape)"
      ],
      "execution_count": null,
      "outputs": [
        {
          "output_type": "stream",
          "text": [
            "[11:40:25] WARNING: /workspace/src/objective/regression_obj.cu:152: reg:linear is now deprecated in favor of reg:squarederror.\n"
          ],
          "name": "stdout"
        }
      ]
    },
    {
      "cell_type": "code",
      "metadata": {
        "colab": {
          "base_uri": "https://localhost:8080/"
        },
        "id": "yVDILb9LZG1s",
        "outputId": "847784e0-33f9-498d-a364-36e1510106a0"
      },
      "source": [
        "th = ['Model: ', 'Linear Regression', 'XGBRegressor', \n",
        "      'Random Forest', 'Gradient Boosting', 'K-Nearest Neighbors']\n",
        "td = ['Model Performance: ', str(round(mape_models[0], 3)), \n",
        "      str(round(mape_models[1], 3)), \n",
        "      str(round(mape_models[2], 3)), \n",
        "      str(round(mape_models[3], 3)), \n",
        "      str(round(mape_models[4], 3))]\n",
        "\n",
        "table_columns = len(th) \n",
        "table = PrettyTable(th) \n",
        "td_data = td[:]\n",
        "\n",
        "while td_data:\n",
        "    table.add_row(td_data[:table_columns])\n",
        "    td_data = td_data[table_columns:]\n",
        "\n",
        "print(table)"
      ],
      "execution_count": null,
      "outputs": [
        {
          "output_type": "stream",
          "text": [
            "+---------------------+-------------------+--------------+---------------+-------------------+---------------------+\n",
            "|       Model:        | Linear Regression | XGBRegressor | Random Forest | Gradient Boosting | K-Nearest Neighbors |\n",
            "+---------------------+-------------------+--------------+---------------+-------------------+---------------------+\n",
            "| Model Performance:  |        7.47       |     5.0      |     6.376     |        5.07       |        5.509        |\n",
            "+---------------------+-------------------+--------------+---------------+-------------------+---------------------+\n"
          ],
          "name": "stdout"
        }
      ]
    },
    {
      "cell_type": "code",
      "metadata": {
        "colab": {
          "base_uri": "https://localhost:8080/",
          "height": 336
        },
        "id": "RAo9e4aBZH3Y",
        "outputId": "ec028d01-e0cb-4707-c8d8-d29352957a11"
      },
      "source": [
        "fig = plt.figure()\n",
        "plt.style.use('seaborn-whitegrid')\n",
        "\n",
        "# Dataframe to hold the results\n",
        "model_comparison = pd.DataFrame({'model': ['Linear Regression', \n",
        "                                           'XGBRegressor',\n",
        "                                           'Random Forest', \n",
        "                                           'Gradient Boosting',\n",
        "                                            'K-Nearest Neighbors'],\n",
        "                                 'mape': [mape_models[0], mape_models[1], \n",
        "                                          mape_models[2], \n",
        "                                          mape_models[3], \n",
        "                                          mape_models[4]]})\n",
        "\n",
        "# Horizontal bar chart of test mae\n",
        "model_comparison.sort_values('mape', \n",
        "                             ascending = False).plot(x = 'model', \n",
        "                                                     y = 'mape', \n",
        "                                                     kind = 'barh',\n",
        "                                                     color = 'red', \n",
        "                                                     edgecolor = 'black')\n",
        "\n",
        "# Plot formatting\n",
        "plt.ylabel('')\n",
        "plt.yticks(size = 14)\n",
        "plt.xlabel('Mean Absolute Percentage Error')\n",
        "plt.xticks(size = 14)\n",
        "plt.title('Model Comparison on Test MAPE', size = 20)"
      ],
      "execution_count": null,
      "outputs": [
        {
          "output_type": "execute_result",
          "data": {
            "text/plain": [
              "Text(0.5, 1.0, 'Model Comparison on Test MAPE')"
            ]
          },
          "metadata": {
            "tags": []
          },
          "execution_count": 63
        },
        {
          "output_type": "display_data",
          "data": {
            "text/plain": [
              "<Figure size 432x288 with 0 Axes>"
            ]
          },
          "metadata": {
            "tags": []
          }
        },
        {
          "output_type": "display_data",
          "data": {
            "image/png": "[encoded data removed]",
            "text/plain": [
              "<Figure size 432x288 with 1 Axes>"
            ]
          },
          "metadata": {
            "tags": []
          }
        }
      ]
    },
    {
      "cell_type": "markdown",
      "metadata": {
        "id": "HNh2YLoVZSm6"
      },
      "source": [
        "Let's choose the XGBRegressor as the best one."
      ]
    },
    {
      "cell_type": "markdown",
      "metadata": {
        "id": "JDf7MvcCby7G"
      },
      "source": [
        "## 5.5 Visualizing the final results in the full real dataset"
      ]
    },
    {
      "cell_type": "code",
      "metadata": {
        "id": "R5QlHooEa_VY"
      },
      "source": [
        "Y_pred = xgb.predict(df.loc[:, 'т2267':'техн104'])"
      ],
      "execution_count": null,
      "outputs": []
    },
    {
      "cell_type": "code",
      "metadata": {
        "id": "ZvrTnQuGcb2q"
      },
      "source": [
        "# Creating new DataFrame for visualization:\n",
        "df_time_final = pd.DataFrame(df['V_DATE'])\n",
        "df_pred_final = pd.DataFrame(Y_pred, columns=['Prediction of т2263'])\n",
        "df_real_final = pd.DataFrame(df['т2263'])\n",
        "\n",
        "# Concating in one DataFrame\n",
        "df_final_result = pd.concat([df_time_final,\n",
        "                             df_real_final, \n",
        "                             df_pred_final], axis=1)"
      ],
      "execution_count": null,
      "outputs": []
    },
    {
      "cell_type": "code",
      "metadata": {
        "id": "UJKhcNmDcf4P"
      },
      "source": [
        "# Converting into numpy the real column to calculate the metrics\n",
        "Y_test_final = df_real_final.to_numpy()"
      ],
      "execution_count": null,
      "outputs": []
    },
    {
      "cell_type": "code",
      "metadata": {
        "id": "pXhNlfVRcf7w"
      },
      "source": [
        "# Creating a list with columns\n",
        "cols_final = []\n",
        "for column in df_final_result.columns:\n",
        "    cols_final.append(column)"
      ],
      "execution_count": null,
      "outputs": []
    },
    {
      "cell_type": "markdown",
      "metadata": {
        "id": "kMTTTEP5zIls"
      },
      "source": [
        "**The final result on predicted values (unseen data start from 11 of December 2020 year)**:"
      ]
    },
    {
      "cell_type": "code",
      "metadata": {
        "id": "SdQ3aJxhcoWO"
      },
      "source": [
        "# Visualizing the data with predictions\n",
        "fig = go.Figure()\n",
        "# Train part\n",
        "fig.add_trace(go.Scatter(name='т2263 train part', \n",
        "                         x=df_final_result.loc[:190219, 'V_DATE'], \n",
        "                         y=df_final_result.loc[:190219, 'т2263']))\n",
        "\n",
        "fig.add_trace(go.Scatter(name='Prediction of т2263 on train set', \n",
        "                         x=df_final_result.loc[:190219, 'V_DATE'], \n",
        "                         y=df_final_result.loc[:190219, \n",
        "                                               'Prediction of т2263']))\n",
        "# Test part\n",
        "fig.add_trace(go.Scatter(name='т2263 test part', \n",
        "                         x=df_final_result.loc[190219:, 'V_DATE'], \n",
        "                         y=df_final_result.loc[190219:, 'т2263']))\n",
        "\n",
        "fig.add_trace(go.Scatter(name='Prediction of т2263 on test set', \n",
        "                         x=df_final_result.loc[190219:, 'V_DATE'], \n",
        "                         y=df_final_result.loc[190219:, \n",
        "                                               'Prediction of т2263']))\n",
        "\n",
        "fig.update_layout(width=1600, height=1200, \n",
        "                  title_text=\"Final prediction result\")\n",
        "fig.write_html(\"html/final_res.html\") # Find it in the html folder"
      ],
      "execution_count": null,
      "outputs": []
    },
    {
      "cell_type": "markdown",
      "metadata": {
        "id": "9g42gDAR8_ZG"
      },
      "source": [
        "![Final result](https://github.com/aleksandryessin/Regression_test_task/blob/main/images/Final_result.png?raw=true)"
      ]
    },
    {
      "cell_type": "markdown",
      "metadata": {
        "id": "oBCBMv80cspq"
      },
      "source": [
        "Looking at the chart, we may conclude that the model operates well on stationary regimes."
      ]
    },
    {
      "cell_type": "markdown",
      "metadata": {
        "id": "6xJB7AcocswT"
      },
      "source": [
        "## 5.6 Calculating the metrics for the whole dataset"
      ]
    },
    {
      "cell_type": "code",
      "metadata": {
        "colab": {
          "base_uri": "https://localhost:8080/"
        },
        "id": "_iyqATihdDzu",
        "outputId": "cbdc9f4d-05c8-495b-822b-241cc82d30fd"
      },
      "source": [
        "# Put the results in the table\n",
        "Y_pred_final = xgb.predict(X)\n",
        "Y_test_final = Y\n",
        "th = ['Metrics: ', 'Mean squared error', 'Mean absolute error', \n",
        "      'Mean absolute percentage error']\n",
        "td = ['Results: ', str(round(mse(Y_pred_final, Y_test_final), 3)), \n",
        "      str(round(mae(Y_pred_final, Y_test_final), 3)),\n",
        "      str(round(mape(Y_pred_final, Y_test_final), 3))]\n",
        "\n",
        "table_columns = len(th) \n",
        "table = PrettyTable(th) \n",
        "td_data = td[:]\n",
        "\n",
        "while td_data:\n",
        "    table.add_row(td_data[:table_columns])\n",
        "    td_data = td_data[table_columns:]\n",
        "\n",
        "print(table)"
      ],
      "execution_count": null,
      "outputs": [
        {
          "output_type": "stream",
          "text": [
            "+-----------+--------------------+---------------------+--------------------------------+\n",
            "| Metrics:  | Mean squared error | Mean absolute error | Mean absolute percentage error |\n",
            "+-----------+--------------------+---------------------+--------------------------------+\n",
            "| Results:  |      291.854       |        12.966       |             4.619              |\n",
            "+-----------+--------------------+---------------------+--------------------------------+\n"
          ],
          "name": "stdout"
        }
      ]
    },
    {
      "cell_type": "markdown",
      "metadata": {
        "id": "u0ObNQzQdO3x"
      },
      "source": [
        "# 6 Final Resume"
      ]
    },
    {
      "cell_type": "markdown",
      "metadata": {
        "id": "yZpXB3w3dPMe"
      },
      "source": [
        "Using a simple **XGBRegressor** model the result is good enough:\n",
        "\n",
        "`~4.6%` for the whole preprocessed dataset;\n",
        "\n",
        "`~5%` for the test dataset;\n",
        "\n",
        "The model itself is **good**. I can explain that the **XGBRegressor** implements parallel processing faster than gradient boosting, which is very important. It is also very flexible in terms of optimizing goals and evaluation criteria and is cross-validated. Despite the good model operation, it still has to be improved for commercial purposes. In that case, we can try out more complicated models in the future (e.g., CNN, RNN, or LSTM), or maybe it's enough just to tune the parameters of **XGBRegressor**."
      ]
    },
    {
      "cell_type": "markdown",
      "metadata": {
        "id": "ei_FFPgddem0"
      },
      "source": [
        ""
      ]
    }
  ]
}